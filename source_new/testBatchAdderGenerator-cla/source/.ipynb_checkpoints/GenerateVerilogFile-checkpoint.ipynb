{
 "cells": [
  {
   "cell_type": "markdown",
   "metadata": {},
   "source": [
    "## Write to Multiple Verilog Files"
   ]
  },
  {
   "cell_type": "code",
   "execution_count": 1,
   "metadata": {},
   "outputs": [],
   "source": [
    "for i in range(4,17):\n",
    "    with open('cla_{}bit.v'.format(i), 'w') as f:\n",
    "        f.write('''`include \"full_adder.v\"\n",
    " \n",
    "module carry_lookahead_adder_{}bit\n",
    "  #(parameter WIDTH = {})\n",
    "  (\n",
    "   input [WIDTH-1:0] i_add1,\n",
    "   input [WIDTH-1:0] i_add2,\n",
    "   output [WIDTH:0]  o_result\n",
    "   );\n",
    "     \n",
    "  wire [WIDTH:0]     w_C;\n",
    "  wire [WIDTH-1:0]   w_G, w_P, w_SUM;\n",
    " \n",
    "  // Create the Full Adders\n",
    "  genvar             ii;\n",
    "  generate\n",
    "    for (ii=0; ii<WIDTH; ii=ii+1) \n",
    "      begin\n",
    "        full_adder full_adder_inst\n",
    "            ( \n",
    "              .i_bit1(i_add1[ii]),\n",
    "              .i_bit2(i_add2[ii]),\n",
    "              .i_carry(w_C[ii]),\n",
    "              .o_sum(w_SUM[ii]),\n",
    "              .o_carry()\n",
    "              );\n",
    "      end\n",
    "  endgenerate\n",
    " \n",
    "  // Create the Generate (G) Terms:  Gi=Ai*Bi\n",
    "  // Create the Propagate Terms: Pi=Ai+Bi\n",
    "  // Create the Carry Terms:\n",
    "  genvar             jj;\n",
    "  generate\n",
    "    for (jj=0; jj<WIDTH; jj=jj+1) \n",
    "      begin\n",
    "        assign w_G[jj]   = i_add1[jj] & i_add2[jj];\n",
    "        assign w_P[jj]   = i_add1[jj] | i_add2[jj];\n",
    "        assign w_C[jj+1] = w_G[jj] | (w_P[jj] & w_C[jj]);\n",
    "      end\n",
    "  endgenerate\n",
    "   \n",
    "  assign w_C[0] = 1'b0; // no carry input on first adder\n",
    " \n",
    "  assign o_result = {{w_C[WIDTH], w_SUM}};   // Verilog Concatenation\n",
    " \n",
    "endmodule // carry_lookahead_adder'''.format(i,i))\n",
    "    "
   ]
  },
  {
   "cell_type": "markdown",
   "metadata": {},
   "source": [
    "## Write Bash Script"
   ]
  },
  {
   "cell_type": "code",
   "execution_count": 3,
   "metadata": {},
   "outputs": [],
   "source": [
    "with open('cla_synthesis.sh','w') as f:\n",
    "    f.write('#!/bin/bash\\n')\n",
    "    for i in range(4,17):\n",
    "        f.write('qflow synthesize carry_lookahead_adder_{}bit\\n'.format(i))"
   ]
  },
  {
   "cell_type": "markdown",
   "metadata": {},
   "source": [
    "## End"
   ]
  }
 ],
 "metadata": {
  "kernelspec": {
   "display_name": "Python 3",
   "language": "python",
   "name": "python3"
  },
  "language_info": {
   "codemirror_mode": {
    "name": "ipython",
    "version": 3
   },
   "file_extension": ".py",
   "mimetype": "text/x-python",
   "name": "python",
   "nbconvert_exporter": "python",
   "pygments_lexer": "ipython3",
   "version": "3.7.3"
  },
  "toc": {
   "base_numbering": 1,
   "nav_menu": {},
   "number_sections": false,
   "sideBar": true,
   "skip_h1_title": false,
   "title_cell": "Table of Contents",
   "title_sidebar": "Contents",
   "toc_cell": false,
   "toc_position": {},
   "toc_section_display": true,
   "toc_window_display": true
  }
 },
 "nbformat": 4,
 "nbformat_minor": 2
}
