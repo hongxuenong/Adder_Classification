{
 "cells": [
  {
   "cell_type": "markdown",
   "metadata": {},
   "source": [
    "## Write to Multiple Verilog Files"
   ]
  },
  {
   "cell_type": "code",
   "execution_count": 1,
   "metadata": {},
   "outputs": [],
   "source": [
    "for i in range(4,65):\n",
    "    if i%4==0:\n",
    "        with open('source/cskipa_{}bit.v'.format(i), 'w') as f:\n",
    "            f.write('''`include \"CSkip.v\"\n",
    "\n",
    "module CSkipA_{}bit\n",
    "    #(parameter WIDTH = {})\n",
    "  (\n",
    "      input [WIDTH-1:0] i_add_term1,\n",
    "      input [WIDTH-1:0] i_add_term2,\n",
    "      output [WIDTH-1:0]  sum,\n",
    "      output cout\n",
    "   );\n",
    "  \n",
    "  wire [WIDTH/4-1:0]     w_cout;\n",
    "  \n",
    "  wire [WIDTH-1:0]     w_SUM_0;\n",
    "  wire [WIDTH-1:0]     w_SUM_1;\n",
    "  \n",
    "  wire cout0;\n",
    "\n",
    "  RCA4 rca_inst(.o_result(sum[3:0]), .cout(cout0), .i_add_term1(i_add_term1[3:0]), .i_add_term2(i_add_term2[3:0]), .cin(1'b0));\n",
    "  SkipLogic4 skip0(.cin_next(w_cout[0]), .i_add_term1(i_add_term1[3:0]), .i_add_term2(i_add_term2[3:0]), .cin(1'b0), .cout(cout0));\n",
    "\n",
    "  genvar             ii;\n",
    "  generate \n",
    "      for (ii=1; ii<WIDTH/4; ii=ii+1) \n",
    "      begin\n",
    "          CSkip4 cskip4_inst(sum[(ii+1)*4-1:ii*4], w_cout[ii], i_add_term1[(ii+1)*4-1:ii*4],i_add_term2[(ii+1)*4-1:ii*4],w_cout[ii-1]);  \n",
    "          \n",
    "       end\n",
    "  endgenerate\n",
    "\n",
    "    assign cout=w_cout[WIDTH/4-1];\n",
    "\n",
    "endmodule'''.format(i,i))\n",
    "    "
   ]
  },
  {
   "cell_type": "code",
   "execution_count": 2,
   "metadata": {},
   "outputs": [],
   "source": [
    "import math\n",
    "for i in range(4,65):\n",
    "    if i%4!=0:\n",
    "        with open('source/cskipa_{}bit.v'.format(i), 'w') as f:\n",
    "            f.write('''`include \"CSkip.v\"\n",
    "\n",
    "module CSkipA_{}bit\n",
    "    #(parameter WIDTH = {})\n",
    "  (\n",
    "      input [WIDTH-1:0] i_add_term1,\n",
    "      input [WIDTH-1:0] i_add_term2,\n",
    "      output [WIDTH-1:0]  sum,\n",
    "      output cout\n",
    "   );\n",
    "  \n",
    "  wire [WIDTH/4+1:0]     w_cout;\n",
    "  \n",
    "  assign w_cout[0]=1'b0;\n",
    "\n",
    "  genvar             ii;\n",
    "  generate \n",
    "      for (ii=0; ii<WIDTH/4; ii=ii+1) \n",
    "      begin\n",
    "          CSkip4 cskip4_inst(sum[(ii+1)*4-1:ii*4], w_cout[ii+1], i_add_term1[(ii+1)*4-1:ii*4],i_add_term2[(ii+1)*4-1:ii*4],w_cout[ii]);  \n",
    "          \n",
    "       end\n",
    "  endgenerate\n",
    "  \n",
    "  CSkip{} cskip{}_inst(sum[WIDTH-1:WIDTH-WIDTH%4],w_cout[WIDTH/4+1],i_add_term1[WIDTH-1:WIDTH-WIDTH%4],i_add_term2[WIDTH-1:WIDTH-WIDTH%4],w_cout[WIDTH/4]);\n",
    "  \n",
    "  assign cout=w_cout[WIDTH/4+1];\n",
    "endmodule'''.format(i,i,i%4,i%4))\n",
    "    "
   ]
  },
  {
   "cell_type": "markdown",
   "metadata": {},
   "source": [
    "## Write Bash Script"
   ]
  },
  {
   "cell_type": "code",
   "execution_count": 3,
   "metadata": {},
   "outputs": [],
   "source": [
    "with open('CSkipA_synthesis.sh','w') as f:\n",
    "    f.write('#!/bin/bash\\n')\n",
    "    for i in range(4,65):\n",
    "        f.write('qflow synthesize CSkipA_{}bit\\n'.format(i))"
   ]
  },
  {
   "cell_type": "markdown",
   "metadata": {},
   "source": [
    "## End"
   ]
  }
 ],
 "metadata": {
  "kernelspec": {
   "display_name": "Python 3",
   "language": "python",
   "name": "python3"
  },
  "language_info": {
   "codemirror_mode": {
    "name": "ipython",
    "version": 3
   },
   "file_extension": ".py",
   "mimetype": "text/x-python",
   "name": "python",
   "nbconvert_exporter": "python",
   "pygments_lexer": "ipython3",
   "version": "3.7.6"
  },
  "toc": {
   "base_numbering": 1,
   "nav_menu": {},
   "number_sections": false,
   "sideBar": true,
   "skip_h1_title": false,
   "title_cell": "Table of Contents",
   "title_sidebar": "Contents",
   "toc_cell": false,
   "toc_position": {},
   "toc_section_display": true,
   "toc_window_display": true
  }
 },
 "nbformat": 4,
 "nbformat_minor": 4
}
