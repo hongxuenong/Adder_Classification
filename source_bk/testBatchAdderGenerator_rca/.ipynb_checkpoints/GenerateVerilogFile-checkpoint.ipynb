{
 "cells": [
  {
   "cell_type": "markdown",
   "metadata": {},
   "source": [
    "## Write to Multiple Verilog Files"
   ]
  },
  {
   "cell_type": "code",
   "execution_count": 5,
   "metadata": {},
   "outputs": [],
   "source": [
    "for i in range(4,17):\n",
    "    with open('rca_{}bit.v'.format(i), 'w') as f:\n",
    "        f.write('''`include \"full_adder.v\"\n",
    " \n",
    "module ripple_carry_adder_{}bit \n",
    "  #(parameter WIDTH = {})\n",
    "  (\n",
    "   input [WIDTH-1:0] i_add_term1,\n",
    "   input [WIDTH-1:0] i_add_term2,\n",
    "   output [WIDTH:0]  o_result\n",
    "   );\n",
    "     \n",
    "  wire [WIDTH:0]     w_CARRY;\n",
    "  wire [WIDTH-1:0]   w_SUM;\n",
    "   \n",
    "  // No carry input on first full adder  \n",
    "  assign w_CARRY[0] = 1'b0;        \n",
    "   \n",
    "  genvar             ii;\n",
    "  generate \n",
    "    for (ii=0; ii<WIDTH; ii=ii+1) \n",
    "      begin\n",
    "        full_adder full_adder_inst\n",
    "            ( \n",
    "              .i_bit1(i_add_term1[ii]),\n",
    "              .i_bit2(i_add_term2[ii]),\n",
    "              .i_carry(w_CARRY[ii]),\n",
    "              .o_sum(w_SUM[ii]),\n",
    "              .o_carry(w_CARRY[ii+1])\n",
    "              );\n",
    "      end\n",
    "  endgenerate\n",
    "   \n",
    "  assign o_result = {{w_CARRY[WIDTH], w_SUM}};   // Verilog Concatenation\n",
    " \n",
    "endmodule // ripple_carry_adder'''.format(i,i))\n",
    "    "
   ]
  },
  {
   "cell_type": "markdown",
   "metadata": {},
   "source": [
    "## Write Bash Script"
   ]
  },
  {
   "cell_type": "code",
   "execution_count": 6,
   "metadata": {},
   "outputs": [],
   "source": [
    "with open('rca_synthesis.sh','w') as f:\n",
    "    f.write('#!/bin/bash\\n')\n",
    "    for i in range(4,17):\n",
    "        f.write('qflow synthesize ripple_carry_adder_{}bit\\n'.format(i))"
   ]
  },
  {
   "cell_type": "markdown",
   "metadata": {},
   "source": [
    "## End"
   ]
  }
 ],
 "metadata": {
  "kernelspec": {
   "display_name": "Python 3",
   "language": "python",
   "name": "python3"
  },
  "language_info": {
   "codemirror_mode": {
    "name": "ipython",
    "version": 3
   },
   "file_extension": ".py",
   "mimetype": "text/x-python",
   "name": "python",
   "nbconvert_exporter": "python",
   "pygments_lexer": "ipython3",
   "version": "3.7.3"
  },
  "toc": {
   "base_numbering": 1,
   "nav_menu": {},
   "number_sections": false,
   "sideBar": true,
   "skip_h1_title": false,
   "title_cell": "Table of Contents",
   "title_sidebar": "Contents",
   "toc_cell": false,
   "toc_position": {},
   "toc_section_display": true,
   "toc_window_display": true
  }
 },
 "nbformat": 4,
 "nbformat_minor": 2
}
