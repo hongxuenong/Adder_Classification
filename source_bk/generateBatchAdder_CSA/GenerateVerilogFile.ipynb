{
 "cells": [
  {
   "cell_type": "markdown",
   "metadata": {},
   "source": [
    "## Write to Multiple Verilog Files"
   ]
  },
  {
   "cell_type": "code",
   "execution_count": 3,
   "metadata": {},
   "outputs": [],
   "source": [
    "for i in range(4,65):\n",
    "    if i%4==0:\n",
    "        with open('source/csa_{}bit.v'.format(i), 'w') as f:\n",
    "            f.write('''`include \"CSA4.v\"\n",
    " \n",
    "module csa_{}bit\n",
    "    #(parameter WIDTH = {})\n",
    "  (\n",
    "      input [WIDTH-1:0] i_add_term1,\n",
    "      input [WIDTH-1:0] i_add_term2,\n",
    "      output [WIDTH-1:0]  sum,\n",
    "      output cout\n",
    "   );\n",
    "  \n",
    "  wire [WIDTH/4-1:0]     w_cout;\n",
    "  \n",
    "  wire [WIDTH-1:0]     w_SUM_0;\n",
    "  wire [WIDTH-1:0]     w_SUM_1;\n",
    "  \n",
    "\n",
    "  RCA4 rca_inst(.o_result(sum[3:0]), .cout(w_cout[0]), .i_add_term1(i_add_term1[3:0]), .i_add_term2(i_add_term2[3:0]), .cin(1'b0));\n",
    "  \n",
    "  genvar             ii;\n",
    "  generate \n",
    "      for (ii=1; ii<WIDTH/4; ii=ii+1) \n",
    "      begin\n",
    "          CSA4 csa_inst(sum[(ii+1)*4-1:ii*4], w_cout[ii], i_add_term1[(ii+1)*4-1:ii*4],i_add_term2[(ii+1)*4-1:ii*4],w_cout[ii-1]);  \n",
    "          //CSA4 csa_inst(sum[bit_remain+(4*ii)-1:bit_remain+4*(ii-1)], w_cout[ii], i_add_term1[bit_remain+(4*ii)-1:bit_remain+4*(ii-1)],i_add_term2[bit_remain+(4*ii)-1:bit_remain+4*(ii-1)],w_cout[ii-1]);  \n",
    "      end\n",
    "  endgenerate\n",
    "\n",
    "    assign cout=w_cout[WIDTH/4-1];\n",
    "endmodule  // ripple_carry_adder'''.format(i,i))\n",
    "    "
   ]
  },
  {
   "cell_type": "code",
   "execution_count": 2,
   "metadata": {},
   "outputs": [],
   "source": [
    "for i in range(4,65):\n",
    "    if i%4!=0:\n",
    "        with open('source/csa_{}bit.v'.format(i), 'w') as f:\n",
    "            f.write('''`include \"CSA4.v\"\n",
    "module csa_{}bit \n",
    "    #(parameter WIDTH = {}, \n",
    "      parameter bit_remain = {})\n",
    "  (\n",
    "      input [WIDTH-1:0] i_add_term1,\n",
    "      input [WIDTH-1:0] i_add_term2,\n",
    "      output [WIDTH-1:0]  sum,\n",
    "      output cout\n",
    "   );\n",
    "  \n",
    "  //wire [WIDTH/4-1:0]     w_cout;\n",
    "  wire [WIDTH/4:0]     w_cout;\n",
    "  wire [WIDTH-1:0]     w_SUM_0;\n",
    "  wire [WIDTH-1:0]     w_SUM_1;\n",
    "  \n",
    "\n",
    "  RCA4 rca_inst(.o_result(sum[3:0]), .cout(w_cout[0]), .i_add_term1(i_add_term1[3:0]), .i_add_term2(i_add_term2[3:0]), .cin(1'b0));\n",
    "  \n",
    "  genvar             ii;\n",
    "  generate \n",
    "      for (ii=1; ii<WIDTH/4; ii=ii+1) \n",
    "      begin\n",
    "          CSA4 csa_inst(sum[(ii+1)*4-1:ii*4], w_cout[ii], i_add_term1[(ii+1)*4-1:ii*4],i_add_term2[(ii+1)*4-1:ii*4],w_cout[ii-1]);  \n",
    "          //CSA4 csa_inst(sum[bit_remain+(4*ii)-1:bit_remain+4*(ii-1)], w_cout[ii], i_add_term1[bit_remain+(4*ii)-1:bit_remain+4*(ii-1)],i_add_term2[bit_remain+(4*ii)-1:bit_remain+4*(ii-1)],w_cout[ii-1]);  \n",
    "      end\n",
    "  endgenerate\n",
    "  CSA{} csa_inst(sum[WIDTH-1:WDITH-bit_remain], w_cout[WIDTH/4], i_add_term1[WIDTH-1:WIDTH-bit_remain],i_add_term2[WIDTH-1:WIDTH-bit_remain],w_cout[WIDTH/4-1]);  \n",
    "\n",
    "    assign cout=w_cout[WIDTH/4];\n",
    "endmodule // csa'''.format(i,i,i%4,i%4))\n",
    "    "
   ]
  },
  {
   "cell_type": "markdown",
   "metadata": {},
   "source": [
    "## Write Bash Script"
   ]
  },
  {
   "cell_type": "code",
   "execution_count": 8,
   "metadata": {},
   "outputs": [],
   "source": [
    "with open('../csa_synthesis.sh','w') as f:\n",
    "    f.write('#!/bin/bash\\n')\n",
    "    for i in range(4,65):\n",
    "        f.write('qflow synthesize csa_{}bit\\n'.format(i))"
   ]
  },
  {
   "cell_type": "markdown",
   "metadata": {},
   "source": [
    "## End"
   ]
  }
 ],
 "metadata": {
  "kernelspec": {
   "display_name": "Python 3",
   "language": "python",
   "name": "python3"
  },
  "language_info": {
   "codemirror_mode": {
    "name": "ipython",
    "version": 3
   },
   "file_extension": ".py",
   "mimetype": "text/x-python",
   "name": "python",
   "nbconvert_exporter": "python",
   "pygments_lexer": "ipython3",
   "version": "3.7.3"
  },
  "toc": {
   "base_numbering": 1,
   "nav_menu": {},
   "number_sections": false,
   "sideBar": true,
   "skip_h1_title": false,
   "title_cell": "Table of Contents",
   "title_sidebar": "Contents",
   "toc_cell": false,
   "toc_position": {},
   "toc_section_display": true,
   "toc_window_display": true
  }
 },
 "nbformat": 4,
 "nbformat_minor": 2
}
