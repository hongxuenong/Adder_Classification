{
 "cells": [
  {
   "cell_type": "code",
   "execution_count": 1,
   "metadata": {},
   "outputs": [],
   "source": [
    "%matplotlib inline"
   ]
  },
  {
   "cell_type": "markdown",
   "metadata": {},
   "source": [
    "## Setup GPU Device"
   ]
  },
  {
   "cell_type": "code",
   "execution_count": 37,
   "metadata": {},
   "outputs": [],
   "source": [
    "import random\n",
    "import os\n",
    "import matplotlib.pyplot as plt\n",
    "import networkx as nx\n",
    "import csv\n",
    "import numpy as np\n",
    "\n",
    "import dgl\n",
    "import dgl.function as fn\n",
    "import torch\n",
    "import torch.nn as nn\n",
    "import torch.nn.functional as F\n",
    "import torch.optim as optim\n",
    "from torch.utils.data import DataLoader\n",
    "import torch\n",
    "from torch_geometric.data import InMemoryDataset\n",
    "from torch_geometric.nn import GCNConv,GATConv\n",
    "from gnnexplainer import GNNExplainer\n",
    "\n",
    "\n",
    "\n",
    "def collate(samples):\n",
    "    # The input `samples` is a list of pairs\n",
    "    #  (graph, label).\n",
    "    graphs, labels = map(list, zip(*samples))\n",
    "    batched_graph = dgl.batch(graphs)\n",
    "    return batched_graph, torch.tensor(labels)\n",
    "\n",
    "        \n",
    "def reduce(nodes):\n",
    "    \"\"\"Take an average over all neighbor node features hu and use it to\n",
    "    overwrite the original node feature.\"\"\"\n",
    "    accum = torch.mean(nodes.mailbox['m'], 1)\n",
    "    return {'h': accum}\n",
    "\n",
    "class NodeApplyModule(nn.Module):\n",
    "    \"\"\"Update the node feature hv with ReLU(Whv+b).\"\"\"\n",
    "    def __init__(self, in_feats, out_feats, activation):\n",
    "        super(NodeApplyModule, self).__init__()\n",
    "        self.linear = nn.Linear(in_feats, out_feats)\n",
    "        self.activation = activation\n",
    "\n",
    "    def forward(self, node):\n",
    "        h = self.linear(node.data['h'])\n",
    "        h = self.activation(h)\n",
    "        return {'h' : h}\n",
    "\n",
    "class GCN(nn.Module):\n",
    "    def __init__(self, in_feats, out_feats, activation):\n",
    "        super(GCN, self).__init__()\n",
    "        self.apply_mod = NodeApplyModule(in_feats, out_feats, activation)\n",
    "\n",
    "    def forward(self, g, feature):\n",
    "        # Initialize the node features with h.\n",
    "        g.ndata['h'] = feature\n",
    "        g.update_all(msg, reduce)\n",
    "        g.apply_nodes(func=self.apply_mod)\n",
    "        return g.ndata.pop('h')\n",
    "    \n",
    "class PYGNet(torch.nn.Module):\n",
    "    def __init__(self,in_dim, hidden_dim, n_classes):\n",
    "        super(PYGNet, self).__init__()\n",
    "#         self.lin = Sequential(Linear(10, 10))\n",
    "        self.conv1 = GCNConv(in_dim, hidden_dim)\n",
    "        self.conv2 = GCNConv(hidden_dim, hidden_dim)\n",
    "        self.classify = nn.Linear(hidden_dim, n_classes)\n",
    "\n",
    "    def forward(self, x, edge_index):\n",
    "        x = F.relu(self.conv1(x, edge_index))\n",
    "#         x = F.dropout(x, training=self.training)\n",
    "        x = F.relu(self.conv2(x, edge_index))\n",
    "        x = torch.mean(x, 0, True)\n",
    "        return self.classify(x)\n",
    "    \n",
    "class Classifier(nn.Module):\n",
    "    def __init__(self, in_dim, hidden_dim, n_classes):\n",
    "        super(Classifier, self).__init__()\n",
    "\n",
    "        self.layers = nn.ModuleList([\n",
    "            GCN(in_dim, hidden_dim, F.relu),\n",
    "            GCN(hidden_dim, hidden_dim, F.relu)])\n",
    "        self.classify = nn.Linear(hidden_dim, n_classes)\n",
    "\n",
    "    def forward(self, g):\n",
    "        # For undirected graphs, in_degree is the same as\n",
    "        # out_degree.\n",
    "        h = g.in_degrees().view(-1, 1).float()\n",
    "        for conv in self.layers:\n",
    "            h = conv(g, h)\n",
    "        g.ndata['h'] = h\n",
    "        hg = dgl.mean_nodes(g, 'h')\n",
    "        return self.classify(hg)\n",
    "#Remove redundant edges from edge list based on sampled node list\n",
    "def remove_edges(node_list,edge_list):\n",
    "    \n",
    "    edge_list_keep = []\n",
    "    for i in edge_list:\n",
    "        cnt=0\n",
    "        for j in i:\n",
    "            if [j] in node_list:\n",
    "                cnt=cnt+1\n",
    "            if cnt==2:\n",
    "                edge_list_keep.append(i)\n",
    "                \n",
    "    return edge_list_keep\n",
    "\n",
    "#Map edge_list_keep to new node labels\n",
    "def map_edge_list_keep(edge_list_keep,node_list_keep):\n",
    "    \n",
    "    edge_list_keep_mapped = []\n",
    "    for i in edge_list_keep:\n",
    "        edge_list_keep_mapped.append([node_list_keep.index([i[0]]),node_list_keep.index([i[1]])])\n",
    "\n",
    "    return edge_list_keep_mapped"
   ]
  },
  {
   "cell_type": "code",
   "execution_count": 30,
   "metadata": {},
   "outputs": [],
   "source": [
    "import os\n",
    "#Set GPU IDs for training:\n",
    "os.environ[\"CUDA_VISIBLE_DEVICES\"] = '1'"
   ]
  },
  {
   "cell_type": "code",
   "execution_count": 31,
   "metadata": {},
   "outputs": [],
   "source": [
    "\n",
    "def build_circuit_graph_undirected(node_list,edge_list):\n",
    "    g = dgl.DGLGraph()\n",
    "    g.add_nodes(len(node_list))\n",
    "    src, dst = tuple(zip(*edge_list))\n",
    "    g.add_edges(src, dst)\n",
    "    g.add_edges(dst, src)\n",
    "    return g\n",
    "\n",
    "def build_circuit_graph_directed_sd(node_list,edge_list):\n",
    "    g = dgl.DGLGraph()\n",
    "    g.add_nodes(len(node_list))\n",
    "    src, dst = tuple(zip(*edge_list))\n",
    "    g.add_edges(src, dst)\n",
    "    return g\n",
    "\n",
    "def build_circuit_graph_directed_ds(node_list,edge_list):\n",
    "    g = dgl.DGLGraph()\n",
    "    g.add_nodes(len(node_list))\n",
    "    src, dst = tuple(zip(*edge_list))\n",
    "    g.add_edges(dst, src)\n",
    "    return g\n"
   ]
  },
  {
   "cell_type": "markdown",
   "metadata": {},
   "source": [
    "### Choose Number of Training Samples"
   ]
  },
  {
   "cell_type": "markdown",
   "metadata": {},
   "source": [
    "### Train Test Split"
   ]
  },
  {
   "cell_type": "code",
   "execution_count": 10,
   "metadata": {},
   "outputs": [],
   "source": [
    "random.seed(1) #original=0\n",
    "training_size = 10\n",
    "training_idx = random.sample(list(range(5,65)), training_size) #exclude 4-bit adders\n",
    "test_idx = [item for item in list(range(5,65)) if item not in training_idx]"
   ]
  },
  {
   "cell_type": "code",
   "execution_count": 11,
   "metadata": {},
   "outputs": [
    {
     "data": {
      "text/plain": [
       "[13, 41, 59, 56, 53, 9, 21, 12, 36, 60]"
      ]
     },
     "execution_count": 11,
     "metadata": {},
     "output_type": "execute_result"
    }
   ],
   "source": [
    "training_idx"
   ]
  },
  {
   "cell_type": "code",
   "execution_count": 12,
   "metadata": {},
   "outputs": [
    {
     "data": {
      "text/plain": [
       "(10, 50)"
      ]
     },
     "execution_count": 12,
     "metadata": {},
     "output_type": "execute_result"
    }
   ],
   "source": [
    "len(training_idx),len(test_idx)"
   ]
  },
  {
   "cell_type": "markdown",
   "metadata": {},
   "source": [
    "## Pick Training Data"
   ]
  },
  {
   "cell_type": "code",
   "execution_count": 13,
   "metadata": {},
   "outputs": [
    {
     "name": "stdout",
     "output_type": "stream",
     "text": [
      "[59 36 53 60 41 21 12 56 13  9] [59 36 53 60 41 21 12 56 13  9] [59 36 53 60 41 21 12 56 13  9] [59 36 53 60 41 21 12 56 13  9]\n"
     ]
    }
   ],
   "source": [
    "\n",
    "dir = '/home/gpu-user-02/hdd/LT-user/Adder_Classification/main/preprocessing/processed_training_data'\n",
    "\n",
    "trainset=[]\n",
    "labels=[]\n",
    "#for filename in os.listdir(dir):\n",
    "np.random.seed(0) #original=1\n",
    "sample_size = 10\n",
    "# training_idx = np.random.randint(4,64,10)\n",
    "training_idx_1 = np.random.choice(training_idx, size=sample_size, replace=False)\n",
    "# training_idx_2 = np.random.choice(training_idx, size=sample_size, replace=False)\n",
    "# training_idx_3 = np.random.choice(training_idx, size=sample_size, replace=False)\n",
    "# training_idx_4 = np.random.choice(training_idx, size=sample_size, replace=False)\n",
    "\n",
    "training_idx_2 = training_idx_1\n",
    "training_idx_3 = training_idx_1\n",
    "training_idx_4 = training_idx_1\n",
    "# training_idx_1 = [6]\n",
    "# training_idx_2 = [6]\n",
    "# training_idx_3 = [6]\n",
    "# training_idx_4 = [6]\n",
    "print(training_idx_1,training_idx_2,training_idx_3,training_idx_4)"
   ]
  },
  {
   "cell_type": "markdown",
   "metadata": {},
   "source": [
    "### Prepare Training and Test Data"
   ]
  },
  {
   "cell_type": "code",
   "execution_count": 14,
   "metadata": {},
   "outputs": [
    {
     "name": "stdout",
     "output_type": "stream",
     "text": [
      "[[1], [0], [2], [3], [1], [0], [2], [3], [1], [0], [2], [3], [1], [0], [2], [3], [1], [0], [2], [3], [1], [0], [2], [3], [1], [0], [2], [3], [1], [0], [2], [3], [1], [0], [2], [3], [1], [0], [2], [3]]\n"
     ]
    }
   ],
   "source": [
    "for idx in range(len(training_idx_1)):\n",
    "    node_list=[]\n",
    "    edge_list=[]\n",
    "    label_list=[]\n",
    "    node_list2=[]\n",
    "    edge_list2=[]\n",
    "    label_list2=[]\n",
    "    node_list3=[]\n",
    "    edge_list3=[]\n",
    "    label_list3=[]\n",
    "    node_list4=[]\n",
    "    edge_list4=[]\n",
    "    label_list4=[]\n",
    "    for j in [\"node_list\",\"edge_list\",\"graph_label\"]:\n",
    "        filename = \"rca_\"+str(training_idx_1[idx])+\"bit\"+j+'.csv'\n",
    "        filename2 = \"cla_\"+str(training_idx_2[idx])+\"bit\"+j+'.csv'\n",
    "        filename3 = \"csa_\"+str(training_idx_3[idx])+\"bit\"+j+'.csv'\n",
    "        filename4 = \"CSkipA_\"+str(training_idx_4[idx])+\"bit\"+j+'.csv'\n",
    "        if(filename.find(\"node_list\")>=0):\n",
    "            with open(dir+'/'+filename, 'rt') as fh:\n",
    "                reader=csv.reader(fh)\n",
    "                node_list = list(reader)\n",
    "                \n",
    "        if(filename.find(\"edge_list\")>=0):\n",
    "            with open(dir+'/'+filename, 'rt') as fh:\n",
    "                reader=csv.reader(fh)\n",
    "                edge_list = list(reader)\n",
    "        if(filename.find(\"graph_label\")>=0):\n",
    "            with open(dir+'/'+filename, 'rt') as fh:\n",
    "                reader=csv.reader(fh)\n",
    "                label_list = list(reader)\n",
    "        if(filename.find(\"gate_type\")>=0):\n",
    "            with open(dir+'/'+filename, 'rt') as fh:\n",
    "                reader=csv.reader(fh)\n",
    "                gate_type = list(reader)\n",
    "        \n",
    "        if(filename2.find(\"node_list\")>=0):\n",
    "            with open(dir+'/'+filename2, 'rt') as fh:\n",
    "                reader=csv.reader(fh)\n",
    "                node_list2 = list(reader)\n",
    "                \n",
    "        if(filename2.find(\"edge_list\")>=0):\n",
    "            with open(dir+'/'+filename2, 'rt') as fh:\n",
    "                reader=csv.reader(fh)\n",
    "                edge_list2 = list(reader)\n",
    "        if(filename2.find(\"graph_label\")>=0):\n",
    "            with open(dir+'/'+filename2, 'rt') as fh:\n",
    "                reader=csv.reader(fh)\n",
    "                label_list2 = list(reader)\n",
    "        if(filename2.find(\"gate_type\")>=0):\n",
    "            with open(dir+'/'+filename2, 'rt') as fh:\n",
    "                reader=csv.reader(fh)\n",
    "                gate_type2 = list(reader)\n",
    "        \n",
    "        if(filename3.find(\"node_list\")>=0):\n",
    "            with open(dir+'/'+filename3, 'rt') as fh:\n",
    "                reader=csv.reader(fh)\n",
    "                node_list3 = list(reader)\n",
    "                \n",
    "        if(filename3.find(\"edge_list\")>=0):\n",
    "            with open(dir+'/'+filename3, 'rt') as fh:\n",
    "                reader=csv.reader(fh)\n",
    "                edge_list3 = list(reader)\n",
    "        if(filename3.find(\"graph_label\")>=0):\n",
    "            with open(dir+'/'+filename3, 'rt') as fh:\n",
    "                reader=csv.reader(fh)\n",
    "                label_list3 = list(reader)\n",
    "        if(filename3.find(\"gate_type\")>=0):\n",
    "            with open(dir+'/'+filename3, 'rt') as fh:\n",
    "                reader=csv.reader(fh)\n",
    "                gate_type3 = list(reader)\n",
    "        if(filename4.find(\"node_list\")>=0):\n",
    "            with open(dir+'/'+filename4, 'rt') as fh:\n",
    "                reader=csv.reader(fh)\n",
    "                node_list4 = list(reader)\n",
    "                \n",
    "        if(filename4.find(\"edge_list\")>=0):\n",
    "            with open(dir+'/'+filename4, 'rt') as fh:\n",
    "                reader=csv.reader(fh)\n",
    "                edge_list4 = list(reader)\n",
    "        if(filename4.find(\"graph_label\")>=0):\n",
    "            with open(dir+'/'+filename4, 'rt') as fh:\n",
    "                reader=csv.reader(fh)\n",
    "                label_list4 = list(reader)\n",
    "        if(filename4.find(\"gate_type\")>=0):\n",
    "            with open(dir+'/'+filename4, 'rt') as fh:\n",
    "                reader=csv.reader(fh)\n",
    "                gate_type4 = list(reader)\n",
    "    #create dgl graph\n",
    "    g=build_circuit_graph_undirected(node_list,edge_list)\n",
    "    trainset.append(g)\n",
    "    labels.append(label_list[0])\n",
    "    g2=build_circuit_graph_undirected(node_list2,edge_list2)\n",
    "    trainset.append(g2)\n",
    "    labels.append(label_list2[0])\n",
    "    g3=build_circuit_graph_undirected(node_list3,edge_list3)\n",
    "    trainset.append(g3)\n",
    "    labels.append(label_list3[0])\n",
    "    g4=build_circuit_graph_undirected(node_list4,edge_list4)\n",
    "    trainset.append(g4)\n",
    "    labels.append(label_list4[0])\n",
    "\n",
    "for i in labels:\n",
    "    i[0] = int(i[0])\n",
    "\n",
    "print(labels)"
   ]
  },
  {
   "cell_type": "markdown",
   "metadata": {},
   "source": [
    "### Visualize Training Data"
   ]
  },
  {
   "cell_type": "code",
   "execution_count": 15,
   "metadata": {},
   "outputs": [],
   "source": [
    "# graph = trainset[14]\n",
    "# label=labels[14][0]\n",
    "\n",
    "# fig, ax = plt.subplots()\n",
    "# G=graph.to_networkx()\n",
    "# pos=nx.spring_layout(G)\n",
    "# nx.draw(G,pos)\n",
    "# nx.draw_networkx_labels(G,pos, ax=ax)\n",
    "# ax.set_title('Class: {:f}'.format(label))\n",
    "# plt.show()"
   ]
  },
  {
   "cell_type": "markdown",
   "metadata": {},
   "source": [
    "### Apply random shuffle to training set"
   ]
  },
  {
   "cell_type": "code",
   "execution_count": 16,
   "metadata": {},
   "outputs": [],
   "source": [
    "##apply random shuffle on the trainset\n",
    "np.random.seed(0)\n",
    "randomize = np.arange(len(trainset))\n",
    "np.random.shuffle(randomize)\n",
    "labels_shuffled=[]\n",
    "trainset_shuffled=[]\n",
    "for i in range (len(randomize)):\n",
    "    labels_shuffled.append(labels[randomize[i]])\n",
    "    trainset_shuffled.append(trainset[randomize[i]])"
   ]
  },
  {
   "cell_type": "code",
   "execution_count": 17,
   "metadata": {},
   "outputs": [
    {
     "data": {
      "text/plain": [
       "40"
      ]
     },
     "execution_count": 17,
     "metadata": {},
     "output_type": "execute_result"
    }
   ],
   "source": [
    "len(trainset_shuffled)"
   ]
  },
  {
   "cell_type": "code",
   "execution_count": 18,
   "metadata": {},
   "outputs": [],
   "source": [
    "\n",
    "\n",
    "# Sends a message of node feature h.\n",
    "msg = fn.copy_src(src='h', out='m')"
   ]
  },
  {
   "cell_type": "markdown",
   "metadata": {},
   "source": [
    "### Setup and training"
   ]
  },
  {
   "cell_type": "markdown",
   "metadata": {},
   "source": [
    "### Make Training Results Deterministic"
   ]
  },
  {
   "cell_type": "markdown",
   "metadata": {},
   "source": [
    "## Set Training Epoch"
   ]
  },
  {
   "cell_type": "code",
   "execution_count": 19,
   "metadata": {},
   "outputs": [],
   "source": [
    "training_epoch = 80 #original = 1500 for 1 training sample 500 for 20 samples\n",
    "initial_lr = 0.001"
   ]
  },
  {
   "cell_type": "code",
   "execution_count": 38,
   "metadata": {},
   "outputs": [
    {
     "name": "stdout",
     "output_type": "stream",
     "text": [
      "tensor([[ 0.1774,  0.1193,  0.1251, -0.0986],\n",
      "        [ 0.1631,  0.1082,  0.1081, -0.0850],\n",
      "        [ 0.1183,  0.0734,  0.0547, -0.0423],\n",
      "        ...,\n",
      "        [ 0.0770,  0.0414,  0.0057, -0.0032],\n",
      "        [ 0.0780,  0.0422,  0.0069, -0.0041],\n",
      "        [ 0.0770,  0.0414,  0.0057, -0.0032]], grad_fn=<AddmmBackward>)\n"
     ]
    },
    {
     "ename": "RuntimeError",
     "evalue": "expand(torch.FloatTensor{[503, 4]}, size=[4]): the number of sizes provided (1) must be greater or equal to the number of dimensions in the tensor (2)",
     "output_type": "error",
     "traceback": [
      "\u001b[0;31m---------------------------------------------------------------------------\u001b[0m",
      "\u001b[0;31mRuntimeError\u001b[0m                              Traceback (most recent call last)",
      "\u001b[0;32m<ipython-input-38-70ccaeb67143>\u001b[0m in \u001b[0;36m<module>\u001b[0;34m\u001b[0m\n\u001b[1;32m     31\u001b[0m         \u001b[0mtest\u001b[0m\u001b[0;34m=\u001b[0m \u001b[0mmodel\u001b[0m\u001b[0;34m(\u001b[0m\u001b[0mx\u001b[0m\u001b[0;34m,\u001b[0m\u001b[0medges\u001b[0m\u001b[0;34m)\u001b[0m\u001b[0;34m\u001b[0m\u001b[0;34m\u001b[0m\u001b[0m\n\u001b[1;32m     32\u001b[0m         \u001b[0mprint\u001b[0m\u001b[0;34m(\u001b[0m\u001b[0mtest\u001b[0m\u001b[0;34m)\u001b[0m\u001b[0;34m\u001b[0m\u001b[0;34m\u001b[0m\u001b[0m\n\u001b[0;32m---> 33\u001b[0;31m         \u001b[0mprediction\u001b[0m\u001b[0;34m[\u001b[0m\u001b[0;36m0\u001b[0m\u001b[0;34m]\u001b[0m \u001b[0;34m=\u001b[0m \u001b[0mmodel\u001b[0m\u001b[0;34m(\u001b[0m\u001b[0mh\u001b[0m\u001b[0;34m,\u001b[0m\u001b[0medges\u001b[0m\u001b[0;34m)\u001b[0m\u001b[0;34m\u001b[0m\u001b[0;34m\u001b[0m\u001b[0m\n\u001b[0m\u001b[1;32m     34\u001b[0m \u001b[0;34m\u001b[0m\u001b[0m\n\u001b[1;32m     35\u001b[0m         \u001b[0mloss\u001b[0m \u001b[0;34m=\u001b[0m \u001b[0mloss_func\u001b[0m\u001b[0;34m(\u001b[0m\u001b[0mprediction\u001b[0m\u001b[0;34m,\u001b[0m \u001b[0mlabels_shuffled\u001b[0m\u001b[0;34m[\u001b[0m\u001b[0miter\u001b[0m\u001b[0;34m]\u001b[0m\u001b[0;34m)\u001b[0m\u001b[0;34m\u001b[0m\u001b[0;34m\u001b[0m\u001b[0m\n",
      "\u001b[0;31mRuntimeError\u001b[0m: expand(torch.FloatTensor{[503, 4]}, size=[4]): the number of sizes provided (1) must be greater or equal to the number of dimensions in the tensor (2)"
     ]
    }
   ],
   "source": [
    "# Create model\n",
    "#model = Classifier(1, 256, trainset.num_classes)\n",
    "import time\n",
    "\n",
    "model = PYGNet(1, 256, 4)\n",
    "loss_func = nn.CrossEntropyLoss()\n",
    "optimizer = optim.Adam(model.parameters(), lr = initial_lr)\n",
    "# optimizer = optim.SGD(model.parameters(), lr = initial_lr, momentum=0.9, weight_decay=5e-4)\n",
    "\n",
    "model.train()\n",
    "\n",
    "labels_shuffled = torch.LongTensor(labels_shuffled)\n",
    "\n",
    "epoch_losses = []\n",
    "\n",
    "#start timer:\n",
    "t0 = time.time()\n",
    "\n",
    "for epoch in range(training_epoch):\n",
    "    model.train()\n",
    "    epoch_loss = 0\n",
    "    for iter, bg in enumerate(trainset_shuffled):\n",
    "        x = bg.in_degrees().view(-1, 1).float()\n",
    "        a = bg.edges()[0].tolist()\n",
    "        b = bg.edges()[1].tolist()\n",
    "        edges = list(zip(a,b))\n",
    "        edges = np.array(edges)\n",
    "        edges = torch.LongTensor(edges.transpose())\n",
    "        \n",
    "        prediction=torch.zeros(1,4,dtype=torch.float64)\n",
    "        test= model(x,edges)\n",
    "        print(test)\n",
    "        prediction[0] = model(h,edges)\n",
    "\n",
    "        loss = loss_func(prediction, labels_shuffled[iter])\n",
    "        optimizer.zero_grad()\n",
    "        loss.backward()\n",
    "        optimizer.step()\n",
    "        epoch_loss += loss.detach().item()\n",
    "    epoch_loss /= (iter + 1)\n",
    "    print('Epoch {}, loss {:.4f}'.format(epoch, epoch_loss))\n",
    "    epoch_losses.append(epoch_loss)\n",
    "\n",
    "training_time = time.time() - t0\n",
    "\n",
    "print('Finished training. Training time = {:.4f} Seconds'.format(training_time))\n"
   ]
  },
  {
   "cell_type": "markdown",
   "metadata": {},
   "source": [
    "### Finish Training"
   ]
  },
  {
   "cell_type": "code",
   "execution_count": 27,
   "metadata": {},
   "outputs": [
    {
     "name": "stdout",
     "output_type": "stream",
     "text": [
      "tensor([[-1.3066, -2.5185, -0.9785, -1.2991],\n",
      "        [-1.3045, -2.3791, -1.0136, -1.2978],\n",
      "        [-1.3136, -1.9580, -1.1392, -1.3096],\n",
      "        ...,\n",
      "        [-1.3483, -1.5974, -1.2809, -1.3467],\n",
      "        [-1.3471, -1.6059, -1.2770, -1.3455],\n",
      "        [-1.3483, -1.5974, -1.2809, -1.3467]], grad_fn=<LogSoftmaxBackward>)\n"
     ]
    }
   ],
   "source": [
    "print(test)"
   ]
  },
  {
   "cell_type": "markdown",
   "metadata": {},
   "source": [
    "### Plot Loss"
   ]
  },
  {
   "cell_type": "markdown",
   "metadata": {},
   "source": [
    "### Get Testset data"
   ]
  },
  {
   "cell_type": "markdown",
   "metadata": {},
   "source": [
    "### Random Sample Nodes and Edges for Testing"
   ]
  },
  {
   "cell_type": "markdown",
   "metadata": {},
   "source": [
    "## Set Percentage Keep"
   ]
  },
  {
   "cell_type": "code",
   "execution_count": 17,
   "metadata": {},
   "outputs": [
    {
     "ename": "TypeError",
     "evalue": "forward() got an unexpected keyword argument 'x'",
     "output_type": "error",
     "traceback": [
      "\u001b[0;31m---------------------------------------------------------------------------\u001b[0m",
      "\u001b[0;31mTypeError\u001b[0m                                 Traceback (most recent call last)",
      "\u001b[0;32m<ipython-input-17-56f53a13f5e1>\u001b[0m in \u001b[0;36m<module>\u001b[0;34m\u001b[0m\n\u001b[1;32m      9\u001b[0m \u001b[0medges\u001b[0m\u001b[0;34m=\u001b[0m\u001b[0mnp\u001b[0m\u001b[0;34m.\u001b[0m\u001b[0marray\u001b[0m\u001b[0;34m(\u001b[0m\u001b[0medges\u001b[0m\u001b[0;34m)\u001b[0m\u001b[0;34m\u001b[0m\u001b[0;34m\u001b[0m\u001b[0m\n\u001b[1;32m     10\u001b[0m \u001b[0medges\u001b[0m\u001b[0;34m=\u001b[0m\u001b[0mtorch\u001b[0m\u001b[0;34m.\u001b[0m\u001b[0mLongTensor\u001b[0m\u001b[0;34m(\u001b[0m\u001b[0medges\u001b[0m\u001b[0;34m.\u001b[0m\u001b[0mtranspose\u001b[0m\u001b[0;34m(\u001b[0m\u001b[0;34m)\u001b[0m\u001b[0;34m)\u001b[0m\u001b[0;34m\u001b[0m\u001b[0;34m\u001b[0m\u001b[0m\n\u001b[0;32m---> 11\u001b[0;31m \u001b[0mnode_feat_mask\u001b[0m\u001b[0;34m,\u001b[0m \u001b[0medge_mask\u001b[0m \u001b[0;34m=\u001b[0m \u001b[0mexplainer\u001b[0m\u001b[0;34m.\u001b[0m\u001b[0mexplain_node\u001b[0m\u001b[0;34m(\u001b[0m\u001b[0mnode_idx\u001b[0m\u001b[0;34m,\u001b[0m \u001b[0mh\u001b[0m\u001b[0;34m,\u001b[0m \u001b[0medges\u001b[0m\u001b[0;34m)\u001b[0m\u001b[0;34m\u001b[0m\u001b[0;34m\u001b[0m\u001b[0m\n\u001b[0m\u001b[1;32m     12\u001b[0m \u001b[0mplt\u001b[0m \u001b[0;34m=\u001b[0m \u001b[0mexplainer\u001b[0m\u001b[0;34m.\u001b[0m\u001b[0mvisualize_subgraph\u001b[0m\u001b[0;34m(\u001b[0m\u001b[0mnode_idx\u001b[0m\u001b[0;34m,\u001b[0m \u001b[0medge_index\u001b[0m\u001b[0;34m,\u001b[0m \u001b[0medge_mask\u001b[0m\u001b[0;34m,\u001b[0m \u001b[0my\u001b[0m\u001b[0;34m=\u001b[0m\u001b[0mdata\u001b[0m\u001b[0;34m.\u001b[0m\u001b[0my\u001b[0m\u001b[0;34m)\u001b[0m\u001b[0;34m\u001b[0m\u001b[0;34m\u001b[0m\u001b[0m\n\u001b[1;32m     13\u001b[0m \u001b[0;31m# plt.show()\u001b[0m\u001b[0;34m\u001b[0m\u001b[0;34m\u001b[0m\u001b[0;34m\u001b[0m\u001b[0m\n",
      "\u001b[0;32m~/anaconda3/envs/pytorch/lib/python3.8/site-packages/torch_geometric-1.4.3-py3.8.egg/torch_geometric/nn/models/gnn_explainer.py\u001b[0m in \u001b[0;36mexplain_node\u001b[0;34m(self, node_idx, x, edge_index, **kwargs)\u001b[0m\n\u001b[1;32m    141\u001b[0m         \u001b[0;31m# Get the initial prediction.\u001b[0m\u001b[0;34m\u001b[0m\u001b[0;34m\u001b[0m\u001b[0;34m\u001b[0m\u001b[0m\n\u001b[1;32m    142\u001b[0m         \u001b[0;32mwith\u001b[0m \u001b[0mtorch\u001b[0m\u001b[0;34m.\u001b[0m\u001b[0mno_grad\u001b[0m\u001b[0;34m(\u001b[0m\u001b[0;34m)\u001b[0m\u001b[0;34m:\u001b[0m\u001b[0;34m\u001b[0m\u001b[0;34m\u001b[0m\u001b[0m\n\u001b[0;32m--> 143\u001b[0;31m             \u001b[0mlog_logits\u001b[0m \u001b[0;34m=\u001b[0m \u001b[0mself\u001b[0m\u001b[0;34m.\u001b[0m\u001b[0mmodel\u001b[0m\u001b[0;34m(\u001b[0m\u001b[0mx\u001b[0m\u001b[0;34m=\u001b[0m\u001b[0mx\u001b[0m\u001b[0;34m,\u001b[0m \u001b[0medge_index\u001b[0m\u001b[0;34m=\u001b[0m\u001b[0medge_index\u001b[0m\u001b[0;34m,\u001b[0m \u001b[0;34m**\u001b[0m\u001b[0mkwargs\u001b[0m\u001b[0;34m)\u001b[0m\u001b[0;34m\u001b[0m\u001b[0;34m\u001b[0m\u001b[0m\n\u001b[0m\u001b[1;32m    144\u001b[0m             \u001b[0mpred_label\u001b[0m \u001b[0;34m=\u001b[0m \u001b[0mlog_logits\u001b[0m\u001b[0;34m.\u001b[0m\u001b[0margmax\u001b[0m\u001b[0;34m(\u001b[0m\u001b[0mdim\u001b[0m\u001b[0;34m=\u001b[0m\u001b[0;34m-\u001b[0m\u001b[0;36m1\u001b[0m\u001b[0;34m)\u001b[0m\u001b[0;34m\u001b[0m\u001b[0;34m\u001b[0m\u001b[0m\n\u001b[1;32m    145\u001b[0m \u001b[0;34m\u001b[0m\u001b[0m\n",
      "\u001b[0;32m~/anaconda3/envs/pytorch/lib/python3.8/site-packages/torch/nn/modules/module.py\u001b[0m in \u001b[0;36m__call__\u001b[0;34m(self, *input, **kwargs)\u001b[0m\n\u001b[1;32m    548\u001b[0m             \u001b[0mresult\u001b[0m \u001b[0;34m=\u001b[0m \u001b[0mself\u001b[0m\u001b[0;34m.\u001b[0m\u001b[0m_slow_forward\u001b[0m\u001b[0;34m(\u001b[0m\u001b[0;34m*\u001b[0m\u001b[0minput\u001b[0m\u001b[0;34m,\u001b[0m \u001b[0;34m**\u001b[0m\u001b[0mkwargs\u001b[0m\u001b[0;34m)\u001b[0m\u001b[0;34m\u001b[0m\u001b[0;34m\u001b[0m\u001b[0m\n\u001b[1;32m    549\u001b[0m         \u001b[0;32melse\u001b[0m\u001b[0;34m:\u001b[0m\u001b[0;34m\u001b[0m\u001b[0;34m\u001b[0m\u001b[0m\n\u001b[0;32m--> 550\u001b[0;31m             \u001b[0mresult\u001b[0m \u001b[0;34m=\u001b[0m \u001b[0mself\u001b[0m\u001b[0;34m.\u001b[0m\u001b[0mforward\u001b[0m\u001b[0;34m(\u001b[0m\u001b[0;34m*\u001b[0m\u001b[0minput\u001b[0m\u001b[0;34m,\u001b[0m \u001b[0;34m**\u001b[0m\u001b[0mkwargs\u001b[0m\u001b[0;34m)\u001b[0m\u001b[0;34m\u001b[0m\u001b[0;34m\u001b[0m\u001b[0m\n\u001b[0m\u001b[1;32m    551\u001b[0m         \u001b[0;32mfor\u001b[0m \u001b[0mhook\u001b[0m \u001b[0;32min\u001b[0m \u001b[0mself\u001b[0m\u001b[0;34m.\u001b[0m\u001b[0m_forward_hooks\u001b[0m\u001b[0;34m.\u001b[0m\u001b[0mvalues\u001b[0m\u001b[0;34m(\u001b[0m\u001b[0;34m)\u001b[0m\u001b[0;34m:\u001b[0m\u001b[0;34m\u001b[0m\u001b[0;34m\u001b[0m\u001b[0m\n\u001b[1;32m    552\u001b[0m             \u001b[0mhook_result\u001b[0m \u001b[0;34m=\u001b[0m \u001b[0mhook\u001b[0m\u001b[0;34m(\u001b[0m\u001b[0mself\u001b[0m\u001b[0;34m,\u001b[0m \u001b[0minput\u001b[0m\u001b[0;34m,\u001b[0m \u001b[0mresult\u001b[0m\u001b[0;34m)\u001b[0m\u001b[0;34m\u001b[0m\u001b[0;34m\u001b[0m\u001b[0m\n",
      "\u001b[0;31mTypeError\u001b[0m: forward() got an unexpected keyword argument 'x'"
     ]
    }
   ],
   "source": [
    "from torch_geometric.nn import GCNConv, GNNExplainer\n",
    "\n",
    "explainer = GNNExplainer(model, epochs=200)\n",
    "node_idx = 10\n",
    "h = bg.in_degrees().view(-1, 1).float()\n",
    "a = bg.edges()[0].tolist()\n",
    "b = bg.edges()[1].tolist()\n",
    "edges= list(zip(a,b))\n",
    "edges=np.array(edges)\n",
    "edges=torch.LongTensor(edges.transpose())\n",
    "node_feat_mask, edge_mask = explainer.explain_node(node_idx, h, edges)\n",
    "plt = explainer.visualize_subgraph(node_idx, edge_index, edge_mask, y=data.y)\n",
    "# plt.show()"
   ]
  },
  {
   "cell_type": "code",
   "execution_count": 108,
   "metadata": {},
   "outputs": [
    {
     "data": {
      "text/plain": [
       "torch.Size([773, 1])"
      ]
     },
     "execution_count": 108,
     "metadata": {},
     "output_type": "execute_result"
    }
   ],
   "source": [
    "h.size()"
   ]
  },
  {
   "cell_type": "markdown",
   "metadata": {
    "toc-hr-collapsed": true
   },
   "source": [
    "## Visualize Activations"
   ]
  },
  {
   "cell_type": "code",
   "execution_count": 42,
   "metadata": {},
   "outputs": [],
   "source": [
    "GCN1_act = []\n",
    "GCN2_act = []\n",
    "graph_emb = []\n",
    "final_class = []\n",
    "\n",
    "def get_activation_1(self,input,output):\n",
    "#     print(output.size())\n",
    "    GCN1_act.append(output.data.cpu().numpy())\n",
    "    \n",
    "def get_activation_2(self,input,output):\n",
    "#     print(output.size())\n",
    "    GCN2_act.append(output.data.cpu().numpy())\n",
    "    \n",
    "def get_activation_3(self,input,output):\n",
    "#     print(output.size())\n",
    "    graph_emb.append(input[0].cpu().detach().numpy())\n",
    "    final_class.append(output.data.cpu().numpy())"
   ]
  },
  {
   "cell_type": "code",
   "execution_count": 31,
   "metadata": {},
   "outputs": [],
   "source": [
    "h1 = model.layers[0].register_forward_hook(get_activation_1)\n",
    "h2 = model.layers[1].register_forward_hook(get_activation_2)\n",
    "h3 = model.classify.register_forward_hook(get_activation_3)\n",
    "\n",
    "# for i in range(len(testset)):\n",
    "#     out = model(testset[i])"
   ]
  },
  {
   "cell_type": "code",
   "execution_count": 43,
   "metadata": {},
   "outputs": [],
   "source": [
    "error = []\n",
    "probs_Y2_error = []\n",
    "\n",
    "for i in range(len(testset)):\n",
    "    out = model(testset[i])\n",
    "    probs_Y2 = torch.softmax(out,0)\n",
    "    argmax_Y2 = torch.max(probs_Y2, 0)[1].view(-1, 1)\n",
    "    if  test_labels[i]!=argmax_Y2.float():\n",
    "        error.append(i)\n",
    "        probs_Y2_error.append(probs_Y2)"
   ]
  },
  {
   "cell_type": "code",
   "execution_count": 44,
   "metadata": {},
   "outputs": [
    {
     "name": "stdout",
     "output_type": "stream",
     "text": [
      "Number of Errors: 2\n"
     ]
    }
   ],
   "source": [
    "print('Number of Errors: {}'.format(len(error)))"
   ]
  },
  {
   "cell_type": "code",
   "execution_count": 45,
   "metadata": {},
   "outputs": [
    {
     "name": "stdout",
     "output_type": "stream",
     "text": [
      "error 1\n",
      "tensor([2.], device='cuda:0')\n",
      "tensor([5.2765e-05, 8.2534e-03, 3.1656e-06, 9.9169e-01], device='cuda:0',\n",
      "       grad_fn=<SoftmaxBackward>)\n",
      "error 2\n",
      "tensor([2.], device='cuda:0')\n",
      "tensor([1.3584e-06, 2.2670e-07, 3.3540e-03, 9.9664e-01], device='cuda:0',\n",
      "       grad_fn=<SoftmaxBackward>)\n"
     ]
    }
   ],
   "source": [
    "for i in range(len(error)):\n",
    "    print('error {}'.format(i+1))\n",
    "    print(test_labels[error[i]])\n",
    "    print(probs_Y2_error[i])"
   ]
  },
  {
   "cell_type": "code",
   "execution_count": 46,
   "metadata": {},
   "outputs": [
    {
     "data": {
      "text/plain": [
       "(400, 400, 400, 400)"
      ]
     },
     "execution_count": 46,
     "metadata": {},
     "output_type": "execute_result"
    }
   ],
   "source": [
    "len(GCN1_act),len(GCN2_act),len(graph_emb),len(final_class)"
   ]
  },
  {
   "cell_type": "code",
   "execution_count": 47,
   "metadata": {},
   "outputs": [],
   "source": [
    "GCN1_act_vis_ls = []\n",
    "GCN2_act_vis_ls = []\n",
    "graph_emb_vis_ls = []\n",
    "final_class_vis_ls = []\n",
    "\n",
    "for i in range(len(GCN1_act)):\n",
    "    GCN1_act_vis_ls.append(np.expand_dims(np.mean(GCN1_act[i],axis=0),axis=0))\n",
    "    GCN2_act_vis_ls.append(np.expand_dims(np.mean(GCN2_act[i],axis=0),axis=0))\n",
    "    graph_emb_vis_ls.append(np.expand_dims(graph_emb[i],axis=0))\n",
    "    final_class_vis_ls.append(np.expand_dims(final_class[i],axis=0))"
   ]
  },
  {
   "cell_type": "code",
   "execution_count": 48,
   "metadata": {},
   "outputs": [],
   "source": [
    "GCN1_act_vis = np.concatenate(GCN1_act_vis_ls, axis=0)\n",
    "GCN2_act_vis = np.concatenate(GCN2_act_vis_ls, axis=0)\n",
    "graph_emb_vis = np.concatenate(graph_emb_vis_ls, axis=0)\n",
    "final_class_vis = np.concatenate(final_class_vis_ls, axis=0)"
   ]
  },
  {
   "cell_type": "code",
   "execution_count": 43,
   "metadata": {},
   "outputs": [
    {
     "data": {
      "text/plain": [
       "((200, 256), (200, 256), (200, 256), (200, 4))"
      ]
     },
     "execution_count": 43,
     "metadata": {},
     "output_type": "execute_result"
    }
   ],
   "source": [
    "GCN1_act_vis.shape,GCN2_act_vis.shape,graph_emb_vis.shape,final_class_vis.shape"
   ]
  },
  {
   "cell_type": "code",
   "execution_count": 44,
   "metadata": {
    "collapsed": true,
    "jupyter": {
     "outputs_hidden": true
    }
   },
   "outputs": [],
   "source": [
    "# GCN1_act[0].size(),GCN2_act[0].size(),graph_emb[0].size(),final_class[0]"
   ]
  },
  {
   "cell_type": "code",
   "execution_count": 49,
   "metadata": {
    "collapsed": true,
    "jupyter": {
     "outputs_hidden": true
    }
   },
   "outputs": [
    {
     "name": "stdout",
     "output_type": "stream",
     "text": [
      "Preprocessing the data using PCA...\n",
      "Computing pairwise distances...\n",
      "Computing P-values for point 0 of 400...\n",
      "Mean value of sigma: 0.106832\n",
      "Iteration 10: error is 11.948583\n",
      "Iteration 20: error is 9.430495\n",
      "Iteration 30: error is 8.870725\n",
      "Iteration 40: error is 8.463241\n",
      "Iteration 50: error is 8.363860\n",
      "Iteration 60: error is 8.335938\n",
      "Iteration 70: error is 8.305157\n",
      "Iteration 80: error is 8.296171\n",
      "Iteration 90: error is 8.280478\n",
      "Iteration 100: error is 8.261661\n",
      "Iteration 110: error is 0.428841\n",
      "Iteration 120: error is 0.243538\n",
      "Iteration 130: error is 0.186383\n",
      "Iteration 140: error is 0.161514\n",
      "Iteration 150: error is 0.147635\n",
      "Iteration 160: error is 0.138522\n",
      "Iteration 170: error is 0.132723\n",
      "Iteration 180: error is 0.128669\n",
      "Iteration 190: error is 0.125533\n",
      "Iteration 200: error is 0.123029\n",
      "Iteration 210: error is 0.120814\n",
      "Iteration 220: error is 0.118940\n",
      "Iteration 230: error is 0.117295\n",
      "Iteration 240: error is 0.115977\n",
      "Iteration 250: error is 0.114844\n",
      "Iteration 260: error is 0.113812\n",
      "Iteration 270: error is 0.112870\n",
      "Iteration 280: error is 0.112072\n",
      "Iteration 290: error is 0.111306\n",
      "Iteration 300: error is 0.110573\n",
      "Iteration 310: error is 0.109946\n",
      "Iteration 320: error is 0.109353\n",
      "Iteration 330: error is 0.108768\n",
      "Iteration 340: error is 0.108242\n",
      "Iteration 350: error is 0.107724\n",
      "Iteration 360: error is 0.107258\n",
      "Iteration 370: error is 0.106844\n",
      "Iteration 380: error is 0.106427\n",
      "Iteration 390: error is 0.106040\n",
      "Iteration 400: error is 0.105694\n",
      "Iteration 410: error is 0.105356\n",
      "Iteration 420: error is 0.105029\n",
      "Iteration 430: error is 0.104720\n",
      "Iteration 440: error is 0.104424\n",
      "Iteration 450: error is 0.104150\n",
      "Iteration 460: error is 0.103887\n",
      "Iteration 470: error is 0.103637\n",
      "Iteration 480: error is 0.103416\n",
      "Iteration 490: error is 0.103200\n",
      "Iteration 500: error is 0.102989\n",
      "Iteration 510: error is 0.102790\n",
      "Iteration 520: error is 0.102611\n",
      "Iteration 530: error is 0.102433\n",
      "Iteration 540: error is 0.102267\n",
      "Iteration 550: error is 0.102103\n",
      "Iteration 560: error is 0.101947\n",
      "Iteration 570: error is 0.101799\n",
      "Iteration 580: error is 0.101654\n",
      "Iteration 590: error is 0.101517\n",
      "Iteration 600: error is 0.101388\n",
      "Iteration 610: error is 0.101263\n",
      "Iteration 620: error is 0.101140\n",
      "Iteration 630: error is 0.101021\n",
      "Iteration 640: error is 0.100906\n",
      "Iteration 650: error is 0.100796\n",
      "Iteration 660: error is 0.100690\n",
      "Iteration 670: error is 0.100585\n",
      "Iteration 680: error is 0.100489\n",
      "Iteration 690: error is 0.100389\n",
      "Iteration 700: error is 0.100297\n",
      "Iteration 710: error is 0.100208\n",
      "Iteration 720: error is 0.100119\n",
      "Iteration 730: error is 0.100038\n",
      "Iteration 740: error is 0.099955\n",
      "Iteration 750: error is 0.099875\n",
      "Iteration 760: error is 0.099798\n",
      "Iteration 770: error is 0.099721\n",
      "Iteration 780: error is 0.099643\n",
      "Iteration 790: error is 0.099572\n",
      "Iteration 800: error is 0.099502\n",
      "Iteration 810: error is 0.099432\n",
      "Iteration 820: error is 0.099364\n",
      "Iteration 830: error is 0.099296\n",
      "Iteration 840: error is 0.099231\n",
      "Iteration 850: error is 0.099165\n",
      "Iteration 860: error is 0.099102\n",
      "Iteration 870: error is 0.099042\n",
      "Iteration 880: error is 0.098982\n",
      "Iteration 890: error is 0.098923\n",
      "Iteration 900: error is 0.098865\n",
      "Iteration 910: error is 0.098809\n",
      "Iteration 920: error is 0.098754\n",
      "Iteration 930: error is 0.098700\n",
      "Iteration 940: error is 0.098646\n",
      "Iteration 950: error is 0.098594\n",
      "Iteration 960: error is 0.098543\n",
      "Iteration 970: error is 0.098493\n",
      "Iteration 980: error is 0.098443\n",
      "Iteration 990: error is 0.098395\n",
      "Iteration 1000: error is 0.098348\n",
      "Preprocessing the data using PCA...\n",
      "Computing pairwise distances...\n",
      "Computing P-values for point 0 of 400...\n",
      "Mean value of sigma: 0.608044\n",
      "Iteration 10: error is 11.005757\n",
      "Iteration 20: error is 9.702638\n",
      "Iteration 30: error is 9.190918\n",
      "Iteration 40: error is 8.583640\n",
      "Iteration 50: error is 8.510019\n",
      "Iteration 60: error is 8.391336\n",
      "Iteration 70: error is 8.315562\n",
      "Iteration 80: error is 8.213446\n",
      "Iteration 90: error is 8.196180\n",
      "Iteration 100: error is 8.189547\n",
      "Iteration 110: error is 0.357339\n",
      "Iteration 120: error is 0.244949\n",
      "Iteration 130: error is 0.198580\n",
      "Iteration 140: error is 0.170140\n",
      "Iteration 150: error is 0.151724\n",
      "Iteration 160: error is 0.139329\n",
      "Iteration 170: error is 0.130686\n",
      "Iteration 180: error is 0.124397\n",
      "Iteration 190: error is 0.119359\n",
      "Iteration 200: error is 0.115002\n",
      "Iteration 210: error is 0.111511\n",
      "Iteration 220: error is 0.108828\n",
      "Iteration 230: error is 0.106705\n",
      "Iteration 240: error is 0.104954\n",
      "Iteration 250: error is 0.103515\n",
      "Iteration 260: error is 0.102285\n",
      "Iteration 270: error is 0.101244\n",
      "Iteration 280: error is 0.100347\n",
      "Iteration 290: error is 0.099559\n",
      "Iteration 300: error is 0.098863\n",
      "Iteration 310: error is 0.098257\n",
      "Iteration 320: error is 0.097696\n",
      "Iteration 330: error is 0.097196\n",
      "Iteration 340: error is 0.096754\n",
      "Iteration 350: error is 0.096329\n",
      "Iteration 360: error is 0.095926\n",
      "Iteration 370: error is 0.095559\n",
      "Iteration 380: error is 0.095234\n",
      "Iteration 390: error is 0.094926\n",
      "Iteration 400: error is 0.094629\n",
      "Iteration 410: error is 0.094365\n",
      "Iteration 420: error is 0.094101\n",
      "Iteration 430: error is 0.093847\n",
      "Iteration 440: error is 0.093609\n",
      "Iteration 450: error is 0.093389\n",
      "Iteration 460: error is 0.093177\n",
      "Iteration 470: error is 0.092974\n",
      "Iteration 480: error is 0.092787\n",
      "Iteration 490: error is 0.092609\n",
      "Iteration 500: error is 0.092431\n",
      "Iteration 510: error is 0.092266\n",
      "Iteration 520: error is 0.092107\n",
      "Iteration 530: error is 0.091953\n",
      "Iteration 540: error is 0.091806\n",
      "Iteration 550: error is 0.091665\n",
      "Iteration 560: error is 0.091528\n",
      "Iteration 570: error is 0.091401\n",
      "Iteration 580: error is 0.091277\n",
      "Iteration 590: error is 0.091157\n",
      "Iteration 600: error is 0.091040\n",
      "Iteration 610: error is 0.090927\n",
      "Iteration 620: error is 0.090817\n",
      "Iteration 630: error is 0.090714\n",
      "Iteration 640: error is 0.090615\n",
      "Iteration 650: error is 0.090517\n",
      "Iteration 660: error is 0.090424\n",
      "Iteration 670: error is 0.090333\n",
      "Iteration 680: error is 0.090242\n",
      "Iteration 690: error is 0.090153\n",
      "Iteration 700: error is 0.090073\n",
      "Iteration 710: error is 0.089993\n",
      "Iteration 720: error is 0.089913\n",
      "Iteration 730: error is 0.089833\n",
      "Iteration 740: error is 0.089757\n",
      "Iteration 750: error is 0.089682\n",
      "Iteration 760: error is 0.089610\n",
      "Iteration 770: error is 0.089542\n",
      "Iteration 780: error is 0.089475\n",
      "Iteration 790: error is 0.089409\n",
      "Iteration 800: error is 0.089345\n",
      "Iteration 810: error is 0.089281\n",
      "Iteration 820: error is 0.089219\n",
      "Iteration 830: error is 0.089160\n",
      "Iteration 840: error is 0.089101\n",
      "Iteration 850: error is 0.089043\n",
      "Iteration 860: error is 0.088985\n",
      "Iteration 870: error is 0.088928\n",
      "Iteration 880: error is 0.088875\n",
      "Iteration 890: error is 0.088821\n",
      "Iteration 900: error is 0.088769\n",
      "Iteration 910: error is 0.088719\n",
      "Iteration 920: error is 0.088669\n",
      "Iteration 930: error is 0.088619\n",
      "Iteration 940: error is 0.088571\n",
      "Iteration 950: error is 0.088525\n",
      "Iteration 960: error is 0.088479\n",
      "Iteration 970: error is 0.088433\n",
      "Iteration 980: error is 0.088388\n",
      "Iteration 990: error is 0.088344\n",
      "Iteration 1000: error is 0.088300\n",
      "Preprocessing the data using PCA...\n",
      "Computing pairwise distances...\n",
      "Computing P-values for point 0 of 400...\n",
      "Mean value of sigma: 0.608044\n",
      "Iteration 10: error is 11.188237\n",
      "Iteration 20: error is 9.386035\n",
      "Iteration 30: error is 8.922903\n",
      "Iteration 40: error is 8.490885\n",
      "Iteration 50: error is 8.392785\n",
      "Iteration 60: error is 8.314221\n",
      "Iteration 70: error is 8.293106\n",
      "Iteration 80: error is 8.251001\n",
      "Iteration 90: error is 8.202309\n",
      "Iteration 100: error is 8.189485\n",
      "Iteration 110: error is 0.348488\n",
      "Iteration 120: error is 0.261653\n",
      "Iteration 130: error is 0.211017\n",
      "Iteration 140: error is 0.176303\n",
      "Iteration 150: error is 0.154635\n",
      "Iteration 160: error is 0.140752\n",
      "Iteration 170: error is 0.132097\n",
      "Iteration 180: error is 0.126270\n",
      "Iteration 190: error is 0.121540\n",
      "Iteration 200: error is 0.117611\n",
      "Iteration 210: error is 0.114496\n",
      "Iteration 220: error is 0.112043\n",
      "Iteration 230: error is 0.110098\n",
      "Iteration 240: error is 0.108564\n",
      "Iteration 250: error is 0.107298\n",
      "Iteration 260: error is 0.106181\n",
      "Iteration 270: error is 0.105230\n",
      "Iteration 280: error is 0.104374\n",
      "Iteration 290: error is 0.103600\n",
      "Iteration 300: error is 0.102917\n",
      "Iteration 310: error is 0.102301\n",
      "Iteration 320: error is 0.101737\n",
      "Iteration 330: error is 0.101222\n",
      "Iteration 340: error is 0.100754\n",
      "Iteration 350: error is 0.100308\n",
      "Iteration 360: error is 0.099900\n",
      "Iteration 370: error is 0.099522\n",
      "Iteration 380: error is 0.099159\n",
      "Iteration 390: error is 0.098825\n",
      "Iteration 400: error is 0.098514\n",
      "Iteration 410: error is 0.098210\n",
      "Iteration 420: error is 0.097930\n",
      "Iteration 430: error is 0.097665\n",
      "Iteration 440: error is 0.097404\n",
      "Iteration 450: error is 0.097161\n",
      "Iteration 460: error is 0.096930\n",
      "Iteration 470: error is 0.096705\n",
      "Iteration 480: error is 0.096486\n",
      "Iteration 490: error is 0.096276\n",
      "Iteration 500: error is 0.096074\n",
      "Iteration 510: error is 0.095884\n",
      "Iteration 520: error is 0.095702\n",
      "Iteration 530: error is 0.095525\n",
      "Iteration 540: error is 0.095350\n",
      "Iteration 550: error is 0.095181\n",
      "Iteration 560: error is 0.095019\n",
      "Iteration 570: error is 0.094863\n",
      "Iteration 580: error is 0.094711\n",
      "Iteration 590: error is 0.094570\n",
      "Iteration 600: error is 0.094433\n",
      "Iteration 610: error is 0.094298\n",
      "Iteration 620: error is 0.094166\n",
      "Iteration 630: error is 0.094036\n",
      "Iteration 640: error is 0.093909\n",
      "Iteration 650: error is 0.093789\n",
      "Iteration 660: error is 0.093669\n",
      "Iteration 670: error is 0.093552\n",
      "Iteration 680: error is 0.093442\n",
      "Iteration 690: error is 0.093332\n",
      "Iteration 700: error is 0.093225\n",
      "Iteration 710: error is 0.093122\n",
      "Iteration 720: error is 0.093017\n",
      "Iteration 730: error is 0.092918\n",
      "Iteration 740: error is 0.092820\n",
      "Iteration 750: error is 0.092724\n",
      "Iteration 760: error is 0.092630\n",
      "Iteration 770: error is 0.092539\n",
      "Iteration 780: error is 0.092449\n",
      "Iteration 790: error is 0.092361\n",
      "Iteration 800: error is 0.092273\n",
      "Iteration 810: error is 0.092190\n",
      "Iteration 820: error is 0.092111\n",
      "Iteration 830: error is 0.092033\n",
      "Iteration 840: error is 0.091954\n",
      "Iteration 850: error is 0.091878\n",
      "Iteration 860: error is 0.091804\n",
      "Iteration 870: error is 0.091729\n",
      "Iteration 880: error is 0.091656\n",
      "Iteration 890: error is 0.091584\n",
      "Iteration 900: error is 0.091514\n",
      "Iteration 910: error is 0.091445\n",
      "Iteration 920: error is 0.091378\n",
      "Iteration 930: error is 0.091313\n",
      "Iteration 940: error is 0.091249\n",
      "Iteration 950: error is 0.091186\n",
      "Iteration 960: error is 0.091125\n",
      "Iteration 970: error is 0.091064\n",
      "Iteration 980: error is 0.091003\n",
      "Iteration 990: error is 0.090944\n",
      "Iteration 1000: error is 0.090886\n",
      "Preprocessing the data using PCA...\n",
      "Computing pairwise distances...\n",
      "Computing P-values for point 0 of 400...\n",
      "Mean value of sigma: 1.940016\n",
      "Iteration 10: error is 11.302082\n",
      "Iteration 20: error is 9.356407\n",
      "Iteration 30: error is 8.785204\n",
      "Iteration 40: error is 8.463082\n",
      "Iteration 50: error is 8.326430\n",
      "Iteration 60: error is 8.277455\n",
      "Iteration 70: error is 8.257028\n",
      "Iteration 80: error is 8.205392\n",
      "Iteration 90: error is 8.208275\n",
      "Iteration 100: error is 8.187859\n",
      "Iteration 110: error is 0.404555\n",
      "Iteration 120: error is 0.256735\n",
      "Iteration 130: error is 0.201865\n",
      "Iteration 140: error is 0.169638\n",
      "Iteration 150: error is 0.150737\n",
      "Iteration 160: error is 0.138124\n",
      "Iteration 170: error is 0.128808\n",
      "Iteration 180: error is 0.122132\n",
      "Iteration 190: error is 0.117157\n",
      "Iteration 200: error is 0.113276\n",
      "Iteration 210: error is 0.110203\n",
      "Iteration 220: error is 0.107697\n",
      "Iteration 230: error is 0.105733\n",
      "Iteration 240: error is 0.104107\n",
      "Iteration 250: error is 0.102776\n",
      "Iteration 260: error is 0.101625\n",
      "Iteration 270: error is 0.100622\n",
      "Iteration 280: error is 0.099738\n",
      "Iteration 290: error is 0.098965\n",
      "Iteration 300: error is 0.098289\n",
      "Iteration 310: error is 0.097675\n",
      "Iteration 320: error is 0.097118\n",
      "Iteration 330: error is 0.096620\n",
      "Iteration 340: error is 0.096156\n",
      "Iteration 350: error is 0.095732\n",
      "Iteration 360: error is 0.095333\n",
      "Iteration 370: error is 0.094962\n",
      "Iteration 380: error is 0.094630\n",
      "Iteration 390: error is 0.094322\n",
      "Iteration 400: error is 0.094030\n",
      "Iteration 410: error is 0.093746\n",
      "Iteration 420: error is 0.093482\n",
      "Iteration 430: error is 0.093232\n",
      "Iteration 440: error is 0.092989\n",
      "Iteration 450: error is 0.092771\n",
      "Iteration 460: error is 0.092561\n",
      "Iteration 470: error is 0.092362\n",
      "Iteration 480: error is 0.092170\n",
      "Iteration 490: error is 0.091986\n",
      "Iteration 500: error is 0.091808\n",
      "Iteration 510: error is 0.091635\n",
      "Iteration 520: error is 0.091478\n",
      "Iteration 530: error is 0.091323\n",
      "Iteration 540: error is 0.091173\n",
      "Iteration 550: error is 0.091029\n",
      "Iteration 560: error is 0.090894\n",
      "Iteration 570: error is 0.090758\n",
      "Iteration 580: error is 0.090632\n",
      "Iteration 590: error is 0.090508\n",
      "Iteration 600: error is 0.090386\n",
      "Iteration 610: error is 0.090273\n",
      "Iteration 620: error is 0.090160\n",
      "Iteration 630: error is 0.090051\n",
      "Iteration 640: error is 0.089947\n",
      "Iteration 650: error is 0.089844\n",
      "Iteration 660: error is 0.089746\n",
      "Iteration 670: error is 0.089650\n",
      "Iteration 680: error is 0.089557\n",
      "Iteration 690: error is 0.089471\n",
      "Iteration 700: error is 0.089387\n",
      "Iteration 710: error is 0.089304\n",
      "Iteration 720: error is 0.089220\n",
      "Iteration 730: error is 0.089141\n",
      "Iteration 740: error is 0.089066\n",
      "Iteration 750: error is 0.088991\n",
      "Iteration 760: error is 0.088916\n",
      "Iteration 770: error is 0.088843\n",
      "Iteration 780: error is 0.088773\n",
      "Iteration 790: error is 0.088703\n",
      "Iteration 800: error is 0.088635\n",
      "Iteration 810: error is 0.088568\n",
      "Iteration 820: error is 0.088502\n",
      "Iteration 830: error is 0.088440\n",
      "Iteration 840: error is 0.088379\n",
      "Iteration 850: error is 0.088318\n",
      "Iteration 860: error is 0.088258\n",
      "Iteration 870: error is 0.088201\n",
      "Iteration 880: error is 0.088145\n",
      "Iteration 890: error is 0.088089\n",
      "Iteration 900: error is 0.088034\n",
      "Iteration 910: error is 0.087981\n",
      "Iteration 920: error is 0.087928\n",
      "Iteration 930: error is 0.087876\n",
      "Iteration 940: error is 0.087825\n",
      "Iteration 950: error is 0.087777\n",
      "Iteration 960: error is 0.087728\n",
      "Iteration 970: error is 0.087682\n",
      "Iteration 980: error is 0.087636\n",
      "Iteration 990: error is 0.087590\n",
      "Iteration 1000: error is 0.087545\n"
     ]
    }
   ],
   "source": [
    "import tsne\n",
    "vis1 = tsne.tsne(GCN1_act_vis, 2, 30)\n",
    "vis2 = tsne.tsne(GCN2_act_vis, 2, 30)\n",
    "vis3 = tsne.tsne(graph_emb_vis, 2, 30)\n",
    "vis4 = tsne.tsne(final_class_vis, 2, 30)"
   ]
  },
  {
   "cell_type": "code",
   "execution_count": 50,
   "metadata": {},
   "outputs": [
    {
     "data": {
      "image/png": "[encoded data removed]",
      "text/plain": [
       "<Figure size 1080x1080 with 4 Axes>"
      ]
     },
     "metadata": {
      "needs_background": "light"
     },
     "output_type": "display_data"
    }
   ],
   "source": [
    "fig, axs = plt.subplots(2,2,figsize=(15,15))\n",
    "\n",
    "# color = test_labels.cpu()*85/255\n",
    "\n",
    "#class 0: cla 'green'\n",
    "#class 1: rca 'red'\n",
    "#class 2: csla 'blue'\n",
    "#class 3: cska 'gold'\n",
    "\n",
    "color = []\n",
    "# marker = []\n",
    "\n",
    "for i in range(len(test_labels)):\n",
    "    if test_labels.cpu()[i] == 0:\n",
    "        color.append('green')\n",
    "#         marker.append('.')\n",
    "    if test_labels.cpu()[i] == 1:\n",
    "        color.append('red')\n",
    "#         marker.append('^')\n",
    "    if test_labels.cpu()[i] == 2:\n",
    "        color.append('blue')\n",
    "#         marker.append('v')\n",
    "    if test_labels.cpu()[i] == 3:\n",
    "        color.append('gold')\n",
    "#         marker.append('s')\n",
    "\n",
    "axs[0,0].set_title('GCN1')\n",
    "axs[0,1].set_title('GCN2')\n",
    "axs[1,0].set_title('Graph_emb')\n",
    "axs[1,1].set_title('Final_class')\n",
    "for i in range (len(test_labels)):\n",
    "#     axs[0,0].scatter(vis1[i,0],vis1[i,1],color=(0,color[i],0))\n",
    "#     axs[0,1].scatter(vis2[i,0],vis2[i,1],color=(0,color[i],0))\n",
    "#     axs[1,0].scatter(vis3[i,0],vis3[i,1],color=(0,color[i],0))\n",
    "#     axs[1,1].scatter(vis4[i,0],vis4[i,1],color=(0,color[i],0))\n",
    "    axs[0,0].scatter(vis1[i,0],vis1[i,1],color=color[i])\n",
    "    axs[0,1].scatter(vis2[i,0],vis2[i,1],color=color[i])\n",
    "    axs[1,0].scatter(vis3[i,0],vis3[i,1],color=color[i])\n",
    "    axs[1,1].scatter(vis4[i,0],vis4[i,1],color=color[i])\n",
    "#     axs[0,0].scatter(vis1[i,0],vis1[i,1],color=color[i],marker=marker[i])\n",
    "#     axs[0,1].scatter(vis2[i,0],vis2[i,1],color=color[i],marker=marker[i])\n",
    "#     axs[1,0].scatter(vis3[i,0],vis3[i,1],color=color[i],marker=marker[i])\n",
    "#     axs[1,1].scatter(vis4[i,0],vis4[i,1],color=color[i],marker=marker[i])\n",
    "\n",
    "plt.show()"
   ]
  },
  {
   "cell_type": "markdown",
   "metadata": {},
   "source": [
    "## End"
   ]
  }
 ],
 "metadata": {
  "kernelspec": {
   "display_name": "pytorch",
   "language": "python",
   "name": "pytorch"
  },
  "language_info": {
   "codemirror_mode": {
    "name": "ipython",
    "version": 3
   },
   "file_extension": ".py",
   "mimetype": "text/x-python",
   "name": "python",
   "nbconvert_exporter": "python",
   "pygments_lexer": "ipython3",
   "version": "3.8.2"
  },
  "toc": {
   "base_numbering": 1,
   "nav_menu": {},
   "number_sections": false,
   "sideBar": true,
   "skip_h1_title": false,
   "title_cell": "Table of Contents",
   "title_sidebar": "Contents",
   "toc_cell": false,
   "toc_position": {
    "height": "calc(100% - 180px)",
    "left": "10px",
    "top": "150px",
    "width": "266.818px"
   },
   "toc_section_display": true,
   "toc_window_display": true
  }
 },
 "nbformat": 4,
 "nbformat_minor": 4
}
