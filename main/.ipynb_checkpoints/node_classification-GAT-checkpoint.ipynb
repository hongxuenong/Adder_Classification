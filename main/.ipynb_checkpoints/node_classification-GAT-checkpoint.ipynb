{
 "cells": [
  {
   "cell_type": "code",
   "execution_count": 1,
   "metadata": {},
   "outputs": [
    {
     "name": "stderr",
     "output_type": "stream",
     "text": [
      "Using backend: pytorch\n"
     ]
    }
   ],
   "source": [
    "import os.path as osp\n",
    "\n",
    "import torch\n",
    "import torch.nn.functional as F\n",
    "from torch_geometric.datasets import Planetoid\n",
    "import torch_geometric.transforms as T\n",
    "from torch_geometric.nn import GCNConv, GNNExplainer\n",
    "from torch.nn import Sequential, Linear\n",
    "\n",
    "import random\n",
    "import os\n",
    "import matplotlib.pyplot as plt\n",
    "import networkx as nx\n",
    "import csv\n",
    "import numpy as np\n",
    "\n",
    "import dgl\n",
    "import dgl.function as fn\n",
    "\n",
    "from torch.utils.tensorboard import SummaryWriter"
   ]
  },
  {
   "cell_type": "code",
   "execution_count": 183,
   "metadata": {},
   "outputs": [],
   "source": [
    "\n",
    "def build_circuit_graph_undirected(node_list,edge_list):\n",
    "    g = dgl.DGLGraph()\n",
    "    g.add_nodes(len(node_list))\n",
    "    src, dst = tuple(zip(*edge_list))\n",
    "    g.add_edges(src, dst)\n",
    "    g.add_edges(dst, src)\n",
    "    return g\n",
    "\n",
    "def build_circuit_graph_directed_sd(node_list,edge_list):\n",
    "    g = dgl.DGLGraph()\n",
    "    g.add_nodes(len(node_list))\n",
    "    src, dst = tuple(zip(*edge_list))\n",
    "    g.add_edges(src, dst)\n",
    "    return g\n",
    "\n",
    "def build_circuit_graph_directed_ds(node_list,edge_list):\n",
    "    g = dgl.DGLGraph()\n",
    "    g.add_nodes(len(node_list))\n",
    "    src, dst = tuple(zip(*edge_list))\n",
    "    g.add_edges(dst, src)\n",
    "    return g\n"
   ]
  },
  {
   "cell_type": "code",
   "execution_count": 184,
   "metadata": {},
   "outputs": [
    {
     "name": "stdout",
     "output_type": "stream",
     "text": [
      "[44] [44] [44] [44]\n"
     ]
    }
   ],
   "source": [
    "\n",
    "dir = './preprocessing/processed_training_data_with_nodelabels'\n",
    "\n",
    "trainset=[]\n",
    "labels=[]\n",
    "#for filename in os.listdir(dir):\n",
    "np.random.seed(2) #original=1\n",
    "sample_size = 1\n",
    "training_idx = np.random.randint(4,64,10)\n",
    "training_idx_1 = np.random.choice(training_idx, size=sample_size, replace=False)\n",
    "# training_idx_2 = np.random.choice(training_idx, size=sample_size, replace=False)\n",
    "# training_idx_3 = np.random.choice(training_idx, size=sample_size, replace=False)\n",
    "# training_idx_4 = np.random.choice(training_idx, size=sample_size, replace=False)\n",
    "\n",
    "training_idx_2 = training_idx_1\n",
    "training_idx_3 = training_idx_1\n",
    "training_idx_4 = training_idx_1\n",
    "# training_idx_1 = [6]\n",
    "# training_idx_2 = [6]\n",
    "# training_idx_3 = [6]\n",
    "# training_idx_4 = [6]\n",
    "print(training_idx_1,training_idx_2,training_idx_3,training_idx_4)"
   ]
  },
  {
   "cell_type": "code",
   "execution_count": 185,
   "metadata": {},
   "outputs": [],
   "source": [
    "labels_list=[]\n",
    "\n",
    "node_list=[]\n",
    "edge_list=[]\n",
    "\n",
    "for j in [\"node_list\",\"edge_list\",\"gate_type\"]:\n",
    "    filename = \"rca_\"+str(4)+\"bit\"+j+'.csv'\n",
    "    if(filename.find(\"node_list\")>=0):\n",
    "        with open(dir+'/'+filename, 'rt') as fh:\n",
    "            reader=csv.reader(fh)\n",
    "            node_list = list(reader)\n",
    "            nodes = np.array(node_list)[0:,0]\n",
    "            labels = np.array(node_list)[0:,1]\n",
    "            label_tensor=torch.zeros(len(labels))\n",
    "            for index,i in enumerate(labels):\n",
    "                if (i=='0'):\n",
    "                    label_tensor[index]=0\n",
    "                elif(i=='1'):\n",
    "                    label_tensor[index]=1\n",
    "                else:\n",
    "                    label_tensor[index]=2\n",
    "    if(filename.find(\"edge_list\")>=0):\n",
    "        with open(dir+'/'+filename, 'rt') as fh:\n",
    "            reader=csv.reader(fh)\n",
    "            edge_list = list(reader)\n",
    "    if(filename.find(\"gate_type\")>=0):\n",
    "        with open(dir+'/'+filename, 'rt') as fh:\n",
    "            reader=csv.reader(fh)\n",
    "            gate_type = list(reader)\n",
    "            feature = torch.zeros(len(gate_type),35)\n",
    "            for index,i in enumerate(gate_type):\n",
    "                x = torch.zeros(1,35)\n",
    "                x[0,int(gate_type[index][0])] = 1\n",
    "                feature[index] = x\n",
    "\n",
    "\n",
    "#create dgl graph\n",
    "# g=build_circuit_graph_undirected(nodes,edge_list)\n",
    "# trainset.append(g)\n",
    "# labels_list.append(label_tensor)"
   ]
  },
  {
   "cell_type": "markdown",
   "metadata": {},
   "source": [
    "### Load Training Data"
   ]
  },
  {
   "cell_type": "code",
   "execution_count": 190,
   "metadata": {},
   "outputs": [],
   "source": [
    "labels_list=[]\n",
    "feature_list=[]\n",
    "trainset=[]\n",
    "for idx in range(len(training_idx_1)):\n",
    "    node_list=[]\n",
    "    edge_list=[]\n",
    "\n",
    "    for j in [\"node_list\",\"edge_list\",\"gate_type\"]:\n",
    "        filename = \"rca_\"+str(training_idx_1[idx])+\"bit\"+j+'.csv'\n",
    "        if(filename.find(\"node_list\")>=0):\n",
    "            with open(dir+'/'+filename, 'rt') as fh:\n",
    "                reader=csv.reader(fh)\n",
    "                node_list = list(reader)\n",
    "                nodes = np.array(node_list)[0:,0]\n",
    "                labels = np.array(node_list)[0:,1]\n",
    "                label_tensor=torch.zeros(len(labels))\n",
    "                for index,i in enumerate(labels):\n",
    "                    if (i=='0'):\n",
    "                        label_tensor[index]=0\n",
    "                    elif(i=='1'):\n",
    "                        label_tensor[index]=1\n",
    "                    else:\n",
    "                        label_tensor[index]=2\n",
    "        if(filename.find(\"edge_list\")>=0):\n",
    "            with open(dir+'/'+filename, 'rt') as fh:\n",
    "                reader=csv.reader(fh)\n",
    "                edge_list = list(reader)\n",
    "        if(filename.find(\"gate_type\")>=0):\n",
    "            with open(dir+'/'+filename, 'rt') as fh:\n",
    "                reader=csv.reader(fh)\n",
    "                gate_type = list(reader)\n",
    "                feature = torch.zeros(len(gate_type),37)\n",
    "                for index,i in enumerate(gate_type):\n",
    "                    x = torch.zeros(1,37)\n",
    "                    x[0,int(gate_type[index][0])] = 1\n",
    "                    feature[index] = x\n",
    "                \n",
    "\n",
    "    #create dgl graph\n",
    "    g=build_circuit_graph_undirected(nodes,edge_list)\n",
    "    trainset.append(g)\n",
    "    labels_list.append(label_tensor)\n",
    "    feature_list.append(feature)"
   ]
  },
  {
   "cell_type": "code",
   "execution_count": 191,
   "metadata": {},
   "outputs": [
    {
     "data": {
      "text/plain": [
       "[tensor([0., 0., 0., 0., 0., 0., 0., 0., 0., 0., 0., 0., 0., 0., 0., 0., 0., 0.,\n",
       "         0., 0., 0., 0., 0., 0., 0., 0., 0., 0., 0., 0., 0., 0., 0., 0., 0., 0.,\n",
       "         0., 0., 0., 0., 0., 0., 0., 0., 0., 0., 0., 0., 0., 0., 0., 0., 0., 0.,\n",
       "         0., 0., 0., 0., 0., 0., 0., 0., 0., 0., 0., 0., 0., 0., 0., 0., 0., 0.,\n",
       "         0., 0., 0., 0., 0., 0., 0., 0., 0., 0., 0., 0., 0., 0., 0., 0., 0., 0.,\n",
       "         2., 2., 2., 2., 2., 2., 2., 2., 2., 2., 2., 2., 2., 2., 2., 2., 2., 2.,\n",
       "         2., 2., 2., 2., 2., 2., 2., 2., 2., 2., 2., 2., 2., 2., 2., 2., 2., 2.,\n",
       "         2., 2., 2., 2., 2., 2., 2., 2., 2., 2., 2., 2., 2., 2., 2., 2., 2., 2.,\n",
       "         2., 2., 2., 2., 2., 2., 2., 2., 2., 2., 2., 2., 2., 2., 2., 2., 2., 2.,\n",
       "         2., 2., 2., 2., 2., 2., 2., 2., 2., 2., 2., 2., 2., 2., 2., 2., 2., 2.,\n",
       "         2., 2., 2., 2., 2., 2., 2., 2., 2., 2., 2., 2., 2., 2., 2., 2., 2., 2.,\n",
       "         2., 2., 2., 2., 2., 2., 2., 2., 2., 2., 2., 2., 2., 2., 2., 2., 2., 2.,\n",
       "         2., 2., 2., 2., 2., 2., 2., 2., 2., 2., 2., 2., 2., 2., 2., 2., 2., 2.,\n",
       "         2., 2., 2., 2., 2., 2., 2., 2., 2., 2., 2., 2., 2., 2., 2., 2., 2., 2.,\n",
       "         2., 2., 2., 2., 2., 2., 2., 2., 2., 2., 2., 2., 2., 2., 2., 2., 2., 2.,\n",
       "         2., 2., 2., 2., 2., 2., 2., 2., 2., 2., 2., 2., 2., 2., 2., 2., 2., 2.,\n",
       "         2., 2., 2., 2., 2., 2., 2., 2., 2., 2., 2., 2., 2., 2., 2., 2., 2., 2.,\n",
       "         2., 2., 2., 2., 2., 2., 2., 2., 2., 2., 2., 2., 2., 2., 2., 2., 2., 2.,\n",
       "         2., 2., 2., 2., 2., 2., 2., 2., 2., 2., 2., 2., 2., 2., 2., 2., 2., 2.,\n",
       "         2., 2., 2., 2., 2., 2., 2., 2., 2., 2., 2., 2., 2., 2., 2., 2., 2., 2.,\n",
       "         2., 2., 2., 2., 2., 2., 2., 2., 2., 2., 2., 2., 2., 2., 2., 2., 2., 2.,\n",
       "         2., 2., 2., 2., 2., 2., 2., 2., 2., 2., 2., 2., 2., 2., 2., 2., 2., 2.,\n",
       "         2., 2., 2., 2., 2., 2., 2., 2., 2., 2., 2., 2., 2., 2., 2., 2., 2., 2.,\n",
       "         2., 2., 2., 2., 2., 2., 2., 2., 2., 2., 2., 2., 2., 2., 2., 2., 2., 2.,\n",
       "         2., 2., 2., 2., 2., 2., 2., 2., 2., 2., 2., 2., 2., 2., 2., 2., 2., 2.,\n",
       "         2., 2., 2., 2., 2., 2., 2., 2., 2., 2., 2., 2., 2., 2., 2., 2., 2., 2.,\n",
       "         2., 2., 2., 2., 2., 2., 2., 2., 2., 2., 2., 2., 2., 2., 2., 2., 2., 2.,\n",
       "         2., 2., 2., 2., 2., 2., 2., 2., 2., 2., 2., 2., 2., 2., 2., 2., 2., 2.,\n",
       "         2., 2., 2., 2., 2., 2., 2., 2., 2., 2., 2., 2., 2., 2., 2., 2., 2., 2.,\n",
       "         2., 2., 2., 2., 2., 2., 2., 2., 2., 2., 2., 1., 1., 1., 1., 1., 1., 1.,\n",
       "         1., 1., 1., 1., 1., 1., 1., 1., 1., 1., 1., 1., 1., 1., 1., 1., 1., 1.,\n",
       "         1., 1., 1., 1., 1., 1., 1., 1., 1., 1., 1., 1., 1., 1., 1., 1., 1., 1.,\n",
       "         1., 1.])]"
      ]
     },
     "execution_count": 191,
     "metadata": {},
     "output_type": "execute_result"
    }
   ],
   "source": [
    "labels_list"
   ]
  },
  {
   "cell_type": "code",
   "execution_count": 210,
   "metadata": {},
   "outputs": [],
   "source": [
    "class Net(torch.nn.Module):\n",
    "    def __init__(self,in_dim,hidden_dim,out_dim):\n",
    "        super(Net, self).__init__()\n",
    "        self.lin = Sequential(Linear(10, 10))\n",
    "        self.conv1 = GCNConv(in_dim, hidden_dim)\n",
    "        self.conv2 = GCNConv(hidden_dim, out_dim)\n",
    "\n",
    "    def forward(self, x, edge_index):\n",
    "        x = F.relu(self.conv1(x, edge_index))\n",
    "        x = F.dropout(x, training=self.training)\n",
    "        x = self.conv2(x, edge_index)\n",
    "\n",
    "        return F.log_softmax(x, dim=1)"
   ]
  },
  {
   "cell_type": "code",
   "execution_count": 216,
   "metadata": {},
   "outputs": [
    {
     "data": {
      "image/png": "[encoded data removed]",
      "text/plain": [
       "<Figure size 432x288 with 1 Axes>"
      ]
     },
     "metadata": {
      "needs_background": "light"
     },
     "output_type": "display_data"
    }
   ],
   "source": [
    "writer = SummaryWriter()\n",
    "loss_func = torch.nn.CrossEntropyLoss()\n",
    "device = torch.device('cuda' if torch.cuda.is_available() else 'cpu')\n",
    "model = Net(37,512,3).to(device)\n",
    "# data = data.to(device)\n",
    "optimizer = torch.optim.Adam(model.parameters(), lr=0.01, weight_decay=5e-4)\n",
    "# optimizer = torch.optim.Adam(model.parameters(), lr=0.01)\n",
    "# x, edge_index = data.x, data.edge_index\n",
    "epoch_losses = []\n",
    "for epoch in range(1, 100):\n",
    "    epoch_loss = 0\n",
    "    for iter, bg in enumerate(trainset):\n",
    "        model.train()\n",
    "        optimizer.zero_grad()\n",
    "        #using indegree as features\n",
    "#         x = bg.in_degrees().view(-1, 1).float()\n",
    "        x = feature_list[iter]\n",
    "        \n",
    "        a = bg.edges()[0].tolist()\n",
    "        b = bg.edges()[1].tolist()\n",
    "        edges = list(zip(a,b))\n",
    "        edges = np.array(edges)\n",
    "        edges = torch.LongTensor(edges.transpose())\n",
    "\n",
    "        log_logits = model(x, edges)\n",
    "        \n",
    "        label_tensor = labels_list[iter].long()\n",
    "\n",
    "        loss = F.nll_loss(log_logits, label_tensor)\n",
    "        loss.backward()\n",
    "        optimizer.step()\n",
    "        epoch_loss += loss.detach().item()\n",
    "        \n",
    "        writer.add_scalar('Loss/train', loss.detach().item(), epoch)\n",
    "    epoch_loss /= (iter + 1)\n",
    "    epoch_losses.append(epoch_loss)\n",
    "    writer.add_scalar('Loss/train', epoch_loss,epoch)\n",
    "plt.title('cross entropy averaged over minibatches')\n",
    "plt.plot(epoch_losses)\n",
    "plt.show()"
   ]
  },
  {
   "cell_type": "code",
   "execution_count": 217,
   "metadata": {},
   "outputs": [],
   "source": [
    "\n",
    "for j in [\"node_list\",\"edge_list\",\"gate_type\"]:\n",
    "    filename = \"csa_\"+str(16)+\"bit\"+j+'.csv'\n",
    "    if(filename.find(\"node_list\")>=0):\n",
    "                with open(dir+'/'+filename, 'rt') as fh:\n",
    "                    reader=csv.reader(fh)\n",
    "                    node_list = list(reader)\n",
    "                    nodes = np.array(node_list)[0:,0]\n",
    "                    labels = np.array(node_list)[0:,1]\n",
    "                    label_tensor=torch.zeros(len(labels),1)\n",
    "                    for index,i in enumerate(labels):\n",
    "                        if (i=='0'):\n",
    "                            label_tensor[index]=0\n",
    "                        elif(i=='1'):\n",
    "                            label_tensor[index]=1\n",
    "                        else:\n",
    "                            label_tensor[index]=2\n",
    "    if(filename.find(\"edge_list\")>=0):\n",
    "                with open(dir+'/'+filename, 'rt') as fh:\n",
    "                    reader=csv.reader(fh)\n",
    "                    edge_list = list(reader)\n",
    "    if(filename.find(\"gate_type\")>=0):\n",
    "            with open(dir+'/'+filename, 'rt') as fh:\n",
    "                reader=csv.reader(fh)\n",
    "                gate_type = list(reader)\n",
    "                feature = torch.zeros(len(gate_type),37)\n",
    "                for index,i in enumerate(gate_type):\n",
    "                    x = torch.zeros(1,37)\n",
    "                    x[0,int(gate_type[index][0])] = 1\n",
    "                    feature[index] = x\n",
    "test_g=build_circuit_graph_undirected(nodes,edge_list)\n",
    "\n"
   ]
  },
  {
   "cell_type": "code",
   "execution_count": 218,
   "metadata": {},
   "outputs": [],
   "source": [
    "model.eval()\n",
    "x = feature\n",
    "a = test_g.edges()[0].tolist()\n",
    "b = test_g.edges()[1].tolist()\n",
    "edges= list(zip(a,b))\n",
    "edges=np.array(edges)\n",
    "edges=torch.LongTensor(edges.transpose())\n",
    "probs_Y = model(x, edges)\n",
    "\n",
    "#Add to tensorboard\n",
    "writer.add_embedding(probs_Y,label_tensor,tag='output')\n",
    "writer.add_graph(model,(x,edges))\n",
    "writer.close()"
   ]
  },
  {
   "cell_type": "code",
   "execution_count": 219,
   "metadata": {},
   "outputs": [
    {
     "name": "stdout",
     "output_type": "stream",
     "text": [
      "Accuracy of argmax predictions on the test set: 99.4595%\n",
      "370\n"
     ]
    }
   ],
   "source": [
    "\n",
    "\n",
    "# sampled_Y = torch.multinomial(probs_Y, 1)\n",
    "argmax_Y = torch.max(probs_Y, 1)[1].view(-1, 1)\n",
    "# print('Accuracy of sampled predictions on the test set: {:.4f}%'.format(\n",
    "#     (label_tensor == sampled_Y.float()).sum().item() / len(label_tensor) * 100))\n",
    "print('Accuracy of argmax predictions on the test set: {:.4f}%'.format(\n",
    "    (label_tensor == argmax_Y.float()).sum().item() / len(label_tensor) * 100))\n",
    "\n",
    "print(len(label_tensor))\n",
    "# print(log_logits)"
   ]
  },
  {
   "cell_type": "code",
   "execution_count": 220,
   "metadata": {},
   "outputs": [
    {
     "name": "stdout",
     "output_type": "stream",
     "text": [
      "Total 2 errors out of 370 test data\n",
      "tensor([-8.6186e+00, -2.3162e+01, -1.8070e-04], grad_fn=<SelectBackward>) tensor([0.])\n",
      "0\n",
      "tensor([-6.8132e+00, -2.0120e+01, -1.0998e-03], grad_fn=<SelectBackward>) tensor([0.])\n",
      "1\n"
     ]
    }
   ],
   "source": [
    "error = (label_tensor != argmax_Y.float()).nonzero()\n",
    "print('Total', len(error),'errors out of',len(label_tensor),'test data')\n",
    "for i in error.cpu().numpy():\n",
    "    error_idx= i[0]\n",
    "    print(probs_Y[error_idx],label_tensor[error_idx])\n",
    "    print(error_idx)"
   ]
  },
  {
   "cell_type": "code",
   "execution_count": null,
   "metadata": {},
   "outputs": [],
   "source": []
  },
  {
   "cell_type": "code",
   "execution_count": 225,
   "metadata": {},
   "outputs": [
    {
     "name": "stderr",
     "output_type": "stream",
     "text": [
      "Explain node 5: 100%|██████████| 200/200 [00:00<00:00, 345.30it/s]\n"
     ]
    },
    {
     "data": {
      "image/png": "[encoded data removed]",
      "text/plain": [
       "<Figure size 432x288 with 1 Axes>"
      ]
     },
     "metadata": {},
     "output_type": "display_data"
    }
   ],
   "source": [
    "## model.eval()\n",
    "# x = g.in_degrees().view(-1, 1).float()\n",
    "x = feature\n",
    "a = test_g.edges()[0].tolist()\n",
    "b = test_g.edges()[1].tolist()\n",
    "edges= list(zip(a,b))\n",
    "edges=np.array(edges)\n",
    "edges=torch.LongTensor(edges.transpose())\n",
    "probs_Y = model(x, edges)\n",
    "\n",
    "explainer = GNNExplainer(model, epochs=200)\n",
    "node_idx = 5\n",
    "node_feat_mask, edge_mask = explainer.explain_node(node_idx, x, edges)\n",
    "\n",
    "\n",
    "plt = explainer.visualize_subgraph(node_idx, edge_index=edges, edge_mask=edge_mask, y=label_tensor,threshold=0.7)\n",
    "plt.show()"
   ]
  },
  {
   "cell_type": "code",
   "execution_count": 215,
   "metadata": {},
   "outputs": [
    {
     "data": {
      "text/plain": [
       "(torch.Size([2, 1378]), 37, 1378)"
      ]
     },
     "execution_count": 215,
     "metadata": {},
     "output_type": "execute_result"
    }
   ],
   "source": [
    "edges.size(),len(node_feat_mask),len(edge_mask)"
   ]
  },
  {
   "cell_type": "code",
   "execution_count": 201,
   "metadata": {},
   "outputs": [],
   "source": [
    "GCN1_act = []\n",
    "GCN2_act = []\n",
    "graph_emb = []\n",
    "final_class = []\n",
    "\n",
    "def get_activation_1(self,input,output):\n",
    "    print(output.size())\n",
    "    GCN1_act.append(output.data.cpu().numpy())\n",
    "    \n",
    "def get_activation_2(self,input,output):\n",
    "    print(output.size())\n",
    "    GCN2_act.append(output.data.cpu().numpy())\n",
    "    \n",
    "def get_activation_3(self,input,output):\n",
    "    print(output.size())\n",
    "    graph_emb.append(input[0].cpu().detach().numpy())\n",
    "    final_class.append(output.data.cpu().numpy())"
   ]
  },
  {
   "cell_type": "code",
   "execution_count": 202,
   "metadata": {},
   "outputs": [],
   "source": [
    "h1 = model.conv1.register_forward_hook(get_activation_1)\n",
    "h2 = model.conv2.register_forward_hook(get_activation_2)\n",
    "# h3 = model.classify.register_forward_hook(get_activation_3)\n",
    "\n",
    "# for i in range(len(testset)):\n",
    "#     out = model(testset[i])"
   ]
  },
  {
   "cell_type": "code",
   "execution_count": 73,
   "metadata": {},
   "outputs": [
    {
     "name": "stdout",
     "output_type": "stream",
     "text": [
      "torch.Size([149, 512])\n",
      "torch.Size([149, 3])\n"
     ]
    }
   ],
   "source": [
    "probs_Y = model(x, edges)"
   ]
  },
  {
   "cell_type": "code",
   "execution_count": 74,
   "metadata": {},
   "outputs": [
    {
     "data": {
      "text/plain": [
       "(1, 1)"
      ]
     },
     "execution_count": 74,
     "metadata": {},
     "output_type": "execute_result"
    }
   ],
   "source": [
    "len(GCN1_act),len(GCN2_act)"
   ]
  },
  {
   "cell_type": "code",
   "execution_count": 75,
   "metadata": {},
   "outputs": [],
   "source": [
    "GCN1_act[0]\n",
    "writer.add_embedding(GCN1_act[0],label_tensor,tag='GCN1')"
   ]
  },
  {
   "cell_type": "code",
   "execution_count": 76,
   "metadata": {},
   "outputs": [],
   "source": [
    "GCN2_act\n",
    "writer.add_embedding(GCN2_act[0],label_tensor,tag='GCN2')"
   ]
  },
  {
   "cell_type": "code",
   "execution_count": 77,
   "metadata": {},
   "outputs": [
    {
     "data": {
      "text/plain": [
       "[array([[ -2.538664  ,  -7.037983  ,   9.469903  ],\n",
       "        [ -2.1842594 ,  -3.541679  ,   5.6376457 ],\n",
       "        [ -2.370746  ,  -7.333452  ,   9.59091   ],\n",
       "        [ -2.285308  ,  -7.0473957 ,   9.222534  ],\n",
       "        [ -2.4004745 ,  -6.7464137 ,   9.033851  ],\n",
       "        [ -2.2628157 ,  -7.020892  ,   9.166858  ],\n",
       "        [ -2.1996596 ,  -6.7635417 ,   8.865248  ],\n",
       "        [ -2.3223639 ,  -7.0004244 ,   9.21385   ],\n",
       "        [ -2.232582  ,  -6.549302  ,   8.665788  ],\n",
       "        [ -2.3330593 ,  -6.8349013 ,   9.048173  ],\n",
       "        [ -2.311273  ,  -7.263563  ,   9.4718485 ],\n",
       "        [ -2.2645824 ,  -6.6593857 ,   8.814188  ],\n",
       "        [ -2.253508  ,  -6.91223   ,   9.055968  ],\n",
       "        [ -2.3540523 ,  -7.3466063 ,   9.586225  ],\n",
       "        [ -2.2424726 ,  -7.0815406 ,   9.211971  ],\n",
       "        [ -2.417153  ,  -6.788133  ,   9.089881  ],\n",
       "        [ -2.3190393 ,  -6.907757  ,   9.113196  ],\n",
       "        [ -2.2525532 ,  -6.842358  ,   8.992695  ],\n",
       "        [ -2.3509257 ,  -6.884099  ,   9.130473  ],\n",
       "        [ -2.1986222 ,  -6.4343333 ,   8.519629  ],\n",
       "        [ -2.3434374 ,  -6.838475  ,   9.060713  ],\n",
       "        [ -2.280171  ,  -7.181295  ,   9.3575325 ],\n",
       "        [ -2.2978835 ,  -6.636941  ,   8.8244505 ],\n",
       "        [ -2.258255  ,  -7.0029173 ,   9.151683  ],\n",
       "        [ -2.0947936 ,  -5.665438  ,   7.647045  ],\n",
       "        [ -2.2079837 ,  -6.8664193 ,   8.961077  ],\n",
       "        [ -2.4648826 ,  -8.897714  ,  11.242772  ],\n",
       "        [ -2.1016052 ,  -6.650041  ,   8.641129  ],\n",
       "        [ -1.9304845 ,  -5.480391  ,   7.3051615 ],\n",
       "        [ -2.3100321 ,  -7.9118056 ,  10.10541   ],\n",
       "        [ -2.3712447 ,  -5.3123593 ,   7.5873966 ],\n",
       "        [ -2.5963798 , -10.072518  ,  12.5459175 ],\n",
       "        [ -2.0394778 ,  -7.4747033 ,   9.394753  ],\n",
       "        [ -1.9599316 ,  -5.326272  ,   7.178257  ],\n",
       "        [ -2.1016808 ,  -6.4783835 ,   8.466828  ],\n",
       "        [ -2.365076  ,  -8.371975  ,  10.607453  ],\n",
       "        [ -2.2283723 ,  -6.976191  ,   9.091607  ],\n",
       "        [ -2.082084  ,  -5.94021   ,   7.9144993 ],\n",
       "        [ -2.3561852 ,  -8.106665  ,  10.34843   ],\n",
       "        [ -2.2868893 ,  -5.566283  ,   7.752807  ],\n",
       "        [ -2.4897282 ,  -9.81971   ,  12.175271  ],\n",
       "        [ -2.079088  ,  -7.9755025 ,   9.934928  ],\n",
       "        [ -2.1214373 ,  -5.4628887 ,   7.476332  ],\n",
       "        [ -2.2836812 ,  -7.0776944 ,   9.242859  ],\n",
       "        [ -2.5742342 ,  -9.140922  ,  11.583846  ],\n",
       "        [ -2.1899273 ,  -7.0887036 ,   9.16151   ],\n",
       "        [ -1.994175  ,  -5.4874725 ,   7.376075  ],\n",
       "        [ -2.3474193 ,  -8.311009  ,  10.536061  ],\n",
       "        [ -2.487253  ,  -5.7203794 ,   8.110113  ],\n",
       "        [ -2.5837986 , -10.16882   ,  12.617742  ],\n",
       "        [ -2.051904  ,  -7.5703917 ,   9.507673  ],\n",
       "        [ -2.0402172 ,  -5.4439297 ,   7.382321  ],\n",
       "        [ -2.2144446 ,  -6.659735  ,   8.769013  ],\n",
       "        [ -2.5072088 ,  -8.704689  ,  11.099468  ],\n",
       "        [ -2.1589506 ,  -6.5210295 ,   8.5759735 ],\n",
       "        [ -2.033364  ,  -5.4380584 ,   7.36353   ],\n",
       "        [ -2.3176663 ,  -7.993262  ,  10.195608  ],\n",
       "        [ -2.3769135 ,  -5.118697  ,   7.386628  ],\n",
       "        [ -2.5168343 ,  -9.94197   ,  12.3418255 ],\n",
       "        [ -2.0823007 ,  -7.628268  ,   9.598361  ],\n",
       "        [ -2.1642933 ,  -5.764028  ,   7.816565  ],\n",
       "        [ -2.3049588 ,  -6.7349067 ,   8.920218  ],\n",
       "        [ -2.4720123 ,  -8.911535  ,  11.262198  ],\n",
       "        [ -2.2027242 ,  -6.361791  ,   8.453586  ],\n",
       "        [ -2.07342   ,  -5.4445186 ,   7.4053426 ],\n",
       "        [ -2.2473168 ,  -7.51129   ,   9.6511755 ],\n",
       "        [ -2.5127394 ,  -5.364154  ,   7.768903  ],\n",
       "        [ -2.4716682 ,  -9.621346  ,  11.9755535 ],\n",
       "        [ -2.1465287 ,  -7.211977  ,   9.25196   ],\n",
       "        [ -2.0175319 ,  -5.6343136 ,   7.5536737 ],\n",
       "        [ -2.2541888 ,  -6.4308085 ,   8.5850525 ],\n",
       "        [ -2.426627  ,  -8.79259   ,  11.1024475 ],\n",
       "        [ -2.2260175 ,  -6.4127264 ,   8.54582   ],\n",
       "        [ -1.9408267 ,  -5.756004  ,   7.6018815 ],\n",
       "        [ -2.2445784 ,  -8.006705  ,  10.148008  ],\n",
       "        [ -2.1864161 ,  -5.4830184 ,   7.580103  ],\n",
       "        [ -3.0791745 ,  -7.4908023 ,  10.459784  ],\n",
       "        [ -2.189896  ,  -7.563531  ,   9.631938  ],\n",
       "        [ -2.1076005 ,  -6.055117  ,   8.054153  ],\n",
       "        [ -2.281514  ,  -7.156984  ,   9.322242  ],\n",
       "        [ -2.3618445 ,  -8.705724  ,  10.945918  ],\n",
       "        [ -2.2411673 ,  -6.8256464 ,   8.950993  ],\n",
       "        [ -2.1749086 ,  -5.8233514 ,   7.8911552 ],\n",
       "        [ -2.412406  ,  -7.920036  ,  10.216747  ],\n",
       "        [ -2.4041142 ,  -5.200557  ,   7.5075707 ],\n",
       "        [ -2.552627  ,  -9.881082  ,  12.300984  ],\n",
       "        [ -2.1178913 ,  -7.905255  ,   9.9108305 ],\n",
       "        [ -2.0414605 ,  -5.5069385 ,   7.4563847 ],\n",
       "        [ -2.2120008 ,  -6.9791455 ,   9.091895  ],\n",
       "        [ -2.4663687 ,  -9.181806  ,  11.532744  ],\n",
       "        [ -2.2089727 ,  -7.000852  ,   9.10445   ],\n",
       "        [ -2.0531967 ,  -5.7690396 ,   7.706859  ],\n",
       "        [ -2.3833463 ,  -8.692125  ,  10.942137  ],\n",
       "        [ -2.486157  ,  -5.932369  ,   8.314759  ],\n",
       "        [ -2.5530024 , -10.024978  ,  12.460002  ],\n",
       "        [ -1.9578009 ,  -7.1502104 ,   9.002132  ],\n",
       "        [ -2.2000108 ,  -5.2457147 ,   7.3425655 ],\n",
       "        [ -2.2526152 ,  -6.671554  ,   8.812679  ],\n",
       "        [ -2.4066403 ,  -8.255314  ,  10.551108  ],\n",
       "        [ -2.310377  ,  -6.8664727 ,   9.059052  ],\n",
       "        [ -2.1974337 ,  -5.7374783 ,   7.8277855 ],\n",
       "        [ -2.3008268 ,  -8.025679  ,  10.212335  ],\n",
       "        [ -2.3877223 ,  -5.0894914 ,   7.3760686 ],\n",
       "        [ -2.453776  ,  -9.58844   ,  11.9140835 ],\n",
       "        [ -1.9285324 ,  -7.4642015 ,   9.275992  ],\n",
       "        [ -1.9933472 ,  -5.3878837 ,   7.2716994 ],\n",
       "        [ -2.1764061 ,  -6.7791324 ,   8.843902  ],\n",
       "        [ -2.319313  ,  -8.357978  ,  10.557958  ],\n",
       "        [ -2.240401  ,  -6.975537  ,   9.100231  ],\n",
       "        [ -2.073272  ,  -5.6484466 ,   7.6083508 ],\n",
       "        [ -2.3452895 ,  -7.99976   ,  10.22005   ],\n",
       "        [ -2.4539769 ,  -5.016436  ,   7.366463  ],\n",
       "        [ -2.4388533 ,  -9.855418  ,  12.160397  ],\n",
       "        [ -2.7932792 ,  -0.23834825,   2.9877036 ],\n",
       "        [ -2.8359396 ,  -0.5433252 ,   3.3123658 ],\n",
       "        [ -2.8292243 ,  -0.1504207 ,   2.9179814 ],\n",
       "        [ -2.791801  ,  -0.23246738,   2.9754837 ],\n",
       "        [ -2.675517  ,  -0.4509748 ,   3.0589397 ],\n",
       "        [ -2.7985497 ,  -0.5356747 ,   3.2766495 ],\n",
       "        [ -2.900243  ,  -0.24713904,   3.0842757 ],\n",
       "        [ -2.9564588 ,  -0.42203715,   3.3185604 ],\n",
       "        [ -2.8412452 ,  -0.04822457,   2.8172169 ],\n",
       "        [ -2.6154094 ,  -0.56835544,   3.1080017 ],\n",
       "        [ -2.4548566 ,  -0.7341629 ,   3.124353  ],\n",
       "        [ -3.2757075 ,   1.3327484 ,   1.8895284 ],\n",
       "        [ -2.084455  ,  -7.8765244 ,   9.831653  ],\n",
       "        [ -1.9938705 ,  -5.6242433 ,   7.5126367 ],\n",
       "        [ -2.2090342 ,  -6.917957  ,   9.012893  ],\n",
       "        [ -2.3800516 ,  -8.804995  ,  11.0672655 ],\n",
       "        [ -2.1519823 ,  -6.737565  ,   8.771005  ],\n",
       "        [ -1.9150784 ,  -5.43718   ,   7.239971  ],\n",
       "        [ -2.2385955 ,  -8.091667  ,  10.216982  ],\n",
       "        [ -2.3303137 ,  -5.491886  ,   7.717229  ],\n",
       "        [ -2.4442828 ,  -9.676483  ,  11.99562   ],\n",
       "        [ -2.123512  ,  -7.4388604 ,   9.446113  ],\n",
       "        [ -2.035239  ,  -4.7760825 ,   6.7150707 ],\n",
       "        [ -2.172232  ,  -4.549649  ,   6.6297865 ],\n",
       "        [ -2.7096198 ,   2.7647345 ,  -0.08033378],\n",
       "        [ -2.6527507 ,   2.7973197 ,  -0.18880899],\n",
       "        [ -2.69866   ,   2.9183528 ,  -0.26826248],\n",
       "        [ -2.5559459 ,   2.7342832 ,  -0.20955761],\n",
       "        [ -2.4913867 ,   2.6123974 ,  -0.17829992],\n",
       "        [ -2.6350424 ,   2.7495093 ,  -0.15118976],\n",
       "        [ -2.709356  ,   2.9523199 ,  -0.286965  ],\n",
       "        [ -2.704726  ,   2.9843025 ,  -0.3170866 ],\n",
       "        [ -2.6375787 ,   2.6997547 ,  -0.12287088],\n",
       "        [ -2.3911462 ,   2.300034  ,   0.02472468],\n",
       "        [ -2.214463  ,   2.2013755 ,  -0.04342846],\n",
       "        [ -3.21879   ,   3.3486276 ,  -0.18000992]], dtype=float32)]"
      ]
     },
     "execution_count": 77,
     "metadata": {},
     "output_type": "execute_result"
    }
   ],
   "source": [
    "GCN2_act"
   ]
  },
  {
   "cell_type": "code",
   "execution_count": null,
   "metadata": {},
   "outputs": [],
   "source": []
  }
 ],
 "metadata": {
  "kernelspec": {
   "display_name": "pytorch",
   "language": "python",
   "name": "pytorch"
  },
  "language_info": {
   "codemirror_mode": {
    "name": "ipython",
    "version": 3
   },
   "file_extension": ".py",
   "mimetype": "text/x-python",
   "name": "python",
   "nbconvert_exporter": "python",
   "pygments_lexer": "ipython3",
   "version": "3.8.2"
  }
 },
 "nbformat": 4,
 "nbformat_minor": 4
}
