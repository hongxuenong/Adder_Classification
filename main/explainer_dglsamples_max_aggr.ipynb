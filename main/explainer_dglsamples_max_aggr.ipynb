{
 "cells": [
  {
   "cell_type": "markdown",
   "metadata": {},
   "source": [
    "### Import"
   ]
  },
  {
   "cell_type": "code",
   "execution_count": 2,
   "metadata": {},
   "outputs": [
    {
     "name": "stderr",
     "output_type": "stream",
     "text": [
      "Using backend: pytorch\n"
     ]
    }
   ],
   "source": [
    "import torch\n",
    "import torch.nn as nn\n",
    "import torch.nn.functional as F\n",
    "import torch.optim as optim\n",
    "import torch_geometric \n",
    "from torch_geometric.datasets import GeometricShapes\n",
    "from torch.utils.data import DataLoader\n",
    "from torch_geometric.nn import GCNConv\n",
    "import matplotlib.pyplot as plt\n",
    "import numpy as np\n",
    "import torch_geometric.utils as pygutils\n",
    "import dgl\n",
    "from dgl.data import MiniGCDataset\n",
    "import matplotlib.pyplot as plt\n",
    "import networkx as nx\n",
    "\n",
    "from gnnexplainer.GNNExplainer import GNNExplainer\n",
    "# from torch_geometric.nn import  GNNExplainer"
   ]
  },
  {
   "cell_type": "code",
   "execution_count": 3,
   "metadata": {},
   "outputs": [],
   "source": [
    "import dgl.function as fn\n",
    "import torch\n",
    "import torch.nn as nn"
   ]
  },
  {
   "cell_type": "markdown",
   "metadata": {},
   "source": [
    "### Load Dataset"
   ]
  },
  {
   "cell_type": "code",
   "execution_count": 4,
   "metadata": {},
   "outputs": [
    {
     "data": {
      "image/png": "[encoded data removed]",
      "text/plain": [
       "<Figure size 432x288 with 1 Axes>"
      ]
     },
     "metadata": {},
     "output_type": "display_data"
    }
   ],
   "source": [
    "\n",
    "# A dataset with 80 samples, each graph is\n",
    "# of size [10, 20]\n",
    "trainset = MiniGCDataset(600, 12, 20)\n",
    "testset = MiniGCDataset(60, 12, 20)\n",
    "graph, label = trainset[55]\n",
    "fig, ax = plt.subplots()\n",
    "nx.draw(graph.to_networkx(), ax=ax)\n",
    "ax.set_title('Class: {:d}'.format(label))\n",
    "plt.show()"
   ]
  },
  {
   "cell_type": "markdown",
   "metadata": {},
   "source": [
    "### Net Definition"
   ]
  },
  {
   "cell_type": "code",
   "execution_count": 5,
   "metadata": {},
   "outputs": [],
   "source": [
    "def collate(samples):\n",
    "    # The input `samples` is a list of pairs\n",
    "    #  (graph, label).\n",
    "    graphs, labels = map(list, zip(*samples))\n",
    "    batched_graph = dgl.batch(graphs)\n",
    "    return batched_graph, torch.tensor(labels)\n",
    "\n",
    "train_data_loader = DataLoader(trainset, batch_size=1, shuffle=True,collate_fn=collate)\n",
    "\n",
    "traindata=[]\n",
    "for iter, (g,label) in enumerate(train_data_loader):\n",
    "    if(label == 5):\n",
    "        traindata.append((g,0))\n",
    "    if(label == 7):\n",
    "        traindata.append((g,1)) "
   ]
  },
  {
   "cell_type": "code",
   "execution_count": 60,
   "metadata": {},
   "outputs": [],
   "source": [
    "class Net(torch.nn.Module):\n",
    "    def __init__(self,in_dim, hidden_dim, n_classes):\n",
    "        super(Net, self).__init__()\n",
    "#         self.lin = Sequential(Linear(10, 10))\n",
    "        self.conv1 = GCNConv(in_dim, hidden_dim)\n",
    "        self.conv2 = GCNConv(hidden_dim, hidden_dim)\n",
    "        \n",
    "        self.classify = nn.Linear(hidden_dim, n_classes)\n",
    "\n",
    "    def forward(self, x, edge_index):\n",
    "        h1 = F.relu(self.conv1(x, edge_index))\n",
    "#         h2 = F.dropout(h1, training=self.training)\n",
    "        h3 = F.relu(self.conv2(h1, edge_index))\n",
    "#         print(h3.shape)\n",
    "        y = torch.max(h3, 0).values\n",
    "        return self.classify(y)"
   ]
  },
  {
   "cell_type": "markdown",
   "metadata": {},
   "source": [
    "### Training"
   ]
  },
  {
   "cell_type": "code",
   "execution_count": 61,
   "metadata": {},
   "outputs": [],
   "source": [
    "training_epoch = 500 #original = 1500 for 1 training sample 500 for 20 samples\n",
    "initial_lr = 0.01\n",
    "\n",
    "device = torch.device('cuda' if torch.cuda.is_available() else 'cpu')\n",
    "\n",
    "model_name = 'explaingraph_epoch30005-May-2020-13:32:24'\n",
    "SAVE_PATH = './models/' + model_name\n",
    "model = Net(1, 256, 2).to(device)\n",
    "optimizer = optim.Adam(model.parameters(), lr = initial_lr,weight_decay=5e-4)\n",
    "# optimizer = optim.SGD(model.parameters(), lr = initial_lr, momentum=0.9, weight_decay=5e-4)\n",
    "training = 'New'\n",
    "if(training == 'New'):\n",
    "    model_name = 'explain_graph_MaxNet_epoch{}'.format(training_epoch)\n",
    "if(training=='Continue'):\n",
    "    checkpoint = torch.load(SAVE_PATH)\n",
    "    model.load_state_dict(checkpoint['model_state_dict'])\n",
    "    optimizer.load_state_dict(checkpoint['optimizer_state_dict'])\n",
    "    start_epoch = checkpoint['epoch']\n",
    "    # loss = checkpoint['loss']\n",
    "    print(device)\n",
    "    training=''"
   ]
  },
  {
   "cell_type": "code",
   "execution_count": 62,
   "metadata": {},
   "outputs": [
    {
     "name": "stdout",
     "output_type": "stream",
     "text": [
      "Epoch 0, loss 0.7182\n"
     ]
    },
    {
     "ename": "KeyboardInterrupt",
     "evalue": "",
     "output_type": "error",
     "traceback": [
      "\u001b[0;31m---------------------------------------------------------------------------\u001b[0m",
      "\u001b[0;31mKeyboardInterrupt\u001b[0m                         Traceback (most recent call last)",
      "\u001b[0;32m<ipython-input-62-202f04c8d228>\u001b[0m in \u001b[0;36m<module>\u001b[0;34m\u001b[0m\n\u001b[1;32m     45\u001b[0m \u001b[0;34m\u001b[0m\u001b[0m\n\u001b[1;32m     46\u001b[0m         \u001b[0mprediction\u001b[0m \u001b[0;34m=\u001b[0m \u001b[0mtorch\u001b[0m\u001b[0;34m.\u001b[0m\u001b[0mzeros\u001b[0m\u001b[0;34m(\u001b[0m\u001b[0;36m1\u001b[0m\u001b[0;34m,\u001b[0m\u001b[0;36m2\u001b[0m\u001b[0;34m)\u001b[0m\u001b[0;34m.\u001b[0m\u001b[0mcuda\u001b[0m\u001b[0;34m(\u001b[0m\u001b[0;34m)\u001b[0m\u001b[0;34m\u001b[0m\u001b[0;34m\u001b[0m\u001b[0m\n\u001b[0;32m---> 47\u001b[0;31m         \u001b[0mprediction\u001b[0m\u001b[0;34m[\u001b[0m\u001b[0;36m0\u001b[0m\u001b[0;34m]\u001b[0m \u001b[0;34m=\u001b[0m \u001b[0mmodel\u001b[0m\u001b[0;34m(\u001b[0m\u001b[0mx\u001b[0m\u001b[0;34m,\u001b[0m\u001b[0medges\u001b[0m\u001b[0;34m)\u001b[0m\u001b[0;34m\u001b[0m\u001b[0;34m\u001b[0m\u001b[0m\n\u001b[0m\u001b[1;32m     48\u001b[0m         \u001b[0mpredictions\u001b[0m \u001b[0;34m+=\u001b[0m \u001b[0mprediction\u001b[0m\u001b[0;34m.\u001b[0m\u001b[0mcpu\u001b[0m\u001b[0;34m(\u001b[0m\u001b[0;34m)\u001b[0m\u001b[0;34m.\u001b[0m\u001b[0mdetach\u001b[0m\u001b[0;34m(\u001b[0m\u001b[0;34m)\u001b[0m\u001b[0;34m.\u001b[0m\u001b[0mnumpy\u001b[0m\u001b[0;34m(\u001b[0m\u001b[0;34m)\u001b[0m\u001b[0;34m.\u001b[0m\u001b[0mtolist\u001b[0m\u001b[0;34m(\u001b[0m\u001b[0;34m)\u001b[0m\u001b[0;34m\u001b[0m\u001b[0;34m\u001b[0m\u001b[0m\n\u001b[1;32m     49\u001b[0m \u001b[0;34m\u001b[0m\u001b[0m\n",
      "\u001b[0;32m~/anaconda3/envs/pytorch/lib/python3.8/site-packages/torch/nn/modules/module.py\u001b[0m in \u001b[0;36m__call__\u001b[0;34m(self, *input, **kwargs)\u001b[0m\n\u001b[1;32m    548\u001b[0m             \u001b[0mresult\u001b[0m \u001b[0;34m=\u001b[0m \u001b[0mself\u001b[0m\u001b[0;34m.\u001b[0m\u001b[0m_slow_forward\u001b[0m\u001b[0;34m(\u001b[0m\u001b[0;34m*\u001b[0m\u001b[0minput\u001b[0m\u001b[0;34m,\u001b[0m \u001b[0;34m**\u001b[0m\u001b[0mkwargs\u001b[0m\u001b[0;34m)\u001b[0m\u001b[0;34m\u001b[0m\u001b[0;34m\u001b[0m\u001b[0m\n\u001b[1;32m    549\u001b[0m         \u001b[0;32melse\u001b[0m\u001b[0;34m:\u001b[0m\u001b[0;34m\u001b[0m\u001b[0;34m\u001b[0m\u001b[0m\n\u001b[0;32m--> 550\u001b[0;31m             \u001b[0mresult\u001b[0m \u001b[0;34m=\u001b[0m \u001b[0mself\u001b[0m\u001b[0;34m.\u001b[0m\u001b[0mforward\u001b[0m\u001b[0;34m(\u001b[0m\u001b[0;34m*\u001b[0m\u001b[0minput\u001b[0m\u001b[0;34m,\u001b[0m \u001b[0;34m**\u001b[0m\u001b[0mkwargs\u001b[0m\u001b[0;34m)\u001b[0m\u001b[0;34m\u001b[0m\u001b[0;34m\u001b[0m\u001b[0m\n\u001b[0m\u001b[1;32m    551\u001b[0m         \u001b[0;32mfor\u001b[0m \u001b[0mhook\u001b[0m \u001b[0;32min\u001b[0m \u001b[0mself\u001b[0m\u001b[0;34m.\u001b[0m\u001b[0m_forward_hooks\u001b[0m\u001b[0;34m.\u001b[0m\u001b[0mvalues\u001b[0m\u001b[0;34m(\u001b[0m\u001b[0;34m)\u001b[0m\u001b[0;34m:\u001b[0m\u001b[0;34m\u001b[0m\u001b[0;34m\u001b[0m\u001b[0m\n\u001b[1;32m    552\u001b[0m             \u001b[0mhook_result\u001b[0m \u001b[0;34m=\u001b[0m \u001b[0mhook\u001b[0m\u001b[0;34m(\u001b[0m\u001b[0mself\u001b[0m\u001b[0;34m,\u001b[0m \u001b[0minput\u001b[0m\u001b[0;34m,\u001b[0m \u001b[0mresult\u001b[0m\u001b[0;34m)\u001b[0m\u001b[0;34m\u001b[0m\u001b[0;34m\u001b[0m\u001b[0m\n",
      "\u001b[0;32m<ipython-input-60-18314347bd80>\u001b[0m in \u001b[0;36mforward\u001b[0;34m(self, x, edge_index)\u001b[0m\n\u001b[1;32m      9\u001b[0m \u001b[0;34m\u001b[0m\u001b[0m\n\u001b[1;32m     10\u001b[0m     \u001b[0;32mdef\u001b[0m \u001b[0mforward\u001b[0m\u001b[0;34m(\u001b[0m\u001b[0mself\u001b[0m\u001b[0;34m,\u001b[0m \u001b[0mx\u001b[0m\u001b[0;34m,\u001b[0m \u001b[0medge_index\u001b[0m\u001b[0;34m)\u001b[0m\u001b[0;34m:\u001b[0m\u001b[0;34m\u001b[0m\u001b[0;34m\u001b[0m\u001b[0m\n\u001b[0;32m---> 11\u001b[0;31m         \u001b[0mh1\u001b[0m \u001b[0;34m=\u001b[0m \u001b[0mF\u001b[0m\u001b[0;34m.\u001b[0m\u001b[0mrelu\u001b[0m\u001b[0;34m(\u001b[0m\u001b[0mself\u001b[0m\u001b[0;34m.\u001b[0m\u001b[0mconv1\u001b[0m\u001b[0;34m(\u001b[0m\u001b[0mx\u001b[0m\u001b[0;34m,\u001b[0m \u001b[0medge_index\u001b[0m\u001b[0;34m)\u001b[0m\u001b[0;34m)\u001b[0m\u001b[0;34m\u001b[0m\u001b[0;34m\u001b[0m\u001b[0m\n\u001b[0m\u001b[1;32m     12\u001b[0m \u001b[0;31m#         h2 = F.dropout(h1, training=self.training)\u001b[0m\u001b[0;34m\u001b[0m\u001b[0;34m\u001b[0m\u001b[0;34m\u001b[0m\u001b[0m\n\u001b[1;32m     13\u001b[0m         \u001b[0mh3\u001b[0m \u001b[0;34m=\u001b[0m \u001b[0mF\u001b[0m\u001b[0;34m.\u001b[0m\u001b[0mrelu\u001b[0m\u001b[0;34m(\u001b[0m\u001b[0mself\u001b[0m\u001b[0;34m.\u001b[0m\u001b[0mconv2\u001b[0m\u001b[0;34m(\u001b[0m\u001b[0mh1\u001b[0m\u001b[0;34m,\u001b[0m \u001b[0medge_index\u001b[0m\u001b[0;34m)\u001b[0m\u001b[0;34m)\u001b[0m\u001b[0;34m\u001b[0m\u001b[0;34m\u001b[0m\u001b[0m\n",
      "\u001b[0;32m~/anaconda3/envs/pytorch/lib/python3.8/site-packages/torch/nn/modules/module.py\u001b[0m in \u001b[0;36m__call__\u001b[0;34m(self, *input, **kwargs)\u001b[0m\n\u001b[1;32m    548\u001b[0m             \u001b[0mresult\u001b[0m \u001b[0;34m=\u001b[0m \u001b[0mself\u001b[0m\u001b[0;34m.\u001b[0m\u001b[0m_slow_forward\u001b[0m\u001b[0;34m(\u001b[0m\u001b[0;34m*\u001b[0m\u001b[0minput\u001b[0m\u001b[0;34m,\u001b[0m \u001b[0;34m**\u001b[0m\u001b[0mkwargs\u001b[0m\u001b[0;34m)\u001b[0m\u001b[0;34m\u001b[0m\u001b[0;34m\u001b[0m\u001b[0m\n\u001b[1;32m    549\u001b[0m         \u001b[0;32melse\u001b[0m\u001b[0;34m:\u001b[0m\u001b[0;34m\u001b[0m\u001b[0;34m\u001b[0m\u001b[0m\n\u001b[0;32m--> 550\u001b[0;31m             \u001b[0mresult\u001b[0m \u001b[0;34m=\u001b[0m \u001b[0mself\u001b[0m\u001b[0;34m.\u001b[0m\u001b[0mforward\u001b[0m\u001b[0;34m(\u001b[0m\u001b[0;34m*\u001b[0m\u001b[0minput\u001b[0m\u001b[0;34m,\u001b[0m \u001b[0;34m**\u001b[0m\u001b[0mkwargs\u001b[0m\u001b[0;34m)\u001b[0m\u001b[0;34m\u001b[0m\u001b[0;34m\u001b[0m\u001b[0m\n\u001b[0m\u001b[1;32m    551\u001b[0m         \u001b[0;32mfor\u001b[0m \u001b[0mhook\u001b[0m \u001b[0;32min\u001b[0m \u001b[0mself\u001b[0m\u001b[0;34m.\u001b[0m\u001b[0m_forward_hooks\u001b[0m\u001b[0;34m.\u001b[0m\u001b[0mvalues\u001b[0m\u001b[0;34m(\u001b[0m\u001b[0;34m)\u001b[0m\u001b[0;34m:\u001b[0m\u001b[0;34m\u001b[0m\u001b[0;34m\u001b[0m\u001b[0m\n\u001b[1;32m    552\u001b[0m             \u001b[0mhook_result\u001b[0m \u001b[0;34m=\u001b[0m \u001b[0mhook\u001b[0m\u001b[0;34m(\u001b[0m\u001b[0mself\u001b[0m\u001b[0;34m,\u001b[0m \u001b[0minput\u001b[0m\u001b[0;34m,\u001b[0m \u001b[0mresult\u001b[0m\u001b[0;34m)\u001b[0m\u001b[0;34m\u001b[0m\u001b[0;34m\u001b[0m\u001b[0m\n",
      "\u001b[0;32m~/anaconda3/envs/pytorch/lib/python3.8/site-packages/torch_geometric-1.4.3-py3.8.egg/torch_geometric/nn/conv/gcn_conv.py\u001b[0m in \u001b[0;36mforward\u001b[0;34m(self, x, edge_index, edge_weight)\u001b[0m\n\u001b[1;32m    107\u001b[0m         \u001b[0medge_index\u001b[0m\u001b[0;34m,\u001b[0m \u001b[0mnorm\u001b[0m \u001b[0;34m=\u001b[0m \u001b[0mself\u001b[0m\u001b[0;34m.\u001b[0m\u001b[0mcached_result\u001b[0m\u001b[0;34m\u001b[0m\u001b[0;34m\u001b[0m\u001b[0m\n\u001b[1;32m    108\u001b[0m \u001b[0;34m\u001b[0m\u001b[0m\n\u001b[0;32m--> 109\u001b[0;31m         \u001b[0;32mreturn\u001b[0m \u001b[0mself\u001b[0m\u001b[0;34m.\u001b[0m\u001b[0mpropagate\u001b[0m\u001b[0;34m(\u001b[0m\u001b[0medge_index\u001b[0m\u001b[0;34m,\u001b[0m \u001b[0mx\u001b[0m\u001b[0;34m=\u001b[0m\u001b[0mx\u001b[0m\u001b[0;34m,\u001b[0m \u001b[0mnorm\u001b[0m\u001b[0;34m=\u001b[0m\u001b[0mnorm\u001b[0m\u001b[0;34m)\u001b[0m\u001b[0;34m\u001b[0m\u001b[0;34m\u001b[0m\u001b[0m\n\u001b[0m\u001b[1;32m    110\u001b[0m \u001b[0;34m\u001b[0m\u001b[0m\n\u001b[1;32m    111\u001b[0m     \u001b[0;32mdef\u001b[0m \u001b[0mmessage\u001b[0m\u001b[0;34m(\u001b[0m\u001b[0mself\u001b[0m\u001b[0;34m,\u001b[0m \u001b[0mx_j\u001b[0m\u001b[0;34m,\u001b[0m \u001b[0mnorm\u001b[0m\u001b[0;34m)\u001b[0m\u001b[0;34m:\u001b[0m\u001b[0;34m\u001b[0m\u001b[0;34m\u001b[0m\u001b[0m\n",
      "\u001b[0;32m~/anaconda3/envs/pytorch/lib/python3.8/site-packages/torch_geometric-1.4.3-py3.8.egg/torch_geometric/nn/conv/message_passing.py\u001b[0m in \u001b[0;36mpropagate\u001b[0;34m(self, edge_index, size, **kwargs)\u001b[0m\n\u001b[1;32m    271\u001b[0m                 \u001b[0mout\u001b[0m \u001b[0;34m=\u001b[0m \u001b[0mout\u001b[0m \u001b[0;34m*\u001b[0m \u001b[0medge_mask\u001b[0m\u001b[0;34m.\u001b[0m\u001b[0mview\u001b[0m\u001b[0;34m(\u001b[0m\u001b[0;34m-\u001b[0m\u001b[0;36m1\u001b[0m\u001b[0;34m,\u001b[0m \u001b[0;36m1\u001b[0m\u001b[0;34m)\u001b[0m\u001b[0;34m\u001b[0m\u001b[0;34m\u001b[0m\u001b[0m\n\u001b[1;32m    272\u001b[0m \u001b[0;34m\u001b[0m\u001b[0m\n\u001b[0;32m--> 273\u001b[0;31m             \u001b[0maggr_kwargs\u001b[0m \u001b[0;34m=\u001b[0m \u001b[0mself\u001b[0m\u001b[0;34m.\u001b[0m\u001b[0m__distribute__\u001b[0m\u001b[0;34m(\u001b[0m\u001b[0mself\u001b[0m\u001b[0;34m.\u001b[0m\u001b[0m__aggr_params__\u001b[0m\u001b[0;34m,\u001b[0m \u001b[0mkwargs\u001b[0m\u001b[0;34m)\u001b[0m\u001b[0;34m\u001b[0m\u001b[0;34m\u001b[0m\u001b[0m\n\u001b[0m\u001b[1;32m    274\u001b[0m             \u001b[0mout\u001b[0m \u001b[0;34m=\u001b[0m \u001b[0mself\u001b[0m\u001b[0;34m.\u001b[0m\u001b[0maggregate\u001b[0m\u001b[0;34m(\u001b[0m\u001b[0mout\u001b[0m\u001b[0;34m,\u001b[0m \u001b[0;34m**\u001b[0m\u001b[0maggr_kwargs\u001b[0m\u001b[0;34m)\u001b[0m\u001b[0;34m\u001b[0m\u001b[0;34m\u001b[0m\u001b[0m\n\u001b[1;32m    275\u001b[0m \u001b[0;34m\u001b[0m\u001b[0m\n",
      "\u001b[0;32m~/anaconda3/envs/pytorch/lib/python3.8/site-packages/torch_geometric-1.4.3-py3.8.egg/torch_geometric/nn/conv/message_passing.py\u001b[0m in \u001b[0;36m__distribute__\u001b[0;34m(self, params, kwargs)\u001b[0m\n\u001b[1;32m    180\u001b[0m         \u001b[0mout\u001b[0m \u001b[0;34m=\u001b[0m \u001b[0;34m{\u001b[0m\u001b[0;34m}\u001b[0m\u001b[0;34m\u001b[0m\u001b[0;34m\u001b[0m\u001b[0m\n\u001b[1;32m    181\u001b[0m         \u001b[0;32mfor\u001b[0m \u001b[0mkey\u001b[0m\u001b[0;34m,\u001b[0m \u001b[0mparam\u001b[0m \u001b[0;32min\u001b[0m \u001b[0mparams\u001b[0m\u001b[0;34m.\u001b[0m\u001b[0mitems\u001b[0m\u001b[0;34m(\u001b[0m\u001b[0;34m)\u001b[0m\u001b[0;34m:\u001b[0m\u001b[0;34m\u001b[0m\u001b[0;34m\u001b[0m\u001b[0m\n\u001b[0;32m--> 182\u001b[0;31m             \u001b[0mdata\u001b[0m \u001b[0;34m=\u001b[0m \u001b[0mkwargs\u001b[0m\u001b[0;34m.\u001b[0m\u001b[0mget\u001b[0m\u001b[0;34m(\u001b[0m\u001b[0mkey\u001b[0m\u001b[0;34m,\u001b[0m \u001b[0minspect\u001b[0m\u001b[0;34m.\u001b[0m\u001b[0mParameter\u001b[0m\u001b[0;34m.\u001b[0m\u001b[0mempty\u001b[0m\u001b[0;34m)\u001b[0m\u001b[0;34m\u001b[0m\u001b[0;34m\u001b[0m\u001b[0m\n\u001b[0m\u001b[1;32m    183\u001b[0m             \u001b[0;32mif\u001b[0m \u001b[0mdata\u001b[0m \u001b[0;32mis\u001b[0m \u001b[0minspect\u001b[0m\u001b[0;34m.\u001b[0m\u001b[0mParameter\u001b[0m\u001b[0;34m.\u001b[0m\u001b[0mempty\u001b[0m\u001b[0;34m:\u001b[0m\u001b[0;34m\u001b[0m\u001b[0;34m\u001b[0m\u001b[0m\n\u001b[1;32m    184\u001b[0m                 \u001b[0;32mif\u001b[0m \u001b[0mparam\u001b[0m\u001b[0;34m.\u001b[0m\u001b[0mdefault\u001b[0m \u001b[0;32mis\u001b[0m \u001b[0minspect\u001b[0m\u001b[0;34m.\u001b[0m\u001b[0mParameter\u001b[0m\u001b[0;34m.\u001b[0m\u001b[0mempty\u001b[0m\u001b[0;34m:\u001b[0m\u001b[0;34m\u001b[0m\u001b[0;34m\u001b[0m\u001b[0m\n",
      "\u001b[0;31mKeyboardInterrupt\u001b[0m: "
     ]
    }
   ],
   "source": [
    "import time\n",
    "from datetime import datetime\n",
    "model = Net(1, 256, 2).cuda()\n",
    "loss_func = nn.CrossEntropyLoss()\n",
    "optimizer = optim.Adam(model.parameters(), lr=0.001)\n",
    "model.train()\n",
    "\n",
    "epoch_losses = []\n",
    "#start timer:\n",
    "t0 = time.time()\n",
    "for epoch in range(training_epoch):\n",
    "    model.train()\n",
    "    epoch_loss = 0\n",
    "    predictions=[]\n",
    "    all_adjs =[]\n",
    "    all_feats=[]\n",
    "    all_labels=[]\n",
    "    for iter, (g,label) in enumerate(traindata):\n",
    "        x = g.in_degrees().view(-1, 1).float().to(device)\n",
    "        \n",
    "        adj = g.adjacency_matrix()\n",
    "        adj_dense=adj.to_dense()\n",
    "        if(iter == 0):\n",
    "            prev_adjs = adj_dense\n",
    "\n",
    "            prev_feats = x\n",
    "\n",
    "            prev_labels = label\n",
    "            all_adjs.append(prev_adjs)\n",
    "            all_feats.append(prev_feats)\n",
    "            all_labels.append(prev_labels)\n",
    "        else:\n",
    "            prev_adjs = adj_dense\n",
    "            prev_feats = x\n",
    "            prev_labels = label\n",
    "            all_adjs.append(prev_adjs)\n",
    "            all_feats.append(prev_feats)\n",
    "            all_labels.append(prev_labels)\n",
    "        a = g.edges()[0].tolist()\n",
    "        b = g.edges()[1].tolist()\n",
    "        edges = list(zip(a,b))\n",
    "        edges = np.array(edges)\n",
    "        edges = torch.LongTensor(edges.transpose()).to(device)\n",
    "        labels = np.array([label])\n",
    "\n",
    "        prediction = torch.zeros(1,2).cuda()\n",
    "        prediction[0] = model(x,edges)\n",
    "        predictions += prediction.cpu().detach().numpy().tolist()\n",
    "        \n",
    "        loss = loss_func(prediction, torch.LongTensor(labels).cuda())\n",
    "        optimizer.zero_grad()\n",
    "        loss.backward()\n",
    "\n",
    "        optimizer.step() \n",
    "        epoch_loss += loss.detach().item()\n",
    "    epoch_loss /= (iter + 1)\n",
    "    print('Epoch {}, loss {:.4f}'.format(epoch, epoch_loss))\n",
    "    epoch_losses.append(epoch_loss)\n",
    "\n",
    "training_time = time.time() - t0\n",
    "\n",
    "print('Finished training. Training time = {:.4f} Seconds'.format(training_time))\n",
    "\n",
    "cg_data = {\n",
    "    \"adj\": all_adjs,\n",
    "    \"feat\": all_feats,\n",
    "    \"label\": all_labels,\n",
    "    \"pred\": np.expand_dims(predictions, axis=0),\n",
    "    \"train_idx\": list(range(len(traindata))),\n",
    "}\n",
    "\n",
    "\n",
    "SAVE_PATH = './models/' + model_name\n",
    "torch.save({'epoch':epoch,\n",
    "            'model_state_dict':model.state_dict(),\n",
    "            'optimizer_state_dict': optimizer.state_dict(),\n",
    "            \"cg\": cg_data,\n",
    "           }, SAVE_PATH)\n",
    "\n",
    "plt.title('cross entropy averaged over minibatches')\n",
    "plt.plot(epoch_losses)\n",
    "plt.show()"
   ]
  },
  {
   "cell_type": "markdown",
   "metadata": {},
   "source": [
    "### Evalution"
   ]
  },
  {
   "cell_type": "code",
   "execution_count": 38,
   "metadata": {},
   "outputs": [
    {
     "name": "stdout",
     "output_type": "stream",
     "text": [
      "[(DGLGraph(num_nodes=12, num_edges=46,\n",
      "         ndata_schemes={}\n",
      "         edata_schemes={}), 0, 35), (DGLGraph(num_nodes=12, num_edges=44,\n",
      "         ndata_schemes={}\n",
      "         edata_schemes={}), 0, 36), (DGLGraph(num_nodes=12, num_edges=46,\n",
      "         ndata_schemes={}\n",
      "         edata_schemes={}), 0, 37), (DGLGraph(num_nodes=18, num_edges=72,\n",
      "         ndata_schemes={}\n",
      "         edata_schemes={}), 0, 38), (DGLGraph(num_nodes=15, num_edges=59,\n",
      "         ndata_schemes={}\n",
      "         edata_schemes={}), 0, 39), (DGLGraph(num_nodes=12, num_edges=46,\n",
      "         ndata_schemes={}\n",
      "         edata_schemes={}), 0, 40), (DGLGraph(num_nodes=12, num_edges=44,\n",
      "         ndata_schemes={}\n",
      "         edata_schemes={}), 0, 41), (DGLGraph(num_nodes=12, num_edges=48,\n",
      "         ndata_schemes={}\n",
      "         edata_schemes={}), 1, 49), (DGLGraph(num_nodes=14, num_edges=56,\n",
      "         ndata_schemes={}\n",
      "         edata_schemes={}), 1, 50), (DGLGraph(num_nodes=12, num_edges=48,\n",
      "         ndata_schemes={}\n",
      "         edata_schemes={}), 1, 51), (DGLGraph(num_nodes=12, num_edges=48,\n",
      "         ndata_schemes={}\n",
      "         edata_schemes={}), 1, 52), (DGLGraph(num_nodes=12, num_edges=48,\n",
      "         ndata_schemes={}\n",
      "         edata_schemes={}), 1, 53), (DGLGraph(num_nodes=14, num_edges=56,\n",
      "         ndata_schemes={}\n",
      "         edata_schemes={}), 1, 54), (DGLGraph(num_nodes=14, num_edges=56,\n",
      "         ndata_schemes={}\n",
      "         edata_schemes={}), 1, 55), (DGLGraph(num_nodes=14, num_edges=56,\n",
      "         ndata_schemes={}\n",
      "         edata_schemes={}), 1, 56), (DGLGraph(num_nodes=14, num_edges=56,\n",
      "         ndata_schemes={}\n",
      "         edata_schemes={}), 1, 57), (DGLGraph(num_nodes=16, num_edges=64,\n",
      "         ndata_schemes={}\n",
      "         edata_schemes={}), 1, 58), (DGLGraph(num_nodes=12, num_edges=48,\n",
      "         ndata_schemes={}\n",
      "         edata_schemes={}), 1, 59)]\n"
     ]
    }
   ],
   "source": [
    "test_data_loader=DataLoader(testset, batch_size=1, shuffle=False,collate_fn=collate)\n",
    "\n",
    "test_data = []\n",
    "for iter, (g,label) in enumerate(test_data_loader):\n",
    "    if(label==5):\n",
    "        test_data.append((g,0,iter))\n",
    "    if(label==7):\n",
    "        test_data.append((g,1,iter))\n",
    "        \n",
    "print(test_data)"
   ]
  },
  {
   "cell_type": "code",
   "execution_count": 66,
   "metadata": {},
   "outputs": [
    {
     "name": "stdout",
     "output_type": "stream",
     "text": [
      "tensor([[0.5236, 0.4764]], grad_fn=<SoftmaxBackward>) tensor([[0]]) 0\n",
      "tensor([[0.5188, 0.4812]], grad_fn=<SoftmaxBackward>) tensor([[0]]) 0\n",
      "tensor([[0.5236, 0.4764]], grad_fn=<SoftmaxBackward>) tensor([[0]]) 0\n",
      "tensor([[0.5251, 0.4749]], grad_fn=<SoftmaxBackward>) tensor([[0]]) 0\n",
      "tensor([[0.5250, 0.4750]], grad_fn=<SoftmaxBackward>) tensor([[0]]) 0\n",
      "tensor([[0.5236, 0.4764]], grad_fn=<SoftmaxBackward>) tensor([[0]]) 0\n",
      "tensor([[0.5188, 0.4812]], grad_fn=<SoftmaxBackward>) tensor([[0]]) 0\n",
      "tensor([[0.5191, 0.4809]], grad_fn=<SoftmaxBackward>) tensor([[0]]) 1\n",
      "tensor([[0.5191, 0.4809]], grad_fn=<SoftmaxBackward>) tensor([[0]]) 1\n",
      "tensor([[0.5191, 0.4809]], grad_fn=<SoftmaxBackward>) tensor([[0]]) 1\n",
      "tensor([[0.5191, 0.4809]], grad_fn=<SoftmaxBackward>) tensor([[0]]) 1\n",
      "tensor([[0.5191, 0.4809]], grad_fn=<SoftmaxBackward>) tensor([[0]]) 1\n",
      "tensor([[0.5191, 0.4809]], grad_fn=<SoftmaxBackward>) tensor([[0]]) 1\n",
      "tensor([[0.5191, 0.4809]], grad_fn=<SoftmaxBackward>) tensor([[0]]) 1\n",
      "tensor([[0.5191, 0.4809]], grad_fn=<SoftmaxBackward>) tensor([[0]]) 1\n",
      "tensor([[0.5191, 0.4809]], grad_fn=<SoftmaxBackward>) tensor([[0]]) 1\n",
      "tensor([[0.5191, 0.4809]], grad_fn=<SoftmaxBackward>) tensor([[0]]) 1\n",
      "tensor([[0.5191, 0.4809]], grad_fn=<SoftmaxBackward>) tensor([[0]]) 1\n"
     ]
    }
   ],
   "source": [
    "model.eval\n",
    "\n",
    "prediction=torch.zeros(len(test_data),1,dtype=torch.float64)\n",
    "for iter, (g,label,_) in enumerate(test_data):\n",
    "        x = g.in_degrees().view(-1, 1).float().cuda()\n",
    "        a = g.edges()[0].tolist()\n",
    "        b = g.edges()[1].tolist()\n",
    "        edges = list(zip(a,b))\n",
    "        edges = np.array(edges)\n",
    "        edges = torch.LongTensor(edges.transpose()).cuda()\n",
    "        labels = np.array([label])\n",
    "\n",
    "        pred = torch.zeros(1,2)\n",
    "        pred[0] = model(x,edges)\n",
    "        probs_Y = torch.softmax(pred,1)\n",
    "        argmax_Y = torch.max(probs_Y, 1)[1].view(-1, 1)\n",
    "#         prediction[iter] = (argmax_Y.cuda()==label.cuda())\n",
    "        prediction[iter] = (argmax_Y==label)\n",
    "        print(probs_Y,argmax_Y,label)\n",
    "        "
   ]
  },
  {
   "cell_type": "code",
   "execution_count": 47,
   "metadata": {},
   "outputs": [
    {
     "name": "stdout",
     "output_type": "stream",
     "text": [
      "Accuracy of argmax predictions on the test set: 100.0000%\n"
     ]
    }
   ],
   "source": [
    "print('Accuracy of argmax predictions on the test set: {:.4f}%'.format(\n",
    "    (prediction.cuda().sum().item() / len(test_data)) * 100))"
   ]
  },
  {
   "cell_type": "markdown",
   "metadata": {},
   "source": [
    "### GNNExplainer"
   ]
  },
  {
   "cell_type": "code",
   "execution_count": 48,
   "metadata": {},
   "outputs": [
    {
     "data": {
      "image/png": "[encoded data removed]",
      "text/plain": [
       "<Figure size 432x288 with 1 Axes>"
      ]
     },
     "metadata": {},
     "output_type": "display_data"
    },
    {
     "name": "stdout",
     "output_type": "stream",
     "text": [
      "DGLGraph(num_nodes=14, num_edges=56,\n",
      "         ndata_schemes={}\n",
      "         edata_schemes={}) 7\n",
      "[0, 0, 0, 1, 1, 1, 2, 2, 2, 3, 3, 3, 4, 4, 4, 5, 5, 5, 6, 6, 6, 7, 7, 7, 8, 8, 8, 9, 9, 9, 10, 10, 10, 11, 11, 11, 12, 12, 12, 13, 13, 13, 0, 1, 2, 3, 4, 5, 6, 7, 8, 9, 10, 11, 12, 13]\n",
      "[1, 7, 6, 0, 2, 8, 1, 3, 9, 2, 4, 10, 3, 5, 11, 4, 6, 12, 5, 13, 0, 8, 0, 13, 7, 9, 1, 8, 10, 2, 9, 11, 3, 10, 12, 4, 11, 13, 5, 12, 6, 7, 0, 1, 2, 3, 4, 5, 6, 7, 8, 9, 10, 11, 12, 13]\n",
      "tensor([-5.2739,  5.0592], device='cuda:0', grad_fn=<AddBackward0>)\n"
     ]
    }
   ],
   "source": [
    "test_g,label = testset[55]\n",
    "\n",
    "fig, ax = plt.subplots()\n",
    "nx.draw(test_g.to_networkx(), ax=ax)\n",
    "ax.set_title('Class: {:d}'.format(label))\n",
    "plt.show()\n",
    "print(test_g,label)\n",
    "label = 0\n",
    "x = test_g.in_degrees().view(-1, 1).float().cuda()\n",
    "# x = feature\n",
    "a = test_g.edges()[0].tolist()\n",
    "print(a)\n",
    "\n",
    "b = test_g.edges()[1].tolist()\n",
    "print(b)\n",
    "edges= list(zip(a,b))\n",
    "edges=np.array(edges)\n",
    "edges=torch.LongTensor(edges.transpose()).cuda()\n",
    "probs_Y = model(x, edges)\n",
    "print(probs_Y)\n",
    "\n",
    "from tensorboardX import SummaryWriter\n",
    "writer = SummaryWriter()\n",
    "explainer = GNNExplainer(model, epochs=400,lr=0.1,writer=writer)"
   ]
  },
  {
   "cell_type": "code",
   "execution_count": 49,
   "metadata": {},
   "outputs": [
    {
     "ename": "IndexError",
     "evalue": "Dimension out of range (expected to be in range of [-1, 0], but got 1)",
     "output_type": "error",
     "traceback": [
      "\u001b[0;31m---------------------------------------------------------------------------\u001b[0m",
      "\u001b[0;31mIndexError\u001b[0m                                Traceback (most recent call last)",
      "\u001b[0;32m<ipython-input-49-0795c0485bcf>\u001b[0m in \u001b[0;36m<module>\u001b[0;34m\u001b[0m\n\u001b[1;32m     18\u001b[0m \u001b[0mnx\u001b[0m\u001b[0;34m.\u001b[0m\u001b[0mdraw_networkx_labels\u001b[0m\u001b[0;34m(\u001b[0m\u001b[0mG\u001b[0m\u001b[0;34m,\u001b[0m \u001b[0mpos\u001b[0m\u001b[0;34m)\u001b[0m\u001b[0;34m\u001b[0m\u001b[0;34m\u001b[0m\u001b[0m\n\u001b[1;32m     19\u001b[0m \u001b[0;34m\u001b[0m\u001b[0m\n\u001b[0;32m---> 20\u001b[0;31m \u001b[0medge_mask\u001b[0m\u001b[0;34m,\u001b[0m\u001b[0mnode_feat_mask\u001b[0m\u001b[0;34m,\u001b[0m\u001b[0mepoch_losses\u001b[0m \u001b[0;34m=\u001b[0m \u001b[0mexplainer\u001b[0m\u001b[0;34m.\u001b[0m\u001b[0mexplain_graph\u001b[0m\u001b[0;34m(\u001b[0m\u001b[0mx\u001b[0m\u001b[0;34m=\u001b[0m\u001b[0mx\u001b[0m\u001b[0;34m,\u001b[0m \u001b[0medge_index\u001b[0m\u001b[0;34m=\u001b[0m\u001b[0medges\u001b[0m\u001b[0;34m)\u001b[0m\u001b[0;34m\u001b[0m\u001b[0;34m\u001b[0m\u001b[0m\n\u001b[0m\u001b[1;32m     21\u001b[0m \u001b[0;34m\u001b[0m\u001b[0m\n\u001b[1;32m     22\u001b[0m \u001b[0mplt\u001b[0m \u001b[0;34m=\u001b[0m \u001b[0mexplainer\u001b[0m\u001b[0;34m.\u001b[0m\u001b[0mvisualize_subgraph\u001b[0m\u001b[0;34m(\u001b[0m\u001b[0;32mNone\u001b[0m\u001b[0;34m,\u001b[0m\u001b[0medge_index\u001b[0m\u001b[0;34m=\u001b[0m\u001b[0medges\u001b[0m\u001b[0;34m,\u001b[0m \u001b[0medge_mask\u001b[0m\u001b[0;34m=\u001b[0m\u001b[0medge_mask\u001b[0m\u001b[0;34m,\u001b[0m\u001b[0mthreshold\u001b[0m\u001b[0;34m=\u001b[0m\u001b[0;36m0.1\u001b[0m\u001b[0;34m)\u001b[0m\u001b[0;34m\u001b[0m\u001b[0;34m\u001b[0m\u001b[0m\n",
      "\u001b[0;32m/hdd/xuenong/Adder_Classification/main/gnnexplainer/GNNExplainer.py\u001b[0m in \u001b[0;36mexplain_graph\u001b[0;34m(self, x, edge_index, **kwargs)\u001b[0m\n\u001b[1;32m    358\u001b[0m         \u001b[0;32mwith\u001b[0m \u001b[0mtorch\u001b[0m\u001b[0;34m.\u001b[0m\u001b[0mno_grad\u001b[0m\u001b[0;34m(\u001b[0m\u001b[0;34m)\u001b[0m\u001b[0;34m:\u001b[0m\u001b[0;34m\u001b[0m\u001b[0;34m\u001b[0m\u001b[0m\n\u001b[1;32m    359\u001b[0m             \u001b[0mlog_logits\u001b[0m \u001b[0;34m=\u001b[0m \u001b[0mself\u001b[0m\u001b[0;34m.\u001b[0m\u001b[0mmodel\u001b[0m\u001b[0;34m(\u001b[0m\u001b[0mx\u001b[0m\u001b[0;34m=\u001b[0m\u001b[0mx\u001b[0m\u001b[0;34m,\u001b[0m \u001b[0medge_index\u001b[0m\u001b[0;34m=\u001b[0m\u001b[0medge_index\u001b[0m\u001b[0;34m,\u001b[0m \u001b[0;34m**\u001b[0m\u001b[0mkwargs\u001b[0m\u001b[0;34m)\u001b[0m\u001b[0;34m\u001b[0m\u001b[0;34m\u001b[0m\u001b[0m\n\u001b[0;32m--> 360\u001b[0;31m             \u001b[0mprobs_Y\u001b[0m \u001b[0;34m=\u001b[0m \u001b[0mtorch\u001b[0m\u001b[0;34m.\u001b[0m\u001b[0msoftmax\u001b[0m\u001b[0;34m(\u001b[0m\u001b[0mlog_logits\u001b[0m\u001b[0;34m,\u001b[0m \u001b[0;36m1\u001b[0m\u001b[0;34m)\u001b[0m\u001b[0;34m\u001b[0m\u001b[0;34m\u001b[0m\u001b[0m\n\u001b[0m\u001b[1;32m    361\u001b[0m             \u001b[0mpred_label\u001b[0m \u001b[0;34m=\u001b[0m \u001b[0mprobs_Y\u001b[0m\u001b[0;34m.\u001b[0m\u001b[0margmax\u001b[0m\u001b[0;34m(\u001b[0m\u001b[0mdim\u001b[0m\u001b[0;34m=\u001b[0m\u001b[0;34m-\u001b[0m\u001b[0;36m1\u001b[0m\u001b[0;34m)\u001b[0m\u001b[0;34m\u001b[0m\u001b[0;34m\u001b[0m\u001b[0m\n\u001b[1;32m    362\u001b[0m             \u001b[0mprint\u001b[0m\u001b[0;34m(\u001b[0m\u001b[0;34m\"Predicted label:\"\u001b[0m\u001b[0;34m,\u001b[0m\u001b[0mpred_label\u001b[0m\u001b[0;34m)\u001b[0m\u001b[0;34m\u001b[0m\u001b[0;34m\u001b[0m\u001b[0m\n",
      "\u001b[0;31mIndexError\u001b[0m: Dimension out of range (expected to be in range of [-1, 0], but got 1)"
     ]
    },
    {
     "data": {
      "image/png": "[encoded data removed]",
      "text/plain": [
       "<Figure size 432x288 with 1 Axes>"
      ]
     },
     "metadata": {},
     "output_type": "display_data"
    }
   ],
   "source": [
    "from math import sqrt\n",
    "\n",
    "import torch\n",
    "from tqdm import tqdm\n",
    "import matplotlib.pyplot as plt\n",
    "import networkx as nx\n",
    "from torch_geometric.nn import MessagePassing\n",
    "from torch_geometric.data import Data\n",
    "from torch_geometric.utils import k_hop_subgraph, to_networkx\n",
    "import numpy as np\n",
    "EPS = 1e-15\n",
    "\n",
    "fig, ax = plt.subplots()\n",
    "G=test_g.to_networkx()\n",
    "pos = nx.spring_layout(G)\n",
    "nx.draw(G,pos,ax=ax)\n",
    "# nx.draw_networkx_nodes(G, pos,ax=ax)\n",
    "nx.draw_networkx_labels(G, pos)\n",
    "\n",
    "edge_mask,node_feat_mask,epoch_losses = explainer.explain_graph(x=x, edge_index=edges)\n",
    "\n",
    "plt = explainer.visualize_subgraph(None,edge_index=edges, edge_mask=edge_mask,threshold=0.1)\n",
    "plt.show()\n",
    "\n"
   ]
  },
  {
   "cell_type": "code",
   "execution_count": 9,
   "metadata": {},
   "outputs": [
    {
     "data": {
      "image/png": "[encoded data removed]",
      "text/plain": [
       "<Figure size 432x288 with 1 Axes>"
      ]
     },
     "metadata": {
      "needs_background": "light"
     },
     "output_type": "display_data"
    },
    {
     "name": "stdout",
     "output_type": "stream",
     "text": [
      "tensor([0.0672, 0.0489, 0.0368, 0.0591, 0.0444, 0.0469, 0.0606, 0.0460, 0.0657,\n",
      "        0.0586, 0.0520, 0.0725, 0.0440, 0.0556, 0.0440, 0.0497, 0.0659, 0.0486,\n",
      "        0.0448, 0.0632, 0.0612, 0.0587, 0.0462, 0.0524, 0.0643, 0.0483, 0.0486,\n",
      "        0.0654, 0.0647, 0.0505, 0.0722, 0.0794, 0.0443, 0.0620, 0.0444, 0.0585,\n",
      "        0.0353, 0.0410, 0.0404, 0.0569, 0.0588, 0.0614, 0.0661, 0.0498, 0.0519,\n",
      "        0.0728, 0.0508, 0.0526, 0.0818, 0.0476, 0.0603, 0.0573, 0.0622, 0.0619,\n",
      "        0.0616, 0.0338, 0.0675, 0.0485, 0.0583, 0.0661, 0.0437, 0.0638, 0.0535,\n",
      "        0.0404], device='cuda:0')\n",
      "tensor([], device='cuda:0', dtype=torch.int64)\n",
      "tensor([], device='cuda:0', dtype=torch.int64)\n"
     ]
    }
   ],
   "source": [
    "plt.title('cross entropy averaged over minibatches')\n",
    "plt.plot(epoch_losses)\n",
    "plt.show()\n",
    "# print(node_feat_mask)\n",
    "print(edge_mask)\n",
    "print(edges[0,edge_mask>0.2])\n",
    "print(edges[1,edge_mask>0.2])\n",
    "\n"
   ]
  },
  {
   "cell_type": "markdown",
   "metadata": {},
   "source": [
    "### Loop all test samples"
   ]
  },
  {
   "cell_type": "code",
   "execution_count": null,
   "metadata": {},
   "outputs": [],
   "source": [
    "# # from torch.utils.tensorboard import SummaryWriter\n",
    "# # writer = SummaryWriter()\n",
    "# for iter, (g,label) in enumerate(test_data):\n",
    "#         plt.clf()\n",
    "#         fig, ax = plt.subplots(1,2,figsize=(12,6))\n",
    "#         nx.draw(g.to_networkx(), ax=ax[0])\n",
    "        \n",
    "#         image_name = 'graph_{}'.format(iter)\n",
    "#         plt.savefig(\"./images/original/\"+image_name+ \".png\")\n",
    "#         x = g.in_degrees().view(-1, 1).float().cuda()\n",
    "#         a = g.edges()[0].tolist()\n",
    "#         b = g.edges()[1].tolist()\n",
    "#         edges = list(zip(a,b))\n",
    "#         edges = np.array(edges)\n",
    "#         edges = torch.LongTensor(edges.transpose()).cuda()\n",
    "#         labels = np.array([label])\n",
    "#         node_feat_mask, edge_mask,epoch_losses = explainer.explain_graph(x=x, edge_index=edges)\n",
    "\n",
    "#         plt1 = explainer.visualize_subgraph(None, edge_index=edges.cpu(), edge_mask=edge_mask,threshold=None)\n",
    "\n",
    "#         plt.savefig(\"./images/\"+image_name+ \".png\")"
   ]
  },
  {
   "cell_type": "markdown",
   "metadata": {},
   "source": [
    "### Visualize"
   ]
  },
  {
   "cell_type": "code",
   "execution_count": null,
   "metadata": {},
   "outputs": [],
   "source": [
    "from math import sqrt\n",
    "\n",
    "import torch\n",
    "from tqdm import tqdm\n",
    "import matplotlib.pyplot as plt\n",
    "import networkx as nx\n",
    "from torch_geometric.nn import MessagePassing\n",
    "from torch_geometric.data import Data\n",
    "from torch_geometric.utils import k_hop_subgraph, to_networkx\n",
    "def visualize(edge_index, edge_mask, y=None,\n",
    "                           threshold=None,**kwargs):\n",
    "        assert edge_mask.size(0) == edge_index.size(1)\n",
    "        \n",
    "        if threshold is not None:\n",
    "            print('Edge Threshold:',threshold)\n",
    "            edge_mask = (edge_mask >= threshold).to(torch.float)\n",
    "          \n",
    "        subset=[]\n",
    "        edge_list=[]\n",
    "        for index,mask in enumerate(edge_mask):\n",
    "            node_a = edge_index[0,index]\n",
    "            node_b = edge_index[1,index]\n",
    "            if node_a not in subset:\n",
    "                subset.append(node_a.cpu().item())\n",
    "#                 print(\"add: {}\".format(node_a))\n",
    "            if node_b not in subset:\n",
    "                subset.append(node_b.cpu().item())\n",
    "#                 print(\"add: {}\".format(node_b))\n",
    "            if mask:\n",
    "                edge_list.append((edge_index[0,index].cpu().item(),edge_index[1,index].cpu().item()))\n",
    "#         print(\"edge_list to draw:\",edge_list)\n",
    "        \n",
    "        \n",
    "        if y is None:\n",
    "            y = torch.zeros(edge_index.max().item() + 1,\n",
    "                            device=edge_index.device)\n",
    "        else:\n",
    "            y = y[subset].to(torch.float) / y.max().item()\n",
    "        \n",
    "        data = Data(edge_index=edge_index.cpu(), att=edge_mask, y=y,\n",
    "                    num_nodes=y.size(0)).to('cpu')\n",
    "\n",
    "        G = to_networkx(data, node_attrs=['y'], edge_attrs=['att'])\n",
    "#         mapping = {k: i for k, i in enumerate(subset.tolist())}\n",
    "        mapping = {k: i for k, i in enumerate(subset)}\n",
    "#         print(mapping)\n",
    "#         G = nx.relabel_nodes(G, mapping)\n",
    "\n",
    "        kwargs['with_labels'] = kwargs.get('with_labels') or True\n",
    "        kwargs['font_size'] = kwargs.get('font_size') or 10\n",
    "        kwargs['node_size'] = kwargs.get('node_size') or 200\n",
    "        kwargs['cmap'] = kwargs.get('cmap') or 'cool'\n",
    "\n",
    "        pos = nx.spring_layout(G)\n",
    "        ax = plt.gca()\n",
    "        for source, target, data in G.edges(data=True):\n",
    "            ax.annotate(\n",
    "                '', xy=pos[target], xycoords='data', xytext=pos[source],\n",
    "                textcoords='data', arrowprops=dict(\n",
    "                    arrowstyle=\"-\",\n",
    "                    alpha=max(data['att'], 0.1),\n",
    "                    shrinkA=sqrt(kwargs['node_size']) / 2.0,\n",
    "                    shrinkB=sqrt(kwargs['node_size']) / 2.0,\n",
    "#                     connectionstyle=\"arc3,rad=0.1\",\n",
    "                ))\n",
    "# #         if node_feature_mask is not None:\n",
    "        nx.draw_networkx_nodes(G, pos, **kwargs)\n",
    "#         print(\"edge_index:\",edge_index.cpu())\n",
    "#         print(\"G.edges:\",G.edges)\n",
    "        color = np.array(edge_mask.cpu())\n",
    "    \n",
    "#         cmap = plt.get_cmap('gist_rainbow',color)\n",
    "#         nx.draw(nx_G_undirected,pos,with_labels=False,node_size=500,font_size=14,node_color=node_type,cmap=cmap,vmin = vmin,vmax=vmax)\n",
    "        \n",
    "        nx.draw_networkx_edges(G, pos,edgelist=edge_list,\n",
    "                       width=3, alpha=0.5)\n",
    "        nx.draw_networkx_labels(G, pos, **kwargs)\n",
    "        plt.axis('off')\n",
    "        return plt\n"
   ]
  },
  {
   "cell_type": "code",
   "execution_count": null,
   "metadata": {},
   "outputs": [],
   "source": [
    "plt = visualize(edge_index=edges, edge_mask=edge_mask,threshold=0.3)\n",
    "plt.show()\n",
    "\n"
   ]
  },
  {
   "cell_type": "code",
   "execution_count": null,
   "metadata": {},
   "outputs": [],
   "source": [
    "fig, ax = plt.subplots()\n",
    "G=test_g.to_networkx()\n",
    "pos = nx.spring_layout(G)\n",
    "nx.draw(G,pos,ax=ax)\n",
    "# nx.draw_networkx_nodes(G, pos,ax=ax)\n",
    "nx.draw_networkx_labels(G, pos)\n",
    "print(edges)\n",
    "print(edge_mask>0.1)\n",
    "print(edges[0,edge_mask>0.1])\n",
    "print(edges[1,edge_mask>0.1])"
   ]
  },
  {
   "cell_type": "markdown",
   "metadata": {},
   "source": [
    "### TEST"
   ]
  },
  {
   "cell_type": "code",
   "execution_count": null,
   "metadata": {},
   "outputs": [],
   "source": [
    "testset_new = MiniGCDataset(10, 20, 30)\n",
    "for iter, (g,label) in enumerate(testset_new):\n",
    "    test_g = g\n",
    "    label_tensor =label\n",
    "    # test_g, label = trainset[2]\n",
    "    fig, ax = plt.subplots()\n",
    "    nx.draw(test_g.to_networkx(), ax=ax)\n",
    "    x = test_g.in_degrees().view(-1, 1).float()\n",
    "    mean_degree = torch.mean(x)\n",
    "    ax.set_title('Class: {}, Mean Degree:{},iter:{}'.format(label,mean_degree,iter))\n",
    "    plt.show()"
   ]
  },
  {
   "cell_type": "code",
   "execution_count": null,
   "metadata": {},
   "outputs": [],
   "source": [
    "test_graph,test_label = testset_new[5]\n",
    "print(test_graph)\n",
    "fig, ax = plt.subplots()\n",
    "nx.draw(test_graph.to_networkx(), ax=ax)\n",
    "plt.show()"
   ]
  },
  {
   "cell_type": "code",
   "execution_count": null,
   "metadata": {},
   "outputs": [],
   "source": [
    "x = test_graph.in_degrees().view(-1, 1).float().cuda()\n",
    "\n",
    "a = test_graph.edges()[0].tolist()\n",
    "b = test_graph.edges()[1].tolist()\n",
    "edges = list(zip(a,b))\n",
    "edges = np.array(edges)\n",
    "edges = torch.LongTensor(edges.transpose()).cuda()\n",
    "test_label = np.array([test_label])\n",
    "\n",
    "pred,h1,h2,h3 = model(x,edges)\n",
    "probs_Y = torch.softmax(pred, 1)\n",
    "argmax_Y = torch.max(probs_Y, 1)[1].view(-1, 1)\n",
    "prediction = (argmax_Y==label)\n",
    "prediction = (argmax_Y==label)\n",
    "print(probs_Y,argmax_Y,test_label)"
   ]
  },
  {
   "cell_type": "markdown",
   "metadata": {},
   "source": [
    "### Edge Reduction by SGA"
   ]
  },
  {
   "cell_type": "code",
   "execution_count": null,
   "metadata": {},
   "outputs": [],
   "source": [
    "from pygad import GA"
   ]
  },
  {
   "cell_type": "code",
   "execution_count": null,
   "metadata": {},
   "outputs": [],
   "source": [
    "EPS = 1e-15\n",
    "edge_size = 0.5\n",
    "\n",
    "def __graph_loss__(log_logits, pred_label,edge_mask):\n",
    "        loss = -torch.log(log_logits[0,pred_label])\n",
    "#         print(loss)\n",
    "        edge_mask = torch.Tensor(edge_mask)\n",
    "        m = edge_mask.sigmoid().cuda()\n",
    "        loss = loss + edge_size * m.sum()\n",
    "\n",
    "        ent = -m * torch.log(m + EPS) - (1 - m) * torch.log(1 - m+ EPS)\n",
    "\n",
    "        ent=ent.cuda()\n",
    "#         print(ent)\n",
    "        loss = loss + m * ent.mean()\n",
    "\n",
    "        return loss"
   ]
  },
  {
   "cell_type": "code",
   "execution_count": null,
   "metadata": {},
   "outputs": [],
   "source": [
    "import numpy as np\n",
    "from bga import BGA\n",
    "\n",
    "test_graph,test_label = testset_new[8]\n",
    "x = test_graph.in_degrees().view(-1, 1).float().cuda()\n",
    "a = test_graph.edges()[0].tolist()\n",
    "b = test_graph.edges()[1].tolist()\n",
    "edges = list(zip(a,b))\n",
    "edges = np.array(edges)\n",
    "edges = torch.LongTensor(edges.transpose()).cuda()\n",
    "probs_Y,_,_,_=model(x,edges)\n",
    "probs_Y = torch.softmax(probs_Y, 1)\n",
    "pred_label = probs_Y.argmax(dim=-1)\n",
    "print(\"predicted label:\",pred_label.item())\n",
    "num_edges = len(test_graph.edges()[0])\n",
    "print(\"num_edges:\",num_edges)\n",
    "\n",
    "def fitness_func(edge_mask):\n",
    "    a = test_graph.edges()[0].tolist()\n",
    "    b = test_graph.edges()[1].tolist()\n",
    "    if(edge_mask.sum()==0):\n",
    "        #eliminate trivial solution\n",
    "        return 9999\n",
    "    edge_list=[]\n",
    "    for index, edge in enumerate(edge_mask):\n",
    "        if edge:\n",
    "            edge_list.append((a[index],b[index]))\n",
    "    edges = np.array(edge_list)\n",
    "    \n",
    "    edges = torch.LongTensor(edges.transpose()).cuda()\n",
    "    \n",
    "    log_logits,_,_,_=model(x,edges)\n",
    "    pred = torch.softmax(log_logits, 1)\n",
    "    \n",
    "    loss = __graph_loss__(pred, pred_label,edge_mask)\n",
    "    return loss.cpu().detach().numpy()[0]\n",
    "    \n",
    "num_pop = 100\n",
    "problem_dimentions = num_edges\n",
    "\n",
    "test = BGA(pop_shape=(num_pop, problem_dimentions), method=fitness_func, p_c=0.8, p_m=0.2, max_round = 1000, early_stop_rounds=None, verbose = None, maximum=False)"
   ]
  },
  {
   "cell_type": "code",
   "execution_count": null,
   "metadata": {},
   "outputs": [],
   "source": [
    "best_solution, best_fitness,fitness_record = test.run()"
   ]
  },
  {
   "cell_type": "code",
   "execution_count": null,
   "metadata": {},
   "outputs": [],
   "source": [
    "print(best_fitness)\n"
   ]
  },
  {
   "cell_type": "code",
   "execution_count": null,
   "metadata": {},
   "outputs": [],
   "source": [
    "print(x)\n",
    "print(edges)"
   ]
  },
  {
   "cell_type": "code",
   "execution_count": null,
   "metadata": {},
   "outputs": [],
   "source": [
    "print(edges)\n",
    "edge_list=[]\n",
    "for index, edge in enumerate(best_solution):\n",
    "        if edge:\n",
    "            edge_list.append((a[index],b[index]))\n",
    "print(edge_list)"
   ]
  },
  {
   "cell_type": "code",
   "execution_count": null,
   "metadata": {},
   "outputs": [],
   "source": [
    "print(best_solution)\n",
    "edge_mask = torch.LongTensor(best_solution)\n",
    "plt = visualize(edge_index=edges, edge_mask=edge_mask,threshold=0.1)\n",
    "plt.show()\n",
    "\n"
   ]
  },
  {
   "cell_type": "code",
   "execution_count": null,
   "metadata": {},
   "outputs": [],
   "source": []
  }
 ],
 "metadata": {
  "kernelspec": {
   "display_name": "pytorch",
   "language": "python",
   "name": "pytorch"
  },
  "language_info": {
   "codemirror_mode": {
    "name": "ipython",
    "version": 3
   },
   "file_extension": ".py",
   "mimetype": "text/x-python",
   "name": "python",
   "nbconvert_exporter": "python",
   "pygments_lexer": "ipython3",
   "version": "3.8.2"
  }
 },
 "nbformat": 4,
 "nbformat_minor": 4
}
