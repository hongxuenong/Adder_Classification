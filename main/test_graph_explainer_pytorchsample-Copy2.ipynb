{
 "cells": [
  {
   "cell_type": "markdown",
   "metadata": {},
   "source": [
    "### Import"
   ]
  },
  {
   "cell_type": "code",
   "execution_count": 1,
   "metadata": {},
   "outputs": [
    {
     "name": "stderr",
     "output_type": "stream",
     "text": [
      "Using backend: pytorch\n"
     ]
    }
   ],
   "source": [
    "import torch\n",
    "import torch.nn as nn\n",
    "import torch.nn.functional as F\n",
    "import torch.optim as optim\n",
    "import torch_geometric \n",
    "from torch_geometric.datasets import GeometricShapes\n",
    "from torch.utils.data import DataLoader\n",
    "from torch_geometric.nn import GCNConv\n",
    "import matplotlib.pyplot as plt\n",
    "import numpy as np\n",
    "\n",
    "import dgl\n",
    "from dgl.data import MiniGCDataset\n",
    "import matplotlib.pyplot as plt\n",
    "import networkx as nx\n",
    "\n",
    "from gnnexplainer.explain import Explainer,ExplainModule\n",
    "# from torch_geometric.nn import  GNNExplainer"
   ]
  },
  {
   "cell_type": "markdown",
   "metadata": {},
   "source": [
    "### Load Dataset"
   ]
  },
  {
   "cell_type": "code",
   "execution_count": 2,
   "metadata": {},
   "outputs": [
    {
     "data": {
      "image/png": "[encoded data removed]",
      "text/plain": [
       "<Figure size 432x288 with 1 Axes>"
      ]
     },
     "metadata": {},
     "output_type": "display_data"
    }
   ],
   "source": [
    "\n",
    "# A dataset with 80 samples, each graph is\n",
    "# of size [10, 20]\n",
    "trainset = MiniGCDataset(600, 12, 20)\n",
    "testset = MiniGCDataset(60, 12, 20)\n",
    "graph, label = trainset[2]\n",
    "fig, ax = plt.subplots()\n",
    "nx.draw(graph.to_networkx(), ax=ax)\n",
    "ax.set_title('Class: {:d}'.format(label))\n",
    "plt.show()"
   ]
  },
  {
   "cell_type": "markdown",
   "metadata": {},
   "source": [
    "### Net Definition"
   ]
  },
  {
   "cell_type": "code",
   "execution_count": 3,
   "metadata": {},
   "outputs": [],
   "source": [
    "def collate(samples):\n",
    "    # The input `samples` is a list of pairs\n",
    "    #  (graph, label).\n",
    "    graphs, labels = map(list, zip(*samples))\n",
    "    batched_graph = dgl.batch(graphs)\n",
    "    return batched_graph, torch.tensor(labels)\n",
    "\n",
    "train_data_loader = DataLoader(trainset, batch_size=1, shuffle=True,collate_fn=collate)\n",
    "\n",
    "traindata=[]\n",
    "for iter, (g,label) in enumerate(train_data_loader):\n",
    "    if(label == 5):\n",
    "        traindata.append((g,0))\n",
    "    if(label == 7):\n",
    "        traindata.append((g,1))   "
   ]
  },
  {
   "cell_type": "code",
   "execution_count": 4,
   "metadata": {},
   "outputs": [],
   "source": [
    "class Net(torch.nn.Module):\n",
    "    def __init__(self,in_dim, hidden_dim, n_classes):\n",
    "        super(Net, self).__init__()\n",
    "#         self.lin = Sequential(Linear(10, 10))\n",
    "        self.conv1 = GCNConv(in_dim, hidden_dim)\n",
    "        self.conv2 = GCNConv(hidden_dim, hidden_dim)\n",
    "        \n",
    "        self.classify = nn.Linear(hidden_dim, n_classes)\n",
    "\n",
    "    def forward(self, x, edge_index):\n",
    "        h1 = F.relu(self.conv1(x, edge_index))\n",
    "        h2 = F.dropout(h1, training=self.training)\n",
    "        h3 = F.relu(self.conv2(h2, edge_index))\n",
    "        y = torch.mean(h3, 0, True)\n",
    "        return self.classify(y),h1,h2,h3"
   ]
  },
  {
   "cell_type": "markdown",
   "metadata": {},
   "source": [
    "### Training"
   ]
  },
  {
   "cell_type": "code",
   "execution_count": 5,
   "metadata": {},
   "outputs": [
    {
     "name": "stdout",
     "output_type": "stream",
     "text": [
      "cuda\n"
     ]
    }
   ],
   "source": [
    "training_epoch = 300 #original = 1500 for 1 training sample 500 for 20 samples\n",
    "initial_lr = 0.001\n",
    "\n",
    "model_name = 'explaingraph_epoch30005-May-2020-13:32:24'\n",
    "\n",
    "# model_name = '4-class-model_10-samples_500-epoch_acc-99.500000_1-errs_12-Apr-2020-14:35:45'\n",
    "device = torch.device('cuda' if torch.cuda.is_available() else 'cpu')\n",
    "SAVE_PATH = './models/' + model_name\n",
    "model = Net(1, 256, 2).to(device)\n",
    "optimizer = optim.SGD(model.parameters(), lr = initial_lr, momentum=0.9, weight_decay=5e-4)\n",
    "checkpoint = torch.load(SAVE_PATH)\n",
    "checkpoint = torch.load(SAVE_PATH)\n",
    "\n",
    "model.load_state_dict(checkpoint['model_state_dict'])\n",
    "optimizer.load_state_dict(checkpoint['optimizer_state_dict'])\n",
    "start_epoch = checkpoint['epoch']\n",
    "# loss = checkpoint['loss']\n",
    "print(device)\n",
    "training=''"
   ]
  },
  {
   "cell_type": "code",
   "execution_count": 6,
   "metadata": {},
   "outputs": [],
   "source": [
    "# Create model\n",
    "#model = Classifier(1, 256, trainset.num_classes)\n",
    "import time\n",
    "from datetime import datetime\n",
    "if (training=='New'):\n",
    "    model = Net(1, 256, 2).to(device)\n",
    "    loss_func = nn.CrossEntropyLoss()\n",
    "\n",
    "    \n",
    "\n",
    "    model.train()\n",
    "\n",
    "    epoch_losses = []\n",
    "\n",
    "    #start timer:\n",
    "    t0 = time.time()\n",
    "\n",
    "    for epoch in range(training_epoch):\n",
    "        model.train()\n",
    "        epoch_loss = 0\n",
    "        for iter, (g,label) in enumerate(traindata):\n",
    "            x = g.in_degrees().view(-1, 1).float().to(device)\n",
    "\n",
    "#             x = torch.ones(g.batch_num_nodes[0],1).cuda()\n",
    "            a = g.edges()[0].tolist()\n",
    "            b = g.edges()[1].tolist()\n",
    "            edges = list(zip(a,b))\n",
    "            edges = np.array(edges)\n",
    "            edges = torch.LongTensor(edges.transpose()).to(device)\n",
    "            labels = np.array([label])\n",
    "\n",
    "            prediction,h1,h2,h3 = model(x,edges)\n",
    "            loss = loss_func(prediction, torch.LongTensor(labels).cuda())\n",
    "            optimizer.zero_grad()\n",
    "            loss.backward()\n",
    "    #         print('loss {:.4f},label:{}'.format(loss,label))\n",
    "            optimizer.step()\n",
    "            epoch_loss += loss.detach().item()\n",
    "        epoch_loss /= (iter + 1)\n",
    "        print('Epoch {}, loss {:.4f}'.format(epoch, epoch_loss))\n",
    "        epoch_losses.append(epoch_loss)\n",
    "\n",
    "    training_time = time.time() - t0\n",
    "\n",
    "    print('Finished training. Training time = {:.4f} Seconds'.format(training_time))\n",
    "\n",
    "\n",
    "    dateTimeObj = datetime.now()\n",
    "\n",
    "    timestampStr = dateTimeObj.strftime(\"%d-%b-%Y-%H:%M:%S\")\n",
    "    model_name = 'explaingraph_epoch{}'.format(training_epoch)+timestampStr\n",
    "\n",
    "    SAVE_PATH = './models/' + model_name\n",
    "    torch.save({'epoch':epoch,'model_state_dict':model.state_dict(),'optimizer_state_dict': optimizer.state_dict()}, SAVE_PATH)\n",
    "    plt.title('cross entropy averaged over minibatches')\n",
    "    plt.plot(epoch_losses)\n",
    "    plt.show()\n",
    "if(training=='continue'):\n",
    "\n",
    "    \n",
    "    for epoch in range(training_epoch):\n",
    "        epoch += start_epoch\n",
    "        model.train()\n",
    "        epoch_loss = 0\n",
    "        for iter, (g,label) in enumerate(traindata):\n",
    "            x = g.in_degrees().view(-1, 1).float().to(device)\n",
    "\n",
    "#             x = torch.ones(g.batch_num_nodes[0],1).cuda()\n",
    "            a = g.edges()[0].tolist()\n",
    "            b = g.edges()[1].tolist()\n",
    "            edges = list(zip(a,b))\n",
    "            edges = np.array(edges)\n",
    "            edges = torch.LongTensor(edges.transpose()).to(device)\n",
    "            labels = np.array([label])\n",
    "\n",
    "            prediction,h1,h2,h3 = model(x,edges)\n",
    "\n",
    "            loss = loss_func(prediction, torch.LongTensor(labels).cuda())\n",
    "            optimizer.zero_grad()\n",
    "            loss.backward()\n",
    "    #         print('loss {:.4f},label:{}'.format(loss,label))\n",
    "            optimizer.step()\n",
    "            epoch_loss += loss.detach().item()\n",
    "        epoch_loss /= (iter + 1)\n",
    "        print('Epoch {}, loss {:.4f}'.format(epoch, epoch_loss))\n",
    "    epoch_losses.append(epoch_loss)\n",
    "    torch.save({'epoch':epoch,'model_state_dict':model.state_dict(),'optimizer_state_dict': optimizer.state_dict()}, SAVE_PATH)\n",
    "    plt.title('cross entropy averaged over minibatches')\n",
    "    plt.plot(epoch_losses)\n",
    "    plt.show()"
   ]
  },
  {
   "cell_type": "code",
   "execution_count": null,
   "metadata": {},
   "outputs": [],
   "source": []
  },
  {
   "cell_type": "code",
   "execution_count": 7,
   "metadata": {},
   "outputs": [
    {
     "name": "stdout",
     "output_type": "stream",
     "text": [
      "[(DGLGraph(num_nodes=15, num_edges=59,\n",
      "         ndata_schemes={}\n",
      "         edata_schemes={}), 0, 35), (DGLGraph(num_nodes=12, num_edges=46,\n",
      "         ndata_schemes={}\n",
      "         edata_schemes={}), 0, 36), (DGLGraph(num_nodes=14, num_edges=52,\n",
      "         ndata_schemes={}\n",
      "         edata_schemes={}), 0, 37), (DGLGraph(num_nodes=12, num_edges=44,\n",
      "         ndata_schemes={}\n",
      "         edata_schemes={}), 0, 38), (DGLGraph(num_nodes=14, num_edges=52,\n",
      "         ndata_schemes={}\n",
      "         edata_schemes={}), 0, 39), (DGLGraph(num_nodes=10, num_edges=36,\n",
      "         ndata_schemes={}\n",
      "         edata_schemes={}), 0, 40), (DGLGraph(num_nodes=12, num_edges=44,\n",
      "         ndata_schemes={}\n",
      "         edata_schemes={}), 0, 41), (DGLGraph(num_nodes=12, num_edges=48,\n",
      "         ndata_schemes={}\n",
      "         edata_schemes={}), 1, 49), (DGLGraph(num_nodes=16, num_edges=64,\n",
      "         ndata_schemes={}\n",
      "         edata_schemes={}), 1, 50), (DGLGraph(num_nodes=14, num_edges=56,\n",
      "         ndata_schemes={}\n",
      "         edata_schemes={}), 1, 51), (DGLGraph(num_nodes=16, num_edges=64,\n",
      "         ndata_schemes={}\n",
      "         edata_schemes={}), 1, 52), (DGLGraph(num_nodes=12, num_edges=48,\n",
      "         ndata_schemes={}\n",
      "         edata_schemes={}), 1, 53), (DGLGraph(num_nodes=18, num_edges=72,\n",
      "         ndata_schemes={}\n",
      "         edata_schemes={}), 1, 54), (DGLGraph(num_nodes=12, num_edges=48,\n",
      "         ndata_schemes={}\n",
      "         edata_schemes={}), 1, 55), (DGLGraph(num_nodes=16, num_edges=64,\n",
      "         ndata_schemes={}\n",
      "         edata_schemes={}), 1, 56), (DGLGraph(num_nodes=16, num_edges=64,\n",
      "         ndata_schemes={}\n",
      "         edata_schemes={}), 1, 57), (DGLGraph(num_nodes=12, num_edges=48,\n",
      "         ndata_schemes={}\n",
      "         edata_schemes={}), 1, 58), (DGLGraph(num_nodes=18, num_edges=72,\n",
      "         ndata_schemes={}\n",
      "         edata_schemes={}), 1, 59)]\n"
     ]
    }
   ],
   "source": [
    "test_data_loader=DataLoader(testset, batch_size=1, shuffle=False,collate_fn=collate)\n",
    "\n",
    "test_data = []\n",
    "for iter, (g,label) in enumerate(test_data_loader):\n",
    "    if(label==5):\n",
    "        test_data.append((g,0,iter))\n",
    "    if(label==7):\n",
    "        test_data.append((g,1,iter))\n",
    "        \n",
    "print(test_data)"
   ]
  },
  {
   "cell_type": "code",
   "execution_count": 8,
   "metadata": {},
   "outputs": [
    {
     "name": "stdout",
     "output_type": "stream",
     "text": [
      "tensor([[9.9946e-01, 5.4380e-04]], device='cuda:0', grad_fn=<SoftmaxBackward>) tensor([[0]], device='cuda:0') 0\n",
      "tensor([[9.9974e-01, 2.6106e-04]], device='cuda:0', grad_fn=<SoftmaxBackward>) tensor([[0]], device='cuda:0') 0\n",
      "tensor([[1.0000e+00, 1.4420e-06]], device='cuda:0', grad_fn=<SoftmaxBackward>) tensor([[0]], device='cuda:0') 0\n",
      "tensor([[1.0000e+00, 2.1842e-08]], device='cuda:0', grad_fn=<SoftmaxBackward>) tensor([[0]], device='cuda:0') 0\n",
      "tensor([[1.0000e+00, 1.0523e-07]], device='cuda:0', grad_fn=<SoftmaxBackward>) tensor([[0]], device='cuda:0') 0\n",
      "tensor([[1.0000e+00, 3.7426e-11]], device='cuda:0', grad_fn=<SoftmaxBackward>) tensor([[0]], device='cuda:0') 0\n",
      "tensor([[1.0000e+00, 5.1866e-08]], device='cuda:0', grad_fn=<SoftmaxBackward>) tensor([[0]], device='cuda:0') 0\n",
      "tensor([[0.0912, 0.9088]], device='cuda:0', grad_fn=<SoftmaxBackward>) tensor([[1]], device='cuda:0') 1\n",
      "tensor([[0.0936, 0.9064]], device='cuda:0', grad_fn=<SoftmaxBackward>) tensor([[1]], device='cuda:0') 1\n",
      "tensor([[0.1290, 0.8710]], device='cuda:0', grad_fn=<SoftmaxBackward>) tensor([[1]], device='cuda:0') 1\n",
      "tensor([[0.0719, 0.9281]], device='cuda:0', grad_fn=<SoftmaxBackward>) tensor([[1]], device='cuda:0') 1\n",
      "tensor([[0.0741, 0.9259]], device='cuda:0', grad_fn=<SoftmaxBackward>) tensor([[1]], device='cuda:0') 1\n",
      "tensor([[0.0743, 0.9257]], device='cuda:0', grad_fn=<SoftmaxBackward>) tensor([[1]], device='cuda:0') 1\n",
      "tensor([[0.0946, 0.9054]], device='cuda:0', grad_fn=<SoftmaxBackward>) tensor([[1]], device='cuda:0') 1\n",
      "tensor([[0.0750, 0.9250]], device='cuda:0', grad_fn=<SoftmaxBackward>) tensor([[1]], device='cuda:0') 1\n",
      "tensor([[0.0739, 0.9261]], device='cuda:0', grad_fn=<SoftmaxBackward>) tensor([[1]], device='cuda:0') 1\n",
      "tensor([[0.1111, 0.8889]], device='cuda:0', grad_fn=<SoftmaxBackward>) tensor([[1]], device='cuda:0') 1\n",
      "tensor([[0.0708, 0.9292]], device='cuda:0', grad_fn=<SoftmaxBackward>) tensor([[1]], device='cuda:0') 1\n"
     ]
    }
   ],
   "source": [
    "model.eval\n",
    "\n",
    "prediction=torch.zeros(len(test_data),1,dtype=torch.float64)\n",
    "for iter, (g,label,_) in enumerate(test_data):\n",
    "        x = g.in_degrees().view(-1, 1).float().cuda()\n",
    "        a = g.edges()[0].tolist()\n",
    "        b = g.edges()[1].tolist()\n",
    "        edges = list(zip(a,b))\n",
    "        edges = np.array(edges)\n",
    "        edges = torch.LongTensor(edges.transpose()).cuda()\n",
    "        labels = np.array([label])\n",
    "\n",
    "        pred,h1,h2,h3 = model(x,edges)\n",
    "        probs_Y = torch.softmax(pred, 1)\n",
    "        argmax_Y = torch.max(probs_Y, 1)[1].view(-1, 1)\n",
    "#         prediction[iter] = (argmax_Y.cuda()==label.cuda())\n",
    "        prediction[iter] = (argmax_Y==label)\n",
    "        print(probs_Y,argmax_Y,label)\n",
    "        "
   ]
  },
  {
   "cell_type": "code",
   "execution_count": 9,
   "metadata": {},
   "outputs": [
    {
     "name": "stdout",
     "output_type": "stream",
     "text": [
      "Accuracy of argmax predictions on the test set: 100.0000%\n"
     ]
    }
   ],
   "source": [
    "print('Accuracy of argmax predictions on the test set: {:.4f}%'.format(\n",
    "    (prediction.cuda().sum().item() / len(test_data)) * 100))"
   ]
  },
  {
   "cell_type": "markdown",
   "metadata": {},
   "source": [
    "### GNNExplainer"
   ]
  },
  {
   "cell_type": "code",
   "execution_count": 10,
   "metadata": {},
   "outputs": [],
   "source": [
    "# ## model.eval()\n",
    "# for iter, (g,label,index) in enumerate(test_data):\n",
    "#     test_g = g\n",
    "#     label_tensor =label\n",
    "\n",
    "\n",
    "#     # test_g, label = trainset[2]\n",
    "#     fig, ax = plt.subplots()\n",
    "#     nx.draw(test_g.to_networkx(), ax=ax)\n",
    "#     x = test_g.in_degrees().view(-1, 1).float()\n",
    "#     mean_degree = torch.mean(x)\n",
    "#     ax.set_title('Class: {}, Mean Degree:{},iter:{}'.format(label,mean_degree,index))\n",
    "#     plt.show()"
   ]
  },
  {
   "cell_type": "code",
   "execution_count": 11,
   "metadata": {},
   "outputs": [
    {
     "name": "stdout",
     "output_type": "stream",
     "text": [
      "(18, 256) (18, 256) (18, 256)\n",
      "<bound method Module.parameters of Net(\n",
      "  (conv1): GCNConv(1, 256)\n",
      "  (conv2): GCNConv(256, 256)\n",
      "  (classify): Linear(in_features=256, out_features=2, bias=True)\n",
      ")>\n"
     ]
    }
   ],
   "source": [
    "# torch.save(h1.data, 'file.pt')\n",
    "\n",
    "pred,h1,h2,h3 = model(x.cuda(),edges.cuda())\n",
    "h1 = h1.cpu().detach().numpy()\n",
    "h2 = h2.cpu().detach().numpy()\n",
    "h3 = h3.cpu().detach().numpy()\n",
    "print(h1.shape,h2.shape,h3.shape)\n",
    "print(model.parameters)\n",
    "np.savetxt(\"h1.csv\", h1, delimiter=\",\", fmt='%f',header='')"
   ]
  },
  {
   "cell_type": "code",
   "execution_count": 12,
   "metadata": {},
   "outputs": [
    {
     "name": "stdout",
     "output_type": "stream",
     "text": [
      "DGLGraph(num_nodes=12, num_edges=48,\n",
      "         ndata_schemes={}\n",
      "         edata_schemes={}) 7\n",
      "[0, 0, 0, 1, 1, 1, 2, 2, 2, 3, 3, 3, 4, 4, 4, 5, 5, 5, 6, 6, 6, 7, 7, 7, 8, 8, 8, 9, 9, 9, 10, 10, 10, 11, 11, 11, 0, 1, 2, 3, 4, 5, 6, 7, 8, 9, 10, 11]\n",
      "[1, 6, 5, 0, 2, 7, 1, 3, 8, 2, 4, 9, 3, 5, 10, 4, 11, 0, 7, 0, 11, 6, 8, 1, 7, 9, 2, 8, 10, 3, 9, 11, 4, 10, 5, 6, 0, 1, 2, 3, 4, 5, 6, 7, 8, 9, 10, 11]\n",
      "tensor([[-1.0634,  1.0420]], device='cuda:0', grad_fn=<AddmmBackward>)\n"
     ]
    }
   ],
   "source": [
    "\n",
    "test_g,label = testset[55]\n",
    "print(test_g,label)\n",
    "label = 0\n",
    "x = test_g.in_degrees().view(-1, 1).float().cuda()\n",
    "# x = feature\n",
    "a = test_g.edges()[0].tolist()\n",
    "print(a)\n",
    "\n",
    "b = test_g.edges()[1].tolist()\n",
    "print(b)\n",
    "edges= list(zip(a,b))\n",
    "edges=np.array(edges)\n",
    "edges=torch.LongTensor(edges.transpose()).cuda()\n",
    "probs_Y,h1,h2,h3 = model(x, edges)\n",
    "print(probs_Y)\n",
    "\n",
    "explainer = Explainer(\n",
    "            model=model,\n",
    "            adj=edges.cpu(),\n",
    "            feat=x.cpu(),\n",
    "            label=[label],\n",
    "            pred = probs_Y.cpu().detach(),\n",
    "            train_idx=None,\n",
    "            graph_mode=True,\n",
    "        )"
   ]
  },
  {
   "cell_type": "code",
   "execution_count": 14,
   "metadata": {},
   "outputs": [
    {
     "name": "stdout",
     "output_type": "stream",
     "text": [
      "Graph predicted label:  tensor([0, 0])\n",
      "torch.Size([48, 48])\n",
      "tensor([[0.0000, 0.0000, 0.0000,  ..., 6.7791, 7.4232, 8.0089],\n",
      "        [0.0000, 0.0000, 0.0000,  ..., 6.6380, 7.3356, 7.8787],\n",
      "        [0.0000, 0.0000, 0.0000,  ..., 6.3692, 7.6268, 8.0801],\n",
      "        ...,\n",
      "        [0.0000, 0.0000, 0.0000,  ..., 0.0000, 7.4903, 7.8941],\n",
      "        [0.0000, 0.0000, 0.0000,  ..., 6.7413, 0.0000, 7.7845],\n",
      "        [0.0000, 0.0000, 0.0000,  ..., 6.4588, 7.0768, 0.0000]],\n",
      "       device='cuda:0', grad_fn=<MulBackward0>)\n"
     ]
    },
    {
     "ename": "ValueError",
     "evalue": "too many values to unpack (expected 2)",
     "output_type": "error",
     "traceback": [
      "\u001b[0;31m---------------------------------------------------------------------------\u001b[0m",
      "\u001b[0;31mValueError\u001b[0m                                Traceback (most recent call last)",
      "\u001b[0;32m<ipython-input-14-ff680ab7ad14>\u001b[0m in \u001b[0;36m<module>\u001b[0;34m\u001b[0m\n\u001b[1;32m     12\u001b[0m \u001b[0;34m\u001b[0m\u001b[0m\n\u001b[1;32m     13\u001b[0m \u001b[0;34m\u001b[0m\u001b[0m\n\u001b[0;32m---> 14\u001b[0;31m \u001b[0medge_mask\u001b[0m\u001b[0;34m,\u001b[0m\u001b[0mepoch_losses\u001b[0m \u001b[0;34m=\u001b[0m \u001b[0mexplainer\u001b[0m\u001b[0;34m.\u001b[0m\u001b[0mexplain_graphs\u001b[0m\u001b[0;34m(\u001b[0m\u001b[0;34m[\u001b[0m\u001b[0;36m0\u001b[0m\u001b[0;34m]\u001b[0m\u001b[0;34m)\u001b[0m\u001b[0;34m\u001b[0m\u001b[0;34m\u001b[0m\u001b[0m\n\u001b[0m\u001b[1;32m     15\u001b[0m \u001b[0;34m\u001b[0m\u001b[0m\n\u001b[1;32m     16\u001b[0m \u001b[0mplt\u001b[0m \u001b[0;34m=\u001b[0m \u001b[0mexplainer\u001b[0m\u001b[0;34m.\u001b[0m\u001b[0mvisualize_subgraph\u001b[0m\u001b[0;34m(\u001b[0m\u001b[0;32mNone\u001b[0m\u001b[0;34m,\u001b[0m\u001b[0medge_index\u001b[0m\u001b[0;34m=\u001b[0m\u001b[0medges\u001b[0m\u001b[0;34m,\u001b[0m \u001b[0medge_mask\u001b[0m\u001b[0;34m=\u001b[0m\u001b[0medge_mask\u001b[0m\u001b[0;34m,\u001b[0m\u001b[0mthreshold\u001b[0m\u001b[0;34m=\u001b[0m\u001b[0;36m0.1\u001b[0m\u001b[0;34m)\u001b[0m\u001b[0;34m\u001b[0m\u001b[0;34m\u001b[0m\u001b[0m\n",
      "\u001b[0;32m/hdd/xuenong/Adder_Classification/main/gnnexplainer/explain.py\u001b[0m in \u001b[0;36mexplain_graphs\u001b[0;34m(self, graph_indices)\u001b[0m\n\u001b[1;32m    228\u001b[0m \u001b[0;34m\u001b[0m\u001b[0m\n\u001b[1;32m    229\u001b[0m         \u001b[0;32mfor\u001b[0m \u001b[0mgraph_idx\u001b[0m \u001b[0;32min\u001b[0m \u001b[0mgraph_indices\u001b[0m\u001b[0;34m:\u001b[0m\u001b[0;34m\u001b[0m\u001b[0;34m\u001b[0m\u001b[0m\n\u001b[0;32m--> 230\u001b[0;31m             \u001b[0mmasked_adj\u001b[0m \u001b[0;34m=\u001b[0m \u001b[0mself\u001b[0m\u001b[0;34m.\u001b[0m\u001b[0mexplain\u001b[0m\u001b[0;34m(\u001b[0m\u001b[0mnode_idx\u001b[0m\u001b[0;34m=\u001b[0m\u001b[0;36m0\u001b[0m\u001b[0;34m,\u001b[0m \u001b[0mgraph_idx\u001b[0m\u001b[0;34m=\u001b[0m\u001b[0mgraph_idx\u001b[0m\u001b[0;34m,\u001b[0m \u001b[0mgraph_mode\u001b[0m\u001b[0;34m=\u001b[0m\u001b[0;32mTrue\u001b[0m\u001b[0;34m)\u001b[0m\u001b[0;34m\u001b[0m\u001b[0;34m\u001b[0m\u001b[0m\n\u001b[0m\u001b[1;32m    231\u001b[0m             G_denoised = io_utils.denoise_graph(\n\u001b[1;32m    232\u001b[0m                 \u001b[0mmasked_adj\u001b[0m\u001b[0;34m,\u001b[0m\u001b[0;34m\u001b[0m\u001b[0;34m\u001b[0m\u001b[0m\n",
      "\u001b[0;32m/hdd/xuenong/Adder_Classification/main/gnnexplainer/explain.py\u001b[0m in \u001b[0;36mexplain\u001b[0;34m(self, node_idx, graph_idx, graph_mode, unconstrained, model)\u001b[0m\n\u001b[1;32m    134\u001b[0m                 \u001b[0mexplainer\u001b[0m\u001b[0;34m.\u001b[0m\u001b[0mzero_grad\u001b[0m\u001b[0;34m(\u001b[0m\u001b[0;34m)\u001b[0m\u001b[0;34m\u001b[0m\u001b[0;34m\u001b[0m\u001b[0m\n\u001b[1;32m    135\u001b[0m                 \u001b[0mexplainer\u001b[0m\u001b[0;34m.\u001b[0m\u001b[0moptimizer\u001b[0m\u001b[0;34m.\u001b[0m\u001b[0mzero_grad\u001b[0m\u001b[0;34m(\u001b[0m\u001b[0;34m)\u001b[0m\u001b[0;34m\u001b[0m\u001b[0;34m\u001b[0m\u001b[0m\n\u001b[0;32m--> 136\u001b[0;31m                 \u001b[0mypred\u001b[0m\u001b[0;34m,\u001b[0m \u001b[0madj_atts\u001b[0m \u001b[0;34m=\u001b[0m \u001b[0mexplainer\u001b[0m\u001b[0;34m(\u001b[0m\u001b[0mnode_idx_new\u001b[0m\u001b[0;34m,\u001b[0m \u001b[0munconstrained\u001b[0m\u001b[0;34m=\u001b[0m\u001b[0munconstrained\u001b[0m\u001b[0;34m)\u001b[0m\u001b[0;34m\u001b[0m\u001b[0;34m\u001b[0m\u001b[0m\n\u001b[0m\u001b[1;32m    137\u001b[0m                 \u001b[0mloss\u001b[0m \u001b[0;34m=\u001b[0m \u001b[0mexplainer\u001b[0m\u001b[0;34m.\u001b[0m\u001b[0mloss\u001b[0m\u001b[0;34m(\u001b[0m\u001b[0mypred\u001b[0m\u001b[0;34m,\u001b[0m \u001b[0mpred_label\u001b[0m\u001b[0;34m,\u001b[0m \u001b[0mnode_idx_new\u001b[0m\u001b[0;34m,\u001b[0m \u001b[0mepoch\u001b[0m\u001b[0;34m)\u001b[0m\u001b[0;34m\u001b[0m\u001b[0;34m\u001b[0m\u001b[0m\n\u001b[1;32m    138\u001b[0m                 \u001b[0mloss\u001b[0m\u001b[0;34m.\u001b[0m\u001b[0mbackward\u001b[0m\u001b[0;34m(\u001b[0m\u001b[0;34m)\u001b[0m\u001b[0;34m\u001b[0m\u001b[0;34m\u001b[0m\u001b[0m\n",
      "\u001b[0;32m~/anaconda3/envs/pytorch/lib/python3.8/site-packages/torch/nn/modules/module.py\u001b[0m in \u001b[0;36m__call__\u001b[0;34m(self, *input, **kwargs)\u001b[0m\n\u001b[1;32m    548\u001b[0m             \u001b[0mresult\u001b[0m \u001b[0;34m=\u001b[0m \u001b[0mself\u001b[0m\u001b[0;34m.\u001b[0m\u001b[0m_slow_forward\u001b[0m\u001b[0;34m(\u001b[0m\u001b[0;34m*\u001b[0m\u001b[0minput\u001b[0m\u001b[0;34m,\u001b[0m \u001b[0;34m**\u001b[0m\u001b[0mkwargs\u001b[0m\u001b[0;34m)\u001b[0m\u001b[0;34m\u001b[0m\u001b[0;34m\u001b[0m\u001b[0m\n\u001b[1;32m    549\u001b[0m         \u001b[0;32melse\u001b[0m\u001b[0;34m:\u001b[0m\u001b[0;34m\u001b[0m\u001b[0;34m\u001b[0m\u001b[0m\n\u001b[0;32m--> 550\u001b[0;31m             \u001b[0mresult\u001b[0m \u001b[0;34m=\u001b[0m \u001b[0mself\u001b[0m\u001b[0;34m.\u001b[0m\u001b[0mforward\u001b[0m\u001b[0;34m(\u001b[0m\u001b[0;34m*\u001b[0m\u001b[0minput\u001b[0m\u001b[0;34m,\u001b[0m \u001b[0;34m**\u001b[0m\u001b[0mkwargs\u001b[0m\u001b[0;34m)\u001b[0m\u001b[0;34m\u001b[0m\u001b[0;34m\u001b[0m\u001b[0m\n\u001b[0m\u001b[1;32m    551\u001b[0m         \u001b[0;32mfor\u001b[0m \u001b[0mhook\u001b[0m \u001b[0;32min\u001b[0m \u001b[0mself\u001b[0m\u001b[0;34m.\u001b[0m\u001b[0m_forward_hooks\u001b[0m\u001b[0;34m.\u001b[0m\u001b[0mvalues\u001b[0m\u001b[0;34m(\u001b[0m\u001b[0;34m)\u001b[0m\u001b[0;34m:\u001b[0m\u001b[0;34m\u001b[0m\u001b[0;34m\u001b[0m\u001b[0m\n\u001b[1;32m    552\u001b[0m             \u001b[0mhook_result\u001b[0m \u001b[0;34m=\u001b[0m \u001b[0mhook\u001b[0m\u001b[0;34m(\u001b[0m\u001b[0mself\u001b[0m\u001b[0;34m,\u001b[0m \u001b[0minput\u001b[0m\u001b[0;34m,\u001b[0m \u001b[0mresult\u001b[0m\u001b[0;34m)\u001b[0m\u001b[0;34m\u001b[0m\u001b[0;34m\u001b[0m\u001b[0m\n",
      "\u001b[0;32m/hdd/xuenong/Adder_Classification/main/gnnexplainer/explain.py\u001b[0m in \u001b[0;36mforward\u001b[0;34m(self, node_idx, unconstrained, mask_features, marginalize)\u001b[0m\n\u001b[1;32m    577\u001b[0m         \u001b[0mnp\u001b[0m\u001b[0;34m.\u001b[0m\u001b[0msavetxt\u001b[0m\u001b[0;34m(\u001b[0m\u001b[0;34m\"masked_adj.csv\"\u001b[0m\u001b[0;34m,\u001b[0m \u001b[0mself\u001b[0m\u001b[0;34m.\u001b[0m\u001b[0mmasked_adj\u001b[0m\u001b[0;34m.\u001b[0m\u001b[0mcpu\u001b[0m\u001b[0;34m(\u001b[0m\u001b[0;34m)\u001b[0m\u001b[0;34m.\u001b[0m\u001b[0mdetach\u001b[0m\u001b[0;34m(\u001b[0m\u001b[0;34m)\u001b[0m\u001b[0;34m.\u001b[0m\u001b[0mnumpy\u001b[0m\u001b[0;34m(\u001b[0m\u001b[0;34m)\u001b[0m\u001b[0;34m,\u001b[0m \u001b[0mdelimiter\u001b[0m\u001b[0;34m=\u001b[0m\u001b[0;34m\",\"\u001b[0m\u001b[0;34m,\u001b[0m \u001b[0mfmt\u001b[0m\u001b[0;34m=\u001b[0m\u001b[0;34m'%f'\u001b[0m\u001b[0;34m,\u001b[0m\u001b[0mheader\u001b[0m\u001b[0;34m=\u001b[0m\u001b[0;34m''\u001b[0m\u001b[0;34m)\u001b[0m\u001b[0;34m\u001b[0m\u001b[0;34m\u001b[0m\u001b[0m\n\u001b[1;32m    578\u001b[0m \u001b[0;31m#         ypred, adj_att = self.model(x, self.masked_adj)\u001b[0m\u001b[0;34m\u001b[0m\u001b[0;34m\u001b[0m\u001b[0;34m\u001b[0m\u001b[0m\n\u001b[0;32m--> 579\u001b[0;31m         \u001b[0mypred\u001b[0m \u001b[0;34m=\u001b[0m \u001b[0mself\u001b[0m\u001b[0;34m.\u001b[0m\u001b[0mmodel\u001b[0m\u001b[0;34m(\u001b[0m\u001b[0mx\u001b[0m\u001b[0;34m,\u001b[0m \u001b[0mself\u001b[0m\u001b[0;34m.\u001b[0m\u001b[0mmasked_adj\u001b[0m\u001b[0;34m)\u001b[0m\u001b[0;34m\u001b[0m\u001b[0;34m\u001b[0m\u001b[0m\n\u001b[0m\u001b[1;32m    580\u001b[0m         \u001b[0;32mif\u001b[0m \u001b[0mself\u001b[0m\u001b[0;34m.\u001b[0m\u001b[0mgraph_mode\u001b[0m\u001b[0;34m:\u001b[0m\u001b[0;34m\u001b[0m\u001b[0;34m\u001b[0m\u001b[0m\n\u001b[1;32m    581\u001b[0m             \u001b[0mres\u001b[0m \u001b[0;34m=\u001b[0m \u001b[0mnn\u001b[0m\u001b[0;34m.\u001b[0m\u001b[0mSoftmax\u001b[0m\u001b[0;34m(\u001b[0m\u001b[0mdim\u001b[0m\u001b[0;34m=\u001b[0m\u001b[0;36m0\u001b[0m\u001b[0;34m)\u001b[0m\u001b[0;34m(\u001b[0m\u001b[0mypred\u001b[0m\u001b[0;34m[\u001b[0m\u001b[0;36m0\u001b[0m\u001b[0;34m]\u001b[0m\u001b[0;34m)\u001b[0m\u001b[0;34m\u001b[0m\u001b[0;34m\u001b[0m\u001b[0m\n",
      "\u001b[0;32m~/anaconda3/envs/pytorch/lib/python3.8/site-packages/torch/nn/modules/module.py\u001b[0m in \u001b[0;36m__call__\u001b[0;34m(self, *input, **kwargs)\u001b[0m\n\u001b[1;32m    548\u001b[0m             \u001b[0mresult\u001b[0m \u001b[0;34m=\u001b[0m \u001b[0mself\u001b[0m\u001b[0;34m.\u001b[0m\u001b[0m_slow_forward\u001b[0m\u001b[0;34m(\u001b[0m\u001b[0;34m*\u001b[0m\u001b[0minput\u001b[0m\u001b[0;34m,\u001b[0m \u001b[0;34m**\u001b[0m\u001b[0mkwargs\u001b[0m\u001b[0;34m)\u001b[0m\u001b[0;34m\u001b[0m\u001b[0;34m\u001b[0m\u001b[0m\n\u001b[1;32m    549\u001b[0m         \u001b[0;32melse\u001b[0m\u001b[0;34m:\u001b[0m\u001b[0;34m\u001b[0m\u001b[0;34m\u001b[0m\u001b[0m\n\u001b[0;32m--> 550\u001b[0;31m             \u001b[0mresult\u001b[0m \u001b[0;34m=\u001b[0m \u001b[0mself\u001b[0m\u001b[0;34m.\u001b[0m\u001b[0mforward\u001b[0m\u001b[0;34m(\u001b[0m\u001b[0;34m*\u001b[0m\u001b[0minput\u001b[0m\u001b[0;34m,\u001b[0m \u001b[0;34m**\u001b[0m\u001b[0mkwargs\u001b[0m\u001b[0;34m)\u001b[0m\u001b[0;34m\u001b[0m\u001b[0;34m\u001b[0m\u001b[0m\n\u001b[0m\u001b[1;32m    551\u001b[0m         \u001b[0;32mfor\u001b[0m \u001b[0mhook\u001b[0m \u001b[0;32min\u001b[0m \u001b[0mself\u001b[0m\u001b[0;34m.\u001b[0m\u001b[0m_forward_hooks\u001b[0m\u001b[0;34m.\u001b[0m\u001b[0mvalues\u001b[0m\u001b[0;34m(\u001b[0m\u001b[0;34m)\u001b[0m\u001b[0;34m:\u001b[0m\u001b[0;34m\u001b[0m\u001b[0;34m\u001b[0m\u001b[0m\n\u001b[1;32m    552\u001b[0m             \u001b[0mhook_result\u001b[0m \u001b[0;34m=\u001b[0m \u001b[0mhook\u001b[0m\u001b[0;34m(\u001b[0m\u001b[0mself\u001b[0m\u001b[0;34m,\u001b[0m \u001b[0minput\u001b[0m\u001b[0;34m,\u001b[0m \u001b[0mresult\u001b[0m\u001b[0;34m)\u001b[0m\u001b[0;34m\u001b[0m\u001b[0;34m\u001b[0m\u001b[0m\n",
      "\u001b[0;32m<ipython-input-4-63386a675f43>\u001b[0m in \u001b[0;36mforward\u001b[0;34m(self, x, edge_index)\u001b[0m\n\u001b[1;32m      9\u001b[0m \u001b[0;34m\u001b[0m\u001b[0m\n\u001b[1;32m     10\u001b[0m     \u001b[0;32mdef\u001b[0m \u001b[0mforward\u001b[0m\u001b[0;34m(\u001b[0m\u001b[0mself\u001b[0m\u001b[0;34m,\u001b[0m \u001b[0mx\u001b[0m\u001b[0;34m,\u001b[0m \u001b[0medge_index\u001b[0m\u001b[0;34m)\u001b[0m\u001b[0;34m:\u001b[0m\u001b[0;34m\u001b[0m\u001b[0;34m\u001b[0m\u001b[0m\n\u001b[0;32m---> 11\u001b[0;31m         \u001b[0mh1\u001b[0m \u001b[0;34m=\u001b[0m \u001b[0mF\u001b[0m\u001b[0;34m.\u001b[0m\u001b[0mrelu\u001b[0m\u001b[0;34m(\u001b[0m\u001b[0mself\u001b[0m\u001b[0;34m.\u001b[0m\u001b[0mconv1\u001b[0m\u001b[0;34m(\u001b[0m\u001b[0mx\u001b[0m\u001b[0;34m,\u001b[0m \u001b[0medge_index\u001b[0m\u001b[0;34m)\u001b[0m\u001b[0;34m)\u001b[0m\u001b[0;34m\u001b[0m\u001b[0;34m\u001b[0m\u001b[0m\n\u001b[0m\u001b[1;32m     12\u001b[0m         \u001b[0mh2\u001b[0m \u001b[0;34m=\u001b[0m \u001b[0mF\u001b[0m\u001b[0;34m.\u001b[0m\u001b[0mdropout\u001b[0m\u001b[0;34m(\u001b[0m\u001b[0mh1\u001b[0m\u001b[0;34m,\u001b[0m \u001b[0mtraining\u001b[0m\u001b[0;34m=\u001b[0m\u001b[0mself\u001b[0m\u001b[0;34m.\u001b[0m\u001b[0mtraining\u001b[0m\u001b[0;34m)\u001b[0m\u001b[0;34m\u001b[0m\u001b[0;34m\u001b[0m\u001b[0m\n\u001b[1;32m     13\u001b[0m         \u001b[0mh3\u001b[0m \u001b[0;34m=\u001b[0m \u001b[0mF\u001b[0m\u001b[0;34m.\u001b[0m\u001b[0mrelu\u001b[0m\u001b[0;34m(\u001b[0m\u001b[0mself\u001b[0m\u001b[0;34m.\u001b[0m\u001b[0mconv2\u001b[0m\u001b[0;34m(\u001b[0m\u001b[0mh2\u001b[0m\u001b[0;34m,\u001b[0m \u001b[0medge_index\u001b[0m\u001b[0;34m)\u001b[0m\u001b[0;34m)\u001b[0m\u001b[0;34m\u001b[0m\u001b[0;34m\u001b[0m\u001b[0m\n",
      "\u001b[0;32m~/anaconda3/envs/pytorch/lib/python3.8/site-packages/torch/nn/modules/module.py\u001b[0m in \u001b[0;36m__call__\u001b[0;34m(self, *input, **kwargs)\u001b[0m\n\u001b[1;32m    548\u001b[0m             \u001b[0mresult\u001b[0m \u001b[0;34m=\u001b[0m \u001b[0mself\u001b[0m\u001b[0;34m.\u001b[0m\u001b[0m_slow_forward\u001b[0m\u001b[0;34m(\u001b[0m\u001b[0;34m*\u001b[0m\u001b[0minput\u001b[0m\u001b[0;34m,\u001b[0m \u001b[0;34m**\u001b[0m\u001b[0mkwargs\u001b[0m\u001b[0;34m)\u001b[0m\u001b[0;34m\u001b[0m\u001b[0;34m\u001b[0m\u001b[0m\n\u001b[1;32m    549\u001b[0m         \u001b[0;32melse\u001b[0m\u001b[0;34m:\u001b[0m\u001b[0;34m\u001b[0m\u001b[0;34m\u001b[0m\u001b[0m\n\u001b[0;32m--> 550\u001b[0;31m             \u001b[0mresult\u001b[0m \u001b[0;34m=\u001b[0m \u001b[0mself\u001b[0m\u001b[0;34m.\u001b[0m\u001b[0mforward\u001b[0m\u001b[0;34m(\u001b[0m\u001b[0;34m*\u001b[0m\u001b[0minput\u001b[0m\u001b[0;34m,\u001b[0m \u001b[0;34m**\u001b[0m\u001b[0mkwargs\u001b[0m\u001b[0;34m)\u001b[0m\u001b[0;34m\u001b[0m\u001b[0;34m\u001b[0m\u001b[0m\n\u001b[0m\u001b[1;32m    551\u001b[0m         \u001b[0;32mfor\u001b[0m \u001b[0mhook\u001b[0m \u001b[0;32min\u001b[0m \u001b[0mself\u001b[0m\u001b[0;34m.\u001b[0m\u001b[0m_forward_hooks\u001b[0m\u001b[0;34m.\u001b[0m\u001b[0mvalues\u001b[0m\u001b[0;34m(\u001b[0m\u001b[0;34m)\u001b[0m\u001b[0;34m:\u001b[0m\u001b[0;34m\u001b[0m\u001b[0;34m\u001b[0m\u001b[0m\n\u001b[1;32m    552\u001b[0m             \u001b[0mhook_result\u001b[0m \u001b[0;34m=\u001b[0m \u001b[0mhook\u001b[0m\u001b[0;34m(\u001b[0m\u001b[0mself\u001b[0m\u001b[0;34m,\u001b[0m \u001b[0minput\u001b[0m\u001b[0;34m,\u001b[0m \u001b[0mresult\u001b[0m\u001b[0;34m)\u001b[0m\u001b[0;34m\u001b[0m\u001b[0;34m\u001b[0m\u001b[0m\n",
      "\u001b[0;32m~/anaconda3/envs/pytorch/lib/python3.8/site-packages/torch_geometric-1.4.3-py3.8.egg/torch_geometric/nn/conv/gcn_conv.py\u001b[0m in \u001b[0;36mforward\u001b[0;34m(self, x, edge_index, edge_weight)\u001b[0m\n\u001b[1;32m     99\u001b[0m             \u001b[0mself\u001b[0m\u001b[0;34m.\u001b[0m\u001b[0mcached_num_edges\u001b[0m \u001b[0;34m=\u001b[0m \u001b[0medge_index\u001b[0m\u001b[0;34m.\u001b[0m\u001b[0msize\u001b[0m\u001b[0;34m(\u001b[0m\u001b[0;36m1\u001b[0m\u001b[0;34m)\u001b[0m\u001b[0;34m\u001b[0m\u001b[0;34m\u001b[0m\u001b[0m\n\u001b[1;32m    100\u001b[0m             \u001b[0;32mif\u001b[0m \u001b[0mself\u001b[0m\u001b[0;34m.\u001b[0m\u001b[0mnormalize\u001b[0m\u001b[0;34m:\u001b[0m\u001b[0;34m\u001b[0m\u001b[0;34m\u001b[0m\u001b[0m\n\u001b[0;32m--> 101\u001b[0;31m                 edge_index, norm = self.norm(edge_index, x.size(\n\u001b[0m\u001b[1;32m    102\u001b[0m                     self.node_dim), edge_weight, self.improved, x.dtype)\n\u001b[1;32m    103\u001b[0m             \u001b[0;32melse\u001b[0m\u001b[0;34m:\u001b[0m\u001b[0;34m\u001b[0m\u001b[0;34m\u001b[0m\u001b[0m\n",
      "\u001b[0;32m~/anaconda3/envs/pytorch/lib/python3.8/site-packages/torch_geometric-1.4.3-py3.8.egg/torch_geometric/nn/conv/gcn_conv.py\u001b[0m in \u001b[0;36mnorm\u001b[0;34m(edge_index, num_nodes, edge_weight, improved, dtype)\u001b[0m\n\u001b[1;32m     74\u001b[0m \u001b[0;34m\u001b[0m\u001b[0m\n\u001b[1;32m     75\u001b[0m         \u001b[0mfill_value\u001b[0m \u001b[0;34m=\u001b[0m \u001b[0;36m1\u001b[0m \u001b[0;32mif\u001b[0m \u001b[0;32mnot\u001b[0m \u001b[0mimproved\u001b[0m \u001b[0;32melse\u001b[0m \u001b[0;36m2\u001b[0m\u001b[0;34m\u001b[0m\u001b[0;34m\u001b[0m\u001b[0m\n\u001b[0;32m---> 76\u001b[0;31m         edge_index, edge_weight = add_remaining_self_loops(\n\u001b[0m\u001b[1;32m     77\u001b[0m             edge_index, edge_weight, fill_value, num_nodes)\n\u001b[1;32m     78\u001b[0m \u001b[0;34m\u001b[0m\u001b[0m\n",
      "\u001b[0;32m~/anaconda3/envs/pytorch/lib/python3.8/site-packages/torch_geometric-1.4.3-py3.8.egg/torch_geometric/utils/loop.py\u001b[0m in \u001b[0;36madd_remaining_self_loops\u001b[0;34m(edge_index, edge_weight, fill_value, num_nodes)\u001b[0m\n\u001b[1;32m    115\u001b[0m     \"\"\"\n\u001b[1;32m    116\u001b[0m     \u001b[0mnum_nodes\u001b[0m \u001b[0;34m=\u001b[0m \u001b[0mmaybe_num_nodes\u001b[0m\u001b[0;34m(\u001b[0m\u001b[0medge_index\u001b[0m\u001b[0;34m,\u001b[0m \u001b[0mnum_nodes\u001b[0m\u001b[0;34m)\u001b[0m\u001b[0;34m\u001b[0m\u001b[0;34m\u001b[0m\u001b[0m\n\u001b[0;32m--> 117\u001b[0;31m     \u001b[0mrow\u001b[0m\u001b[0;34m,\u001b[0m \u001b[0mcol\u001b[0m \u001b[0;34m=\u001b[0m \u001b[0medge_index\u001b[0m\u001b[0;34m\u001b[0m\u001b[0;34m\u001b[0m\u001b[0m\n\u001b[0m\u001b[1;32m    118\u001b[0m \u001b[0;34m\u001b[0m\u001b[0m\n\u001b[1;32m    119\u001b[0m     \u001b[0mmask\u001b[0m \u001b[0;34m=\u001b[0m \u001b[0mrow\u001b[0m \u001b[0;34m!=\u001b[0m \u001b[0mcol\u001b[0m\u001b[0;34m\u001b[0m\u001b[0;34m\u001b[0m\u001b[0m\n",
      "\u001b[0;31mValueError\u001b[0m: too many values to unpack (expected 2)"
     ]
    }
   ],
   "source": [
    "from math import sqrt\n",
    "\n",
    "import torch\n",
    "from tqdm import tqdm\n",
    "import matplotlib.pyplot as plt\n",
    "import networkx as nx\n",
    "from torch_geometric.nn import MessagePassing\n",
    "from torch_geometric.data import Data\n",
    "from torch_geometric.utils import k_hop_subgraph, to_networkx\n",
    "import numpy as np\n",
    "EPS = 1e-15\n",
    "\n",
    "\n",
    "edge_mask,epoch_losses = explainer.explain_graphs([0])\n",
    "\n",
    "plt = explainer.visualize_subgraph(None,edge_index=edges, edge_mask=edge_mask,threshold=0.1)\n",
    "plt.show()\n",
    "\n"
   ]
  },
  {
   "cell_type": "code",
   "execution_count": null,
   "metadata": {},
   "outputs": [],
   "source": [
    "plt.title('cross entropy averaged over minibatches')\n",
    "plt.plot(epoch_losses)\n",
    "plt.show()\n",
    "# print(node_feat_mask)\n",
    "print(edge_mask)\n",
    "print(edges[0,edge_mask>0.2])\n",
    "print(edges[1,edge_mask>0.2])\n",
    "\n"
   ]
  },
  {
   "cell_type": "markdown",
   "metadata": {},
   "source": [
    "### Loop all test samples"
   ]
  },
  {
   "cell_type": "code",
   "execution_count": null,
   "metadata": {},
   "outputs": [],
   "source": [
    "# # from torch.utils.tensorboard import SummaryWriter\n",
    "# # writer = SummaryWriter()\n",
    "# for iter, (g,label) in enumerate(test_data):\n",
    "#         plt.clf()\n",
    "#         fig, ax = plt.subplots(1,2,figsize=(12,6))\n",
    "#         nx.draw(g.to_networkx(), ax=ax[0])\n",
    "        \n",
    "#         image_name = 'graph_{}'.format(iter)\n",
    "#         plt.savefig(\"./images/original/\"+image_name+ \".png\")\n",
    "#         x = g.in_degrees().view(-1, 1).float().cuda()\n",
    "#         a = g.edges()[0].tolist()\n",
    "#         b = g.edges()[1].tolist()\n",
    "#         edges = list(zip(a,b))\n",
    "#         edges = np.array(edges)\n",
    "#         edges = torch.LongTensor(edges.transpose()).cuda()\n",
    "#         labels = np.array([label])\n",
    "#         node_feat_mask, edge_mask,epoch_losses = explainer.explain_graph(x=x, edge_index=edges)\n",
    "\n",
    "#         plt1 = explainer.visualize_subgraph(None, edge_index=edges.cpu(), edge_mask=edge_mask,threshold=None)\n",
    "\n",
    "#         plt.savefig(\"./images/\"+image_name+ \".png\")"
   ]
  },
  {
   "cell_type": "code",
   "execution_count": null,
   "metadata": {},
   "outputs": [],
   "source": []
  },
  {
   "cell_type": "markdown",
   "metadata": {},
   "source": [
    "### Visualize"
   ]
  },
  {
   "cell_type": "code",
   "execution_count": null,
   "metadata": {},
   "outputs": [],
   "source": [
    "from math import sqrt\n",
    "\n",
    "import torch\n",
    "from tqdm import tqdm\n",
    "import matplotlib.pyplot as plt\n",
    "import networkx as nx\n",
    "from torch_geometric.nn import MessagePassing\n",
    "from torch_geometric.data import Data\n",
    "from torch_geometric.utils import k_hop_subgraph, to_networkx\n",
    "def visualize(node_idx, edge_index, edge_mask, y=None,\n",
    "                           threshold=None,**kwargs):\n",
    "        assert edge_mask.size(0) == edge_index.size(1)\n",
    "        \n",
    "        if threshold is not None:\n",
    "            print('Edge Threshold:',threshold)\n",
    "            edge_mask = (edge_mask >= threshold).to(torch.float)\n",
    "          \n",
    "        if node_idx is not None:\n",
    "            # Only operate on a k-hop subgraph around `node_idx`.\n",
    "            subset, edge_index, hard_edge_mask = k_hop_subgraph(\n",
    "                node_idx, self.__num_hops__(), edge_index, relabel_nodes=True,\n",
    "                num_nodes=None, flow=self.__flow__())\n",
    "\n",
    "            edge_mask = edge_mask[hard_edge_mask]\n",
    "        else:\n",
    "            subset=[]\n",
    "            for index,mask in enumerate(edge_mask):\n",
    "                node_a = edge_index[0,index]\n",
    "                node_b = edge_index[1,index]\n",
    "                if node_a not in subset:\n",
    "                    subset.append(node_a.cpu().item())\n",
    "#                     print(\"add: \"+node_a)\n",
    "                if node_b not in subset:\n",
    "                    subset.append(node_b.cpu().item())\n",
    "#                     print(\"add: \"+node_b)\n",
    "#             subset = torch.cat(subset).unique()\n",
    "        edge_list=[]\n",
    "        for index, edge in enumerate(edge_mask):\n",
    "            if edge:\n",
    "                edge_list.append((edge_index[0,index].cpu(),edge_index[1,index].cpu()))\n",
    "        \n",
    "        if y is None:\n",
    "            y = torch.zeros(edge_index.max().item() + 1,\n",
    "                            device=edge_index.device)\n",
    "        else:\n",
    "            y = y[subset].to(torch.float) / y.max().item()\n",
    "\n",
    "        data = Data(edge_index=edge_index.cpu(), att=edge_mask, y=y,\n",
    "                    num_nodes=y.size(0)).to('cpu')\n",
    "\n",
    "        G = to_networkx(data, node_attrs=['y'], edge_attrs=['att'])\n",
    "#         mapping = {k: i for k, i in enumerate(subset.tolist())}\n",
    "        mapping = {k: i for k, i in enumerate(subset)}\n",
    "#         print(mapping)\n",
    "#         G = nx.relabel_nodes(G, mapping)\n",
    "\n",
    "        kwargs['with_labels'] = kwargs.get('with_labels') or True\n",
    "        kwargs['font_size'] = kwargs.get('font_size') or 10\n",
    "        kwargs['node_size'] = kwargs.get('node_size') or 200\n",
    "        kwargs['cmap'] = kwargs.get('cmap') or 'cool'\n",
    "\n",
    "        pos = nx.spring_layout(G)\n",
    "        ax = plt.gca()\n",
    "        for source, target, data in G.edges(data=True):\n",
    "            ax.annotate(\n",
    "                '', xy=pos[target], xycoords='data', xytext=pos[source],\n",
    "                textcoords='data', arrowprops=dict(\n",
    "                    arrowstyle=\"-\",\n",
    "                    alpha=max(data['att'], 0.1),\n",
    "                    shrinkA=sqrt(kwargs['node_size']) / 2.0,\n",
    "                    shrinkB=sqrt(kwargs['node_size']) / 2.0,\n",
    "#                     connectionstyle=\"arc3,rad=0.1\",\n",
    "                ))\n",
    "# #         if node_feature_mask is not None:\n",
    "        nx.draw_networkx_nodes(G, pos, **kwargs)\n",
    "\n",
    "        color = np.array(edge_mask.cpu())\n",
    "\n",
    "        nx.draw_networkx_edges(G, pos,\n",
    "                       width=3, alpha=0.5, edge_color=color,edge_cmap=plt.cm.Reds)\n",
    "        nx.draw_networkx_labels(G, pos, **kwargs)\n",
    "        plt.axis('off')\n",
    "        return plt\n"
   ]
  },
  {
   "cell_type": "code",
   "execution_count": null,
   "metadata": {},
   "outputs": [],
   "source": [
    "plt = visualize(None,edge_index=edges, edge_mask=edge_mask,threshold=0.1)\n",
    "plt.show()\n",
    "\n"
   ]
  },
  {
   "cell_type": "code",
   "execution_count": null,
   "metadata": {},
   "outputs": [],
   "source": [
    "fig, ax = plt.subplots()\n",
    "G=test_g.to_networkx()\n",
    "pos = nx.spring_layout(G)\n",
    "nx.draw(G,pos,ax=ax)\n",
    "# nx.draw_networkx_nodes(G, pos,ax=ax)\n",
    "nx.draw_networkx_labels(G, pos)\n",
    "print(edges)\n",
    "print(edge_mask>0.1)\n",
    "print(edges[0,edge_mask>0.1])\n",
    "print(edges[1,edge_mask>0.1])"
   ]
  },
  {
   "cell_type": "markdown",
   "metadata": {},
   "source": [
    "### TEST"
   ]
  },
  {
   "cell_type": "code",
   "execution_count": null,
   "metadata": {},
   "outputs": [],
   "source": [
    "testset_new = MiniGCDataset(10, 6, 10)\n",
    "for iter, (g,label) in enumerate(testset_new):\n",
    "    test_g = g\n",
    "    label_tensor =label\n",
    "    # test_g, label = trainset[2]\n",
    "    fig, ax = plt.subplots()\n",
    "    nx.draw(test_g.to_networkx(), ax=ax)\n",
    "    x = test_g.in_degrees().view(-1, 1).float()\n",
    "    mean_degree = torch.mean(x)\n",
    "    ax.set_title('Class: {}, Mean Degree:{},iter:{}'.format(label,mean_degree,iter))\n",
    "    plt.show()"
   ]
  },
  {
   "cell_type": "code",
   "execution_count": null,
   "metadata": {},
   "outputs": [],
   "source": [
    "test_graph,test_label = testset_new[7]\n",
    "print(test_graph)\n",
    "fig, ax = plt.subplots()\n",
    "nx.draw(test_graph.to_networkx(), ax=ax)\n",
    "plt.show()"
   ]
  },
  {
   "cell_type": "code",
   "execution_count": null,
   "metadata": {},
   "outputs": [],
   "source": [
    "x = test_graph.in_degrees().view(-1, 1).float().cuda()\n",
    "\n",
    "a = test_graph.edges()[0].tolist()\n",
    "b = test_graph.edges()[1].tolist()\n",
    "edges = list(zip(a,b))\n",
    "edges = np.array(edges)\n",
    "edges = torch.LongTensor(edges.transpose()).cuda()\n",
    "test_label = np.array([test_label])\n",
    "\n",
    "pred,h1,h2,h3 = model(x,edges)\n",
    "probs_Y = torch.softmax(pred, 1)\n",
    "argmax_Y = torch.max(probs_Y, 1)[1].view(-1, 1)\n",
    "prediction = (argmax_Y==label)\n",
    "prediction = (argmax_Y==label)\n",
    "print(probs_Y,argmax_Y,test_label)"
   ]
  },
  {
   "cell_type": "code",
   "execution_count": null,
   "metadata": {},
   "outputs": [],
   "source": []
  },
  {
   "cell_type": "code",
   "execution_count": null,
   "metadata": {},
   "outputs": [],
   "source": []
  }
 ],
 "metadata": {
  "kernelspec": {
   "display_name": "pytorch",
   "language": "python",
   "name": "pytorch"
  },
  "language_info": {
   "codemirror_mode": {
    "name": "ipython",
    "version": 3
   },
   "file_extension": ".py",
   "mimetype": "text/x-python",
   "name": "python",
   "nbconvert_exporter": "python",
   "pygments_lexer": "ipython3",
   "version": "3.8.2"
  }
 },
 "nbformat": 4,
 "nbformat_minor": 4
}
