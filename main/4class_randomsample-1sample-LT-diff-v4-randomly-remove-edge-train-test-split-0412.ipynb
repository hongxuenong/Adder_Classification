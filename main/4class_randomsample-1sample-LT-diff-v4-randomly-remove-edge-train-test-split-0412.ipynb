{
 "cells": [
  {
   "cell_type": "code",
   "execution_count": 119,
   "metadata": {},
   "outputs": [],
   "source": [
    "%matplotlib inline"
   ]
  },
  {
   "cell_type": "markdown",
   "metadata": {},
   "source": [
    "## Setup GPU Device"
   ]
  },
  {
   "cell_type": "code",
   "execution_count": 120,
   "metadata": {},
   "outputs": [],
   "source": [
    "import random"
   ]
  },
  {
   "cell_type": "code",
   "execution_count": 121,
   "metadata": {},
   "outputs": [],
   "source": [
    "import os\n",
    "#Set GPU IDs for training:\n",
    "os.environ[\"CUDA_VISIBLE_DEVICES\"] = '3'"
   ]
  },
  {
   "cell_type": "code",
   "execution_count": 122,
   "metadata": {},
   "outputs": [],
   "source": [
    "import dgl\n",
    "def build_circuit_graph_undirected(node_list,edge_list):\n",
    "    g = dgl.DGLGraph()\n",
    "    g.add_nodes(len(node_list))\n",
    "    src, dst = tuple(zip(*edge_list))\n",
    "    g.add_edges(src, dst)\n",
    "    g.add_edges(dst, src)\n",
    "    return g\n",
    "\n",
    "def build_circuit_graph_directed_sd(node_list,edge_list):\n",
    "    g = dgl.DGLGraph()\n",
    "    g.add_nodes(len(node_list))\n",
    "    src, dst = tuple(zip(*edge_list))\n",
    "    g.add_edges(src, dst)\n",
    "    return g\n",
    "\n",
    "def build_circuit_graph_directed_ds(node_list,edge_list):\n",
    "    g = dgl.DGLGraph()\n",
    "    g.add_nodes(len(node_list))\n",
    "    src, dst = tuple(zip(*edge_list))\n",
    "    g.add_edges(dst, src)\n",
    "    return g"
   ]
  },
  {
   "cell_type": "markdown",
   "metadata": {},
   "source": [
    "### Choose Number of Training Samples"
   ]
  },
  {
   "cell_type": "markdown",
   "metadata": {},
   "source": [
    "### Train Test Split"
   ]
  },
  {
   "cell_type": "code",
   "execution_count": 123,
   "metadata": {},
   "outputs": [],
   "source": [
    "import random\n",
    "random.seed(0)\n",
    "training_size = 30\n",
    "training_idx = random.sample(list(range(5,65)), training_size) #exclude 4-bit adders\n",
    "test_idx = [item for item in list(range(5,65)) if item not in training_idx]"
   ]
  },
  {
   "cell_type": "markdown",
   "metadata": {},
   "source": [
    "## Pick Training Data"
   ]
  },
  {
   "cell_type": "code",
   "execution_count": 124,
   "metadata": {},
   "outputs": [
    {
     "name": "stdout",
     "output_type": "stream",
     "text": [
      "[23 58 24 11 18 44  9 61 54 39] [23 58 24 11 18 44  9 61 54 39] [23 58 24 11 18 44  9 61 54 39] [23 58 24 11 18 44  9 61 54 39]\n"
     ]
    }
   ],
   "source": [
    "import os\n",
    "import matplotlib.pyplot as plt\n",
    "import networkx as nx\n",
    "import csv\n",
    "import numpy as np\n",
    "dir = '/home/gpu-user-02/hdd/LT-user/Adder_Classification/main/preprocessing/processed_training_data'\n",
    "\n",
    "trainset=[]\n",
    "labels=[]\n",
    "#for filename in os.listdir(dir):\n",
    "np.random.seed(1)\n",
    "sample_size = 10\n",
    "# training_idx = np.random.randint(4,64,10)\n",
    "training_idx_1 = np.random.choice(training_idx, size=sample_size, replace=False)\n",
    "# training_idx_2 = np.random.choice(training_idx, size=sample_size, replace=False)\n",
    "# training_idx_3 = np.random.choice(training_idx, size=sample_size, replace=False)\n",
    "# training_idx_4 = np.random.choice(training_idx, size=sample_size, replace=False)\n",
    "\n",
    "training_idx_2 = training_idx_1\n",
    "training_idx_3 = training_idx_1\n",
    "training_idx_4 = training_idx_1\n",
    "# training_idx_1 = [6]\n",
    "# training_idx_2 = [6]\n",
    "# training_idx_3 = [6]\n",
    "# training_idx_4 = [6]\n",
    "print(training_idx_1,training_idx_2,training_idx_3,training_idx_4)"
   ]
  },
  {
   "cell_type": "markdown",
   "metadata": {},
   "source": [
    "### Prepare Training and Test Data"
   ]
  },
  {
   "cell_type": "code",
   "execution_count": 163,
   "metadata": {},
   "outputs": [
    {
     "name": "stdout",
     "output_type": "stream",
     "text": [
      "[[1], [0], [2], [3], [1], [0], [2], [3], [1], [0], [2], [3], [1], [0], [2], [3], [1], [0], [2], [3], [1], [0], [2], [3], [1], [0], [2], [3], [1], [0], [2], [3], [1], [0], [2], [3], [1], [0], [2], [3], [1], [0], [2], [3], [1], [0], [2], [3], [1], [0], [2], [3], [1], [0], [2], [3], [1], [0], [2], [3], [1], [0], [2], [3], [1], [0], [2], [3], [1], [0], [2], [3], [1], [0], [2], [3], [1], [0], [2], [3]]\n"
     ]
    }
   ],
   "source": [
    "for idx in range(len(training_idx_1)):\n",
    "    node_list=[]\n",
    "    edge_list=[]\n",
    "    label_list=[]\n",
    "    node_list2=[]\n",
    "    edge_list2=[]\n",
    "    label_list2=[]\n",
    "    node_list3=[]\n",
    "    edge_list3=[]\n",
    "    label_list3=[]\n",
    "    node_list4=[]\n",
    "    edge_list4=[]\n",
    "    label_list4=[]\n",
    "    for j in [\"node_list\",\"edge_list\",\"graph_label\"]:\n",
    "        filename = \"rca_\"+str(training_idx_1[idx])+\"bit\"+j+'.csv'\n",
    "        filename2 = \"cla_\"+str(training_idx_2[idx])+\"bit\"+j+'.csv'\n",
    "        filename3 = \"csa_\"+str(training_idx_3[idx])+\"bit\"+j+'.csv'\n",
    "        filename4 = \"CSkipA_\"+str(training_idx_4[idx])+\"bit\"+j+'.csv'\n",
    "        if(filename.find(\"node_list\")>=0):\n",
    "            with open(dir+'/'+filename, 'rt') as fh:\n",
    "                reader=csv.reader(fh)\n",
    "                node_list = list(reader)\n",
    "                \n",
    "        if(filename.find(\"edge_list\")>=0):\n",
    "            with open(dir+'/'+filename, 'rt') as fh:\n",
    "                reader=csv.reader(fh)\n",
    "                edge_list = list(reader)\n",
    "        if(filename.find(\"graph_label\")>=0):\n",
    "            with open(dir+'/'+filename, 'rt') as fh:\n",
    "                reader=csv.reader(fh)\n",
    "                label_list = list(reader)\n",
    "        if(filename.find(\"gate_type\")>=0):\n",
    "            with open(dir+'/'+filename, 'rt') as fh:\n",
    "                reader=csv.reader(fh)\n",
    "                gate_type = list(reader)\n",
    "        \n",
    "        if(filename2.find(\"node_list\")>=0):\n",
    "            with open(dir+'/'+filename2, 'rt') as fh:\n",
    "                reader=csv.reader(fh)\n",
    "                node_list2 = list(reader)\n",
    "                \n",
    "        if(filename2.find(\"edge_list\")>=0):\n",
    "            with open(dir+'/'+filename2, 'rt') as fh:\n",
    "                reader=csv.reader(fh)\n",
    "                edge_list2 = list(reader)\n",
    "        if(filename2.find(\"graph_label\")>=0):\n",
    "            with open(dir+'/'+filename2, 'rt') as fh:\n",
    "                reader=csv.reader(fh)\n",
    "                label_list2 = list(reader)\n",
    "        if(filename2.find(\"gate_type\")>=0):\n",
    "            with open(dir+'/'+filename2, 'rt') as fh:\n",
    "                reader=csv.reader(fh)\n",
    "                gate_type2 = list(reader)\n",
    "        \n",
    "        if(filename3.find(\"node_list\")>=0):\n",
    "            with open(dir+'/'+filename3, 'rt') as fh:\n",
    "                reader=csv.reader(fh)\n",
    "                node_list3 = list(reader)\n",
    "                \n",
    "        if(filename3.find(\"edge_list\")>=0):\n",
    "            with open(dir+'/'+filename3, 'rt') as fh:\n",
    "                reader=csv.reader(fh)\n",
    "                edge_list3 = list(reader)\n",
    "        if(filename3.find(\"graph_label\")>=0):\n",
    "            with open(dir+'/'+filename3, 'rt') as fh:\n",
    "                reader=csv.reader(fh)\n",
    "                label_list3 = list(reader)\n",
    "        if(filename3.find(\"gate_type\")>=0):\n",
    "            with open(dir+'/'+filename3, 'rt') as fh:\n",
    "                reader=csv.reader(fh)\n",
    "                gate_type3 = list(reader)\n",
    "        if(filename4.find(\"node_list\")>=0):\n",
    "            with open(dir+'/'+filename4, 'rt') as fh:\n",
    "                reader=csv.reader(fh)\n",
    "                node_list4 = list(reader)\n",
    "                \n",
    "        if(filename4.find(\"edge_list\")>=0):\n",
    "            with open(dir+'/'+filename4, 'rt') as fh:\n",
    "                reader=csv.reader(fh)\n",
    "                edge_list4 = list(reader)\n",
    "        if(filename4.find(\"graph_label\")>=0):\n",
    "            with open(dir+'/'+filename4, 'rt') as fh:\n",
    "                reader=csv.reader(fh)\n",
    "                label_list4 = list(reader)\n",
    "        if(filename4.find(\"gate_type\")>=0):\n",
    "            with open(dir+'/'+filename4, 'rt') as fh:\n",
    "                reader=csv.reader(fh)\n",
    "                gate_type4 = list(reader)\n",
    "    #create dgl graph\n",
    "    g=build_circuit_graph_undirected(node_list,edge_list)\n",
    "    trainset.append(g)\n",
    "    labels.append(label_list[0])\n",
    "    g2=build_circuit_graph_undirected(node_list2,edge_list2)\n",
    "    trainset.append(g2)\n",
    "    labels.append(label_list2[0])\n",
    "    g3=build_circuit_graph_undirected(node_list3,edge_list3)\n",
    "    trainset.append(g3)\n",
    "    labels.append(label_list3[0])\n",
    "    g4=build_circuit_graph_undirected(node_list4,edge_list4)\n",
    "    trainset.append(g4)\n",
    "    labels.append(label_list4[0])\n",
    "\n",
    "for i in labels:\n",
    "    i[0] = int(i[0])\n",
    "\n",
    "print(labels)"
   ]
  },
  {
   "cell_type": "markdown",
   "metadata": {},
   "source": [
    "### Visualize Training Data"
   ]
  },
  {
   "cell_type": "code",
   "execution_count": 164,
   "metadata": {},
   "outputs": [],
   "source": [
    "# graph = trainset[14]\n",
    "# label=labels[14][0]\n",
    "\n",
    "# fig, ax = plt.subplots()\n",
    "# G=graph.to_networkx()\n",
    "# pos=nx.spring_layout(G)\n",
    "# nx.draw(G,pos)\n",
    "# nx.draw_networkx_labels(G,pos, ax=ax)\n",
    "# ax.set_title('Class: {:f}'.format(label))\n",
    "# plt.show()"
   ]
  },
  {
   "cell_type": "markdown",
   "metadata": {},
   "source": [
    "### Apply random shuffle to training set"
   ]
  },
  {
   "cell_type": "code",
   "execution_count": 165,
   "metadata": {},
   "outputs": [],
   "source": [
    "##apply random shuffle on the trainset\n",
    "np.random.seed(0)\n",
    "randomize = np.arange(len(trainset))\n",
    "np.random.shuffle(randomize)\n",
    "labels_shuffled=[]\n",
    "trainset_shuffled=[]\n",
    "for i in range (len(randomize)):\n",
    "    labels_shuffled.append(labels[randomize[i]])\n",
    "    trainset_shuffled.append(trainset[randomize[i]])"
   ]
  },
  {
   "cell_type": "code",
   "execution_count": 166,
   "metadata": {},
   "outputs": [
    {
     "data": {
      "text/plain": [
       "80"
      ]
     },
     "execution_count": 166,
     "metadata": {},
     "output_type": "execute_result"
    }
   ],
   "source": [
    "len(trainset_shuffled)"
   ]
  },
  {
   "cell_type": "code",
   "execution_count": 167,
   "metadata": {},
   "outputs": [],
   "source": [
    "import dgl\n",
    "\n",
    "def collate(samples):\n",
    "    # The input `samples` is a list of pairs\n",
    "    #  (graph, label).\n",
    "    graphs, labels = map(list, zip(*samples))\n",
    "    batched_graph = dgl.batch(graphs)\n",
    "    return batched_graph, torch.tensor(labels)"
   ]
  },
  {
   "cell_type": "code",
   "execution_count": 168,
   "metadata": {},
   "outputs": [],
   "source": [
    "import dgl.function as fn\n",
    "import torch\n",
    "import torch.nn as nn\n",
    "\n",
    "# Sends a message of node feature h.\n",
    "msg = fn.copy_src(src='h', out='m')\n",
    "\n",
    "def reduce(nodes):\n",
    "    \"\"\"Take an average over all neighbor node features hu and use it to\n",
    "    overwrite the original node feature.\"\"\"\n",
    "    accum = torch.mean(nodes.mailbox['m'], 1)\n",
    "    return {'h': accum}\n",
    "\n",
    "class NodeApplyModule(nn.Module):\n",
    "    \"\"\"Update the node feature hv with ReLU(Whv+b).\"\"\"\n",
    "    def __init__(self, in_feats, out_feats, activation):\n",
    "        super(NodeApplyModule, self).__init__()\n",
    "        self.linear = nn.Linear(in_feats, out_feats)\n",
    "        self.activation = activation\n",
    "\n",
    "    def forward(self, node):\n",
    "        h = self.linear(node.data['h'])\n",
    "        h = self.activation(h)\n",
    "        return {'h' : h}\n",
    "\n",
    "class GCN(nn.Module):\n",
    "    def __init__(self, in_feats, out_feats, activation):\n",
    "        super(GCN, self).__init__()\n",
    "        self.apply_mod = NodeApplyModule(in_feats, out_feats, activation)\n",
    "\n",
    "    def forward(self, g, feature):\n",
    "        # Initialize the node features with h.\n",
    "        g.ndata['h'] = feature\n",
    "        g.update_all(msg, reduce)\n",
    "        g.apply_nodes(func=self.apply_mod)\n",
    "        return g.ndata.pop('h')"
   ]
  },
  {
   "cell_type": "markdown",
   "metadata": {},
   "source": [
    "### Readout and classification"
   ]
  },
  {
   "cell_type": "code",
   "execution_count": 169,
   "metadata": {},
   "outputs": [],
   "source": [
    "import torch.nn.functional as F\n",
    "\n",
    "class Classifier(nn.Module):\n",
    "    def __init__(self, in_dim, hidden_dim, n_classes):\n",
    "        super(Classifier, self).__init__()\n",
    "\n",
    "        self.layers = nn.ModuleList([\n",
    "            GCN(in_dim, hidden_dim, F.relu),\n",
    "            GCN(hidden_dim, hidden_dim, F.relu),\n",
    "            GCN(hidden_dim, hidden_dim, F.relu)])\n",
    "        self.classify = nn.Linear(hidden_dim, n_classes)\n",
    "\n",
    "    def forward(self, g):\n",
    "        # For undirected graphs, in_degree is the same as\n",
    "        # out_degree.\n",
    "        h = g.in_degrees().view(-1, 1).float().cuda()\n",
    "        for conv in self.layers:\n",
    "            h = conv(g, h)\n",
    "        g.ndata['h'] = h\n",
    "#         hg = torch.median(h,0).values\n",
    "#         print(hg)\n",
    "        hg = dgl.mean_nodes(g, 'h')\n",
    "        return self.classify(hg)"
   ]
  },
  {
   "cell_type": "markdown",
   "metadata": {},
   "source": [
    "### Setup and training"
   ]
  },
  {
   "cell_type": "code",
   "execution_count": 170,
   "metadata": {},
   "outputs": [],
   "source": [
    "import torch.optim as optim\n",
    "from torch.utils.data import DataLoader"
   ]
  },
  {
   "cell_type": "markdown",
   "metadata": {},
   "source": [
    "### Make Training Results Deterministic"
   ]
  },
  {
   "cell_type": "code",
   "execution_count": 171,
   "metadata": {},
   "outputs": [],
   "source": [
    "# import torch\n",
    "# torch.manual_seed(0)\n",
    "# #CuDNN:\n",
    "# torch.backends.cudnn.deterministic = True\n",
    "# torch.backends.cudnn.benchmark = False"
   ]
  },
  {
   "cell_type": "markdown",
   "metadata": {},
   "source": [
    "## Set Training Epoch"
   ]
  },
  {
   "cell_type": "code",
   "execution_count": 172,
   "metadata": {},
   "outputs": [],
   "source": [
    "training_epoch = 80 #original = 1500 for 1 training sample 500 for 20 samples\n",
    "initial_lr = 0.001"
   ]
  },
  {
   "cell_type": "code",
   "execution_count": 173,
   "metadata": {},
   "outputs": [
    {
     "name": "stdout",
     "output_type": "stream",
     "text": [
      "Epoch 0, loss 1.4678\n",
      "Epoch 1, loss 1.3933\n",
      "Epoch 2, loss 1.3907\n",
      "Epoch 3, loss 1.3821\n",
      "Epoch 4, loss 1.3657\n",
      "Epoch 5, loss 1.3384\n",
      "Epoch 6, loss 1.2773\n",
      "Epoch 7, loss 1.1594\n",
      "Epoch 8, loss 0.9856\n",
      "Epoch 9, loss 0.8461\n",
      "Epoch 10, loss 0.7192\n",
      "Epoch 11, loss 0.6114\n",
      "Epoch 12, loss 0.5396\n",
      "Epoch 13, loss 0.4877\n",
      "Epoch 14, loss 0.4556\n",
      "Epoch 15, loss 0.4344\n",
      "Epoch 16, loss 0.4213\n",
      "Epoch 17, loss 0.4137\n",
      "Epoch 18, loss 0.4096\n",
      "Epoch 19, loss 0.4032\n",
      "Epoch 20, loss 0.3951\n",
      "Epoch 21, loss 0.3836\n",
      "Epoch 22, loss 0.3565\n",
      "Epoch 23, loss 0.3445\n",
      "Epoch 24, loss 0.3447\n",
      "Epoch 25, loss 0.3307\n",
      "Epoch 26, loss 0.3149\n",
      "Epoch 27, loss 0.3060\n",
      "Epoch 28, loss 0.2944\n",
      "Epoch 29, loss 0.2823\n",
      "Epoch 30, loss 0.2688\n",
      "Epoch 31, loss 0.2609\n",
      "Epoch 32, loss 0.2379\n",
      "Epoch 33, loss 0.2334\n",
      "Epoch 34, loss 0.2201\n",
      "Epoch 35, loss 0.2060\n",
      "Epoch 36, loss 0.1884\n",
      "Epoch 37, loss 0.1693\n",
      "Epoch 38, loss 0.1543\n",
      "Epoch 39, loss 0.1419\n",
      "Epoch 40, loss 0.1283\n",
      "Epoch 41, loss 0.1165\n",
      "Epoch 42, loss 0.1062\n",
      "Epoch 43, loss 0.0975\n",
      "Epoch 44, loss 0.0893\n",
      "Epoch 45, loss 0.0820\n",
      "Epoch 46, loss 0.0755\n",
      "Epoch 47, loss 0.0700\n",
      "Epoch 48, loss 0.0652\n",
      "Epoch 49, loss 0.0620\n",
      "Epoch 50, loss 0.0612\n",
      "Epoch 51, loss 0.0609\n",
      "Epoch 52, loss 0.0671\n",
      "Epoch 53, loss 0.2575\n",
      "Epoch 54, loss 0.0426\n",
      "Epoch 55, loss 0.0303\n",
      "Epoch 56, loss 0.0283\n",
      "Epoch 57, loss 0.0268\n",
      "Epoch 58, loss 0.0256\n",
      "Epoch 59, loss 0.0247\n",
      "Epoch 60, loss 0.0243\n",
      "Epoch 61, loss 0.0254\n",
      "Epoch 62, loss 0.0308\n",
      "Epoch 63, loss 0.0210\n",
      "Epoch 64, loss 0.0196\n",
      "Epoch 65, loss 0.0239\n",
      "Epoch 66, loss 0.0156\n",
      "Epoch 67, loss 0.0172\n",
      "Epoch 68, loss 0.0403\n",
      "Epoch 69, loss 0.4723\n",
      "Epoch 70, loss 0.2514\n",
      "Epoch 71, loss 0.0289\n",
      "Epoch 72, loss 0.0141\n",
      "Epoch 73, loss 0.0128\n",
      "Epoch 74, loss 0.0127\n",
      "Epoch 75, loss 0.0115\n",
      "Epoch 76, loss 0.0111\n",
      "Epoch 77, loss 0.0106\n",
      "Epoch 78, loss 0.0104\n",
      "Epoch 79, loss 0.0099\n",
      "Finished training. Training time = 102.3104 Seconds\n"
     ]
    }
   ],
   "source": [
    "# Create model\n",
    "#model = Classifier(1, 256, trainset.num_classes)\n",
    "import time\n",
    "\n",
    "model = Classifier(1, 256, 4)\n",
    "model.cuda()\n",
    "loss_func = nn.CrossEntropyLoss().cuda()\n",
    "optimizer = optim.Adam(model.parameters(), lr = initial_lr)\n",
    "# optimizer = optim.SGD(model.parameters(), lr = initial_lr, momentum=0.9, weight_decay=5e-4)\n",
    "\n",
    "model.train()\n",
    "\n",
    "labels_shuffled = torch.LongTensor(labels_shuffled).cuda()\n",
    "\n",
    "epoch_losses = []\n",
    "\n",
    "#start timer:\n",
    "t0 = time.time()\n",
    "\n",
    "for epoch in range(training_epoch):\n",
    "    model.train()\n",
    "    epoch_loss = 0\n",
    "    for iter, bg in enumerate(trainset_shuffled):\n",
    "        prediction=torch.zeros(1,4,dtype=torch.float64).cuda()\n",
    "        prediction[0] = model(bg)\n",
    "\n",
    "        loss = loss_func(prediction, labels_shuffled[iter])\n",
    "        optimizer.zero_grad()\n",
    "        loss.backward()\n",
    "        optimizer.step()\n",
    "        epoch_loss += loss.detach().item()\n",
    "    epoch_loss /= (iter + 1)\n",
    "    print('Epoch {}, loss {:.4f}'.format(epoch, epoch_loss))\n",
    "    epoch_losses.append(epoch_loss)\n",
    "\n",
    "training_time = time.time() - t0\n",
    "\n",
    "print('Finished training. Training time = {:.4f} Seconds'.format(training_time))\n",
    "\n",
    "#     if (epoch%5==0):\n",
    "#         model.eval()\n",
    "#         eval_bg = dgl.batch(trainset_shuffled)\n",
    "#         eval_labels = torch.tensor(labels_shuffled).float().view(-1, 1)\n",
    "#         probs_Y = torch.softmax(model(eval_bg), 1)\n",
    "#         argmax_Y = torch.max(probs_Y, 1)[1].view(-1, 1)\n",
    "\n",
    "#         print('Accuracy of argmax predictions on the test set: {:4f}%'.format(\n",
    "#             (eval_labels == argmax_Y.float()).sum().item() / len(eval_labels) * 100))"
   ]
  },
  {
   "cell_type": "markdown",
   "metadata": {},
   "source": [
    "### Finish Training"
   ]
  },
  {
   "cell_type": "markdown",
   "metadata": {},
   "source": [
    "### Plot Loss"
   ]
  },
  {
   "cell_type": "code",
   "execution_count": 174,
   "metadata": {},
   "outputs": [
    {
     "data": {
      "image/png": "[encoded data removed]",
      "text/plain": [
       "<Figure size 432x288 with 1 Axes>"
      ]
     },
     "metadata": {
      "needs_background": "light"
     },
     "output_type": "display_data"
    }
   ],
   "source": [
    "plt.title('cross entropy averaged over minibatches')\n",
    "plt.plot(epoch_losses)\n",
    "plt.show()"
   ]
  },
  {
   "cell_type": "code",
   "execution_count": 175,
   "metadata": {},
   "outputs": [
    {
     "name": "stdout",
     "output_type": "stream",
     "text": [
      "torch.Size([256, 1])\n",
      "torch.Size([256, 256])\n"
     ]
    },
    {
     "data": {
      "text/plain": [
       "torch.Size([4, 256])"
      ]
     },
     "execution_count": 175,
     "metadata": {},
     "output_type": "execute_result"
    }
   ],
   "source": [
    "print(model.layers[0].apply_mod.linear.weight.size())\n",
    "print(model.layers[1].apply_mod.linear.weight.size())\n",
    "model.classify.weight.size()"
   ]
  },
  {
   "cell_type": "markdown",
   "metadata": {},
   "source": [
    "### Get Testset data"
   ]
  },
  {
   "cell_type": "code",
   "execution_count": 208,
   "metadata": {},
   "outputs": [],
   "source": [
    "testset = []\n",
    "test_labels = []\n",
    "test_dir = dir\n",
    "\n",
    "testing_idx_1=[]\n",
    "testing_idx_2=[]\n",
    "testing_idx_3=[]\n",
    "testing_idx_4=[]\n",
    "for i in test_idx:\n",
    "    testing_idx_1.append(i)\n",
    "    testing_idx_2.append(i)\n",
    "    testing_idx_3.append(i)\n",
    "    testing_idx_4.append(i)\n",
    "      \n",
    "# print(testing_idx_1)\n",
    "# print(training_idx_1)\n",
    "# print(testing_idx_2)\n",
    "# print(training_idx_2)\n",
    "# print(testing_idx_3)\n",
    "# print(training_idx_3)\n",
    "# print(testing_idx_4)\n",
    "# print(training_idx_4)"
   ]
  },
  {
   "cell_type": "markdown",
   "metadata": {},
   "source": [
    "### Random Sample Nodes and Edges for Testing"
   ]
  },
  {
   "cell_type": "markdown",
   "metadata": {},
   "source": [
    "## Set Percentage Keep"
   ]
  },
  {
   "cell_type": "code",
   "execution_count": 209,
   "metadata": {},
   "outputs": [],
   "source": [
    "pct_keep = 1"
   ]
  },
  {
   "cell_type": "code",
   "execution_count": 210,
   "metadata": {},
   "outputs": [],
   "source": [
    "for idx in range(len(testing_idx_1)):\n",
    "    node_list=[]\n",
    "    edge_list=[]\n",
    "    label_list=[]\n",
    "    node_list2=[]\n",
    "    edge_list2=[]\n",
    "    label_list2=[]\n",
    "    node_list3=[]\n",
    "    edge_list3=[]\n",
    "    label_list3=[]\n",
    "    node_list4=[]\n",
    "    edge_list4=[]\n",
    "    label_list4=[]\n",
    "    for j in [\"node_list\",\"edge_list\",\"graph_label\"]:\n",
    "        filename = \"rca_\"+str(testing_idx_1[idx])+\"bit\"+j+'.csv'\n",
    "        filename2 = \"cla_\"+str(testing_idx_2[idx])+\"bit\"+j+'.csv'\n",
    "        filename3 = \"csa_\"+str(testing_idx_3[idx])+\"bit\"+j+'.csv'\n",
    "        filename4 = \"CSkipA_\"+str(testing_idx_4[idx])+\"bit\"+j+'.csv'\n",
    "        \n",
    "        if(filename.find(\"node_list\")>=0):\n",
    "            with open(test_dir+'/'+filename, 'rt') as fh:\n",
    "                reader=csv.reader(fh)\n",
    "                node_list = list(reader)\n",
    "                \n",
    "        if(filename.find(\"edge_list\")>=0):\n",
    "            with open(test_dir+'/'+filename, 'rt') as fh:\n",
    "                reader=csv.reader(fh)\n",
    "                edge_list = list(reader)\n",
    "        if(filename.find(\"graph_label\")>=0):\n",
    "            with open(test_dir+'/'+filename, 'rt') as fh:\n",
    "                reader=csv.reader(fh)\n",
    "                label_list = list(reader)\n",
    "        if(filename.find(\"gate_type\")>=0):\n",
    "            with open(test_dir+'/'+filename, 'rt') as fh:\n",
    "                reader=csv.reader(fh)\n",
    "                gate_type = list(reader)\n",
    "        \n",
    "        if(filename2.find(\"node_list\")>=0):\n",
    "            with open(test_dir+'/'+filename2, 'rt') as fh:\n",
    "                reader=csv.reader(fh)\n",
    "                node_list2 = list(reader)\n",
    "                \n",
    "        if(filename2.find(\"edge_list\")>=0):\n",
    "            with open(test_dir+'/'+filename2, 'rt') as fh:\n",
    "                reader=csv.reader(fh)\n",
    "                edge_list2 = list(reader)\n",
    "        if(filename2.find(\"graph_label\")>=0):\n",
    "            with open(test_dir+'/'+filename2, 'rt') as fh:\n",
    "                reader=csv.reader(fh)\n",
    "                label_list2 = list(reader)\n",
    "        if(filename2.find(\"gate_type\")>=0):\n",
    "            with open(test_dir+'/'+filename2, 'rt') as fh:\n",
    "                reader=csv.reader(fh)\n",
    "                gate_type2 = list(reader)\n",
    "        if(filename3.find(\"node_list\")>=0):\n",
    "            with open(test_dir+'/'+filename3, 'rt') as fh:\n",
    "                reader=csv.reader(fh)\n",
    "                node_list3 = list(reader)\n",
    "                \n",
    "        if(filename3.find(\"edge_list\")>=0):\n",
    "            with open(test_dir+'/'+filename3, 'rt') as fh:\n",
    "                reader=csv.reader(fh)\n",
    "                edge_list3 = list(reader)\n",
    "        if(filename3.find(\"graph_label\")>=0):\n",
    "            with open(test_dir+'/'+filename3, 'rt') as fh:\n",
    "                reader=csv.reader(fh)\n",
    "                label_list3 = list(reader)\n",
    "        if(filename3.find(\"gate_type\")>=0):\n",
    "            with open(test_dir+'/'+filename3, 'rt') as fh:\n",
    "                reader=csv.reader(fh)\n",
    "                gate_type3 = list(reader)\n",
    "        if(filename4.find(\"node_list\")>=0):\n",
    "            with open(dir+'/'+filename4, 'rt') as fh:\n",
    "                reader=csv.reader(fh)\n",
    "                node_list4 = list(reader)\n",
    "                \n",
    "        if(filename4.find(\"edge_list\")>=0):\n",
    "            with open(dir+'/'+filename4, 'rt') as fh:\n",
    "                reader=csv.reader(fh)\n",
    "                edge_list4 = list(reader)\n",
    "        if(filename4.find(\"graph_label\")>=0):\n",
    "            with open(dir+'/'+filename4, 'rt') as fh:\n",
    "                reader=csv.reader(fh)\n",
    "                label_list4 = list(reader)\n",
    "        if(filename4.find(\"gate_type\")>=0):\n",
    "            with open(dir+'/'+filename4, 'rt') as fh:\n",
    "                reader=csv.reader(fh)\n",
    "                gate_type4 = list(reader)\n",
    "    \n",
    "    #randomly sample edges but keep all nodes\n",
    "    \n",
    "#     node_list_keep = random.sample(node_list,int(len(node_list)*pct_keep))\n",
    "    node_list_keep = node_list\n",
    "    edge_list_keep = random.sample(edge_list,int(len(edge_list)*pct_keep))\n",
    "#     node_list2_keep = random.sample(node_list2,int(len(node_list2)*pct_keep))\n",
    "    node_list2_keep = node_list2\n",
    "    edge_list2_keep = random.sample(edge_list2,int(len(edge_list2)*pct_keep))\n",
    "#     node_list3_keep = random.sample(node_list3,int(len(node_list3)*pct_keep))\n",
    "    node_list3_keep = node_list3\n",
    "    edge_list3_keep = random.sample(edge_list3,int(len(edge_list3)*pct_keep))\n",
    "#     node_list4_keep = random.sample(node_list4,int(len(node_list4)*pct_keep))\n",
    "    node_list4_keep = node_list4\n",
    "    edge_list4_keep = random.sample(edge_list4,int(len(edge_list4)*pct_keep))\n",
    "    \n",
    "    #create dgl graph\n",
    "    g=build_circuit_graph_undirected(node_list_keep,edge_list_keep)\n",
    "    testset.append(g)\n",
    "    test_labels.append(label_list[0])\n",
    "    g2=build_circuit_graph_undirected(node_list2_keep,edge_list2_keep)\n",
    "    testset.append(g2)\n",
    "    test_labels.append(label_list2[0])\n",
    "    g3=build_circuit_graph_undirected(node_list3_keep,edge_list3_keep)\n",
    "    testset.append(g3)\n",
    "    test_labels.append(label_list3[0])\n",
    "    g4=build_circuit_graph_undirected(node_list4_keep,edge_list4_keep)\n",
    "    testset.append(g4)\n",
    "    test_labels.append(label_list4[0])\n",
    "\n",
    "for i in test_labels:\n",
    "    i[0] = int(i[0])\n",
    "\n",
    "# print(test_labels)"
   ]
  },
  {
   "cell_type": "code",
   "execution_count": 211,
   "metadata": {},
   "outputs": [],
   "source": [
    "##apply random shuffle on the testset    \n",
    "np.random.seed(0)\n",
    "randomize = np.arange(len(testset))\n",
    "np.random.shuffle(randomize)\n",
    "testset_shuffled=[]\n",
    "test_labels_shuffled=[]\n",
    "for i in range (len(randomize)):\n",
    "    test_labels_shuffled.append(test_labels[randomize[i]])\n",
    "    testset_shuffled.append(testset[randomize[i]])"
   ]
  },
  {
   "cell_type": "markdown",
   "metadata": {},
   "source": [
    "### Test on Testset"
   ]
  },
  {
   "cell_type": "code",
   "execution_count": 212,
   "metadata": {},
   "outputs": [],
   "source": [
    "# prediction=torch.zeros(len(testset),1,dtype=torch.float64)\n",
    "# for iter, g in enumerate(testset):\n",
    "#         pred = torch.zeros(1,4)\n",
    "#         pred[0] = model(g)\n",
    "#         probs_Y = torch.softmax(pred,1)\n",
    "#         argmax_Y = torch.max(probs_Y, 1)[1].view(-1, 1)\n",
    "#         prediction[iter] = (argmax_Y.item()==test_labels[iter][0])\n",
    "# #         print(probs_Y,argmax_Y.item(),test_labels[iter][0])"
   ]
  },
  {
   "cell_type": "code",
   "execution_count": 213,
   "metadata": {},
   "outputs": [],
   "source": [
    "# print('Accuracy of argmax predictions on the test set: {:.4f}%'.format(\n",
    "#     (prediction.cuda().sum().item() / len(testset)) * 100))"
   ]
  },
  {
   "cell_type": "code",
   "execution_count": 214,
   "metadata": {},
   "outputs": [
    {
     "name": "stdout",
     "output_type": "stream",
     "text": [
      "Accuracy of sampled predictions on the test set: 96.6667%\n",
      "Accuracy of argmax predictions on the test set: 98.3333%\n"
     ]
    }
   ],
   "source": [
    "model.eval()\n",
    "test_bg = dgl.batch(testset_shuffled)\n",
    "test_labels_shuffled = torch.tensor(test_labels_shuffled).float().view(-1, 1).cuda()\n",
    "# print(model(test_bg))\n",
    "probs_Y = torch.softmax(model(test_bg), 1)\n",
    "\n",
    "sampled_Y = torch.multinomial(probs_Y, 1)\n",
    "argmax_Y = torch.max(probs_Y, 1)[1].view(-1, 1)\n",
    "print('Accuracy of sampled predictions on the test set: {:.4f}%'.format(\n",
    "    (test_labels_shuffled == sampled_Y.float()).sum().item() / len(test_labels) * 100))\n",
    "print('Accuracy of argmax predictions on the test set: {:.4f}%'.format(\n",
    "    (test_labels_shuffled == argmax_Y.float()).sum().item() / len(test_labels) * 100))\n",
    "\n",
    "# zip(model(test_bg),(test_labels))\n",
    "# for i1,i2 in zip(probs_Y,(test_labels)):\n",
    "#     print(i1,i2)\n",
    "# print(torch.max(probs_Y, 1))"
   ]
  },
  {
   "cell_type": "markdown",
   "metadata": {},
   "source": [
    "## Finish Testing"
   ]
  },
  {
   "cell_type": "markdown",
   "metadata": {},
   "source": [
    "## Get Error Items"
   ]
  },
  {
   "cell_type": "code",
   "execution_count": 215,
   "metadata": {},
   "outputs": [
    {
     "name": "stdout",
     "output_type": "stream",
     "text": [
      "Total 2 errors out of 120 test data\n",
      "tensor([9.6042e-01, 5.3462e-07, 1.8419e-04, 3.9395e-02], device='cuda:0',\n",
      "       grad_fn=<SelectBackward>) tensor([2.], device='cuda:0')\n",
      "tensor([9.8769e-01, 1.6210e-14, 1.2209e-02, 1.0262e-04], device='cuda:0',\n",
      "       grad_fn=<SelectBackward>) tensor([2.], device='cuda:0')\n"
     ]
    }
   ],
   "source": [
    "error = (test_labels_shuffled != argmax_Y.float()).nonzero()\n",
    "print('Total', len(error),'errors out of',len(test_idx)*4,'test data')\n",
    "for i in error.cpu().numpy():\n",
    "    error_idx= i[0]\n",
    "    print(probs_Y[error_idx],test_labels_shuffled[error_idx])\n",
    "#     print(i[0])"
   ]
  },
  {
   "cell_type": "code",
   "execution_count": 216,
   "metadata": {},
   "outputs": [],
   "source": [
    "test_accuracy = '{:4f}'.format((test_labels_shuffled == argmax_Y.float()).sum().item() / len(test_labels) * 100)"
   ]
  },
  {
   "cell_type": "markdown",
   "metadata": {},
   "source": [
    "## Save Trained Model"
   ]
  },
  {
   "cell_type": "code",
   "execution_count": 217,
   "metadata": {},
   "outputs": [
    {
     "name": "stdout",
     "output_type": "stream",
     "text": [
      "Current Timestamp :  19-May-2020-20:27:30\n"
     ]
    }
   ],
   "source": [
    "from datetime import datetime\n",
    "\n",
    "dateTimeObj = datetime.now()\n",
    " \n",
    "timestampStr = dateTimeObj.strftime(\"%d-%b-%Y-%H:%M:%S\")\n",
    " \n",
    "print('Current Timestamp : ', timestampStr)"
   ]
  },
  {
   "cell_type": "code",
   "execution_count": 218,
   "metadata": {},
   "outputs": [
    {
     "data": {
      "text/plain": [
       "'4-class-model_10-samples_80-epoch_acc-98.333333_2-errs_19-May-2020-20:27:30'"
      ]
     },
     "execution_count": 218,
     "metadata": {},
     "output_type": "execute_result"
    }
   ],
   "source": [
    "'4-class-model_{}-samples_{}-epoch_acc-'.format(sample_size,training_epoch)+test_accuracy+'_'+'{}-errs_'.format(len(error))+timestampStr\n"
   ]
  },
  {
   "cell_type": "code",
   "execution_count": 219,
   "metadata": {},
   "outputs": [],
   "source": [
    "#set model name:\n",
    "model_name = '4-class-model_{}-samples_{}-epoch_acc-'.format(sample_size,training_epoch)+test_accuracy+'_'+'{}-errs_'.format(len(error))+timestampStr\n",
    "\n",
    "SAVE_PATH = '/home/gpu-user-02/hdd/LT-user/Adder_Classification/main/models/' + model_name\n",
    "torch.save(model.state_dict(), SAVE_PATH)"
   ]
  },
  {
   "cell_type": "markdown",
   "metadata": {},
   "source": [
    "## Load Model"
   ]
  },
  {
   "cell_type": "code",
   "execution_count": 220,
   "metadata": {},
   "outputs": [
    {
     "data": {
      "text/plain": [
       "Classifier(\n",
       "  (layers): ModuleList(\n",
       "    (0): GCN(\n",
       "      (apply_mod): NodeApplyModule(\n",
       "        (linear): Linear(in_features=1, out_features=256, bias=True)\n",
       "      )\n",
       "    )\n",
       "    (1): GCN(\n",
       "      (apply_mod): NodeApplyModule(\n",
       "        (linear): Linear(in_features=256, out_features=256, bias=True)\n",
       "      )\n",
       "    )\n",
       "    (2): GCN(\n",
       "      (apply_mod): NodeApplyModule(\n",
       "        (linear): Linear(in_features=256, out_features=256, bias=True)\n",
       "      )\n",
       "    )\n",
       "  )\n",
       "  (classify): Linear(in_features=256, out_features=4, bias=True)\n",
       ")"
      ]
     },
     "execution_count": 220,
     "metadata": {},
     "output_type": "execute_result"
    }
   ],
   "source": [
    "# model_name = '4class_1Sample_97.580645_0411'\n",
    "\n",
    "SAVE_PATH = '/home/gpu-user-02/hdd/LT-user/Adder_Classification/main/models/' + model_name\n",
    "model = Classifier(1, 256, 4)\n",
    "model.load_state_dict(torch.load(SAVE_PATH))\n",
    "model.cuda()\n",
    "model.eval()"
   ]
  },
  {
   "cell_type": "code",
   "execution_count": 221,
   "metadata": {},
   "outputs": [],
   "source": [
    "# (test_labels != argmax_Y.float()).nonzero()"
   ]
  },
  {
   "cell_type": "markdown",
   "metadata": {},
   "source": [
    "## Visualize Activations"
   ]
  },
  {
   "cell_type": "code",
   "execution_count": 222,
   "metadata": {},
   "outputs": [],
   "source": [
    "GCN1_act = []\n",
    "GCN2_act = []\n",
    "graph_emb = []\n",
    "final_class = []\n",
    "\n",
    "def get_activation_1(self,input,output):\n",
    "#     print(output.size())\n",
    "    GCN1_act.append(output.data.cpu().numpy())\n",
    "    \n",
    "def get_activation_2(self,input,output):\n",
    "#     print(output.size())\n",
    "    GCN2_act.append(output.data.cpu().numpy())\n",
    "    \n",
    "def get_activation_3(self,input,output):\n",
    "#     print(output.size())\n",
    "    graph_emb.append(input[0].cpu().detach().numpy())\n",
    "    final_class.append(output.data.cpu().numpy())"
   ]
  },
  {
   "cell_type": "code",
   "execution_count": 223,
   "metadata": {},
   "outputs": [],
   "source": [
    "h1 = model.layers[0].register_forward_hook(get_activation_1)\n",
    "h2 = model.layers[1].register_forward_hook(get_activation_2)\n",
    "h3 = model.classify.register_forward_hook(get_activation_3)\n",
    "\n",
    "for i in range(len(testset)):\n",
    "    out = model(testset[i])"
   ]
  },
  {
   "cell_type": "code",
   "execution_count": 224,
   "metadata": {},
   "outputs": [
    {
     "data": {
      "text/plain": [
       "(120, 120, 120, 120)"
      ]
     },
     "execution_count": 224,
     "metadata": {},
     "output_type": "execute_result"
    }
   ],
   "source": [
    "len(GCN1_act),len(GCN2_act),len(graph_emb),len(final_class)"
   ]
  },
  {
   "cell_type": "code",
   "execution_count": 225,
   "metadata": {},
   "outputs": [],
   "source": [
    "GCN1_act_vis_ls = []\n",
    "GCN2_act_vis_ls = []\n",
    "graph_emb_vis_ls = []\n",
    "final_class_vis_ls = []\n",
    "\n",
    "for i in range(len(GCN1_act)):\n",
    "    GCN1_act_vis_ls.append(np.expand_dims(np.mean(GCN1_act[i],axis=0),axis=0))\n",
    "    GCN2_act_vis_ls.append(np.expand_dims(np.mean(GCN2_act[i],axis=0),axis=0))\n",
    "    graph_emb_vis_ls.append(np.expand_dims(graph_emb[i],axis=0))\n",
    "    final_class_vis_ls.append(np.expand_dims(final_class[i],axis=0))"
   ]
  },
  {
   "cell_type": "code",
   "execution_count": 226,
   "metadata": {},
   "outputs": [],
   "source": [
    "GCN1_act_vis = np.concatenate(GCN1_act_vis_ls, axis=0)\n",
    "GCN2_act_vis = np.concatenate(GCN2_act_vis_ls, axis=0)\n",
    "graph_emb_vis = np.concatenate(graph_emb_vis_ls, axis=0)\n",
    "final_class_vis = np.concatenate(final_class_vis_ls, axis=0)"
   ]
  },
  {
   "cell_type": "code",
   "execution_count": 227,
   "metadata": {},
   "outputs": [
    {
     "data": {
      "text/plain": [
       "((120, 256), (120, 256), (120, 1, 256), (120, 1, 4))"
      ]
     },
     "execution_count": 227,
     "metadata": {},
     "output_type": "execute_result"
    }
   ],
   "source": [
    "GCN1_act_vis.shape,GCN2_act_vis.shape,graph_emb_vis.shape,final_class_vis.shape"
   ]
  },
  {
   "cell_type": "code",
   "execution_count": 228,
   "metadata": {},
   "outputs": [],
   "source": [
    "# GCN1_act[0].size(),GCN2_act[0].size(),graph_emb[0].size(),final_class[0]"
   ]
  },
  {
   "cell_type": "code",
   "execution_count": 231,
   "metadata": {},
   "outputs": [
    {
     "name": "stdout",
     "output_type": "stream",
     "text": [
      "Preprocessing the data using PCA...\n",
      "Computing pairwise distances...\n",
      "Computing P-values for point 0 of 120...\n",
      "Mean value of sigma: 0.739457\n",
      "Iteration 10: error is 9.447112\n",
      "Iteration 20: error is 7.888162\n",
      "Iteration 30: error is 9.545093\n",
      "Iteration 40: error is 8.854505\n",
      "Iteration 50: error is 8.722741\n",
      "Iteration 60: error is 8.359748\n",
      "Iteration 70: error is 8.319552\n",
      "Iteration 80: error is 8.186769\n",
      "Iteration 90: error is 8.292835\n",
      "Iteration 100: error is 8.313299\n",
      "Iteration 110: error is 0.828865\n",
      "Iteration 120: error is 0.407720\n",
      "Iteration 130: error is 0.177043\n",
      "Iteration 140: error is 0.083885\n",
      "Iteration 150: error is 0.058700\n",
      "Iteration 160: error is 0.054606\n",
      "Iteration 170: error is 0.052554\n",
      "Iteration 180: error is 0.051172\n",
      "Iteration 190: error is 0.049930\n",
      "Iteration 200: error is 0.049157\n",
      "Iteration 210: error is 0.048727\n",
      "Iteration 220: error is 0.048501\n",
      "Iteration 230: error is 0.048392\n",
      "Iteration 240: error is 0.048299\n",
      "Iteration 250: error is 0.048191\n",
      "Iteration 260: error is 0.048104\n",
      "Iteration 270: error is 0.048027\n",
      "Iteration 280: error is 0.047939\n",
      "Iteration 290: error is 0.047865\n",
      "Iteration 300: error is 0.047798\n",
      "Iteration 310: error is 0.047729\n",
      "Iteration 320: error is 0.047665\n",
      "Iteration 330: error is 0.047607\n",
      "Iteration 340: error is 0.047551\n",
      "Iteration 350: error is 0.047498\n",
      "Iteration 360: error is 0.047448\n",
      "Iteration 370: error is 0.047407\n",
      "Iteration 380: error is 0.047377\n",
      "Iteration 390: error is 0.047340\n",
      "Iteration 400: error is 0.047300\n",
      "Iteration 410: error is 0.047265\n",
      "Iteration 420: error is 0.047241\n",
      "Iteration 430: error is 0.047214\n",
      "Iteration 440: error is 0.047180\n",
      "Iteration 450: error is 0.047151\n",
      "Iteration 460: error is 0.047121\n",
      "Iteration 470: error is 0.047091\n",
      "Iteration 480: error is 0.047063\n",
      "Iteration 490: error is 0.047036\n",
      "Iteration 500: error is 0.047010\n",
      "Iteration 510: error is 0.046986\n",
      "Iteration 520: error is 0.046963\n",
      "Iteration 530: error is 0.046941\n",
      "Iteration 540: error is 0.046919\n",
      "Iteration 550: error is 0.046898\n",
      "Iteration 560: error is 0.046878\n",
      "Iteration 570: error is 0.046860\n",
      "Iteration 580: error is 0.046842\n",
      "Iteration 590: error is 0.046825\n",
      "Iteration 600: error is 0.046808\n",
      "Iteration 610: error is 0.046792\n",
      "Iteration 620: error is 0.046776\n",
      "Iteration 630: error is 0.046761\n",
      "Iteration 640: error is 0.046746\n",
      "Iteration 650: error is 0.046732\n",
      "Iteration 660: error is 0.046718\n",
      "Iteration 670: error is 0.046705\n",
      "Iteration 680: error is 0.046692\n",
      "Iteration 690: error is 0.046680\n",
      "Iteration 700: error is 0.046668\n",
      "Iteration 710: error is 0.046656\n",
      "Iteration 720: error is 0.046645\n",
      "Iteration 730: error is 0.046633\n",
      "Iteration 740: error is 0.046623\n",
      "Iteration 750: error is 0.046612\n",
      "Iteration 760: error is 0.046602\n",
      "Iteration 770: error is 0.046592\n",
      "Iteration 780: error is 0.046582\n",
      "Iteration 790: error is 0.046572\n",
      "Iteration 800: error is 0.046564\n",
      "Iteration 810: error is 0.046556\n",
      "Iteration 820: error is 0.046547\n",
      "Iteration 830: error is 0.046539\n",
      "Iteration 840: error is 0.046531\n",
      "Iteration 850: error is 0.046522\n",
      "Iteration 860: error is 0.046515\n",
      "Iteration 870: error is 0.046507\n",
      "Iteration 880: error is 0.046499\n",
      "Iteration 890: error is 0.046492\n",
      "Iteration 900: error is 0.046484\n",
      "Iteration 910: error is 0.046477\n",
      "Iteration 920: error is 0.046470\n",
      "Iteration 930: error is 0.046463\n",
      "Iteration 940: error is 0.046456\n",
      "Iteration 950: error is 0.046451\n",
      "Iteration 960: error is 0.046445\n",
      "Iteration 970: error is 0.046439\n",
      "Iteration 980: error is 0.046433\n",
      "Iteration 990: error is 0.046426\n",
      "Iteration 1000: error is 0.046422\n",
      "Preprocessing the data using PCA...\n",
      "Computing pairwise distances...\n",
      "Computing P-values for point 0 of 120...\n",
      "Mean value of sigma: 0.411781\n",
      "Iteration 10: error is 10.034183\n",
      "Iteration 20: error is 7.655691\n",
      "Iteration 30: error is 9.483553\n",
      "Iteration 40: error is 9.221024\n",
      "Iteration 50: error is 8.435872\n",
      "Iteration 60: error is 8.802649\n",
      "Iteration 70: error is 8.424351\n",
      "Iteration 80: error is 8.050150\n",
      "Iteration 90: error is 8.217551\n",
      "Iteration 100: error is 7.858679\n",
      "Iteration 110: error is 0.939374\n",
      "Iteration 120: error is 0.527388\n",
      "Iteration 130: error is 0.193238\n",
      "Iteration 140: error is 0.102555\n",
      "Iteration 150: error is 0.079659\n",
      "Iteration 160: error is 0.070925\n",
      "Iteration 170: error is 0.065090\n",
      "Iteration 180: error is 0.058408\n",
      "Iteration 190: error is 0.054153\n",
      "Iteration 200: error is 0.050050\n",
      "Iteration 210: error is 0.046999\n",
      "Iteration 220: error is 0.046025\n",
      "Iteration 230: error is 0.045938\n",
      "Iteration 240: error is 0.045862\n",
      "Iteration 250: error is 0.045788\n",
      "Iteration 260: error is 0.045739\n",
      "Iteration 270: error is 0.045690\n",
      "Iteration 280: error is 0.045639\n",
      "Iteration 290: error is 0.045590\n",
      "Iteration 300: error is 0.045545\n",
      "Iteration 310: error is 0.045503\n",
      "Iteration 320: error is 0.045463\n",
      "Iteration 330: error is 0.045424\n",
      "Iteration 340: error is 0.045389\n",
      "Iteration 350: error is 0.045351\n",
      "Iteration 360: error is 0.045320\n",
      "Iteration 370: error is 0.045293\n",
      "Iteration 380: error is 0.045263\n",
      "Iteration 390: error is 0.045235\n",
      "Iteration 400: error is 0.045209\n",
      "Iteration 410: error is 0.045182\n",
      "Iteration 420: error is 0.045159\n",
      "Iteration 430: error is 0.045135\n",
      "Iteration 440: error is 0.045112\n",
      "Iteration 450: error is 0.045091\n",
      "Iteration 460: error is 0.045070\n",
      "Iteration 470: error is 0.045049\n",
      "Iteration 480: error is 0.045029\n",
      "Iteration 490: error is 0.045011\n",
      "Iteration 500: error is 0.044994\n",
      "Iteration 510: error is 0.044976\n",
      "Iteration 520: error is 0.044959\n",
      "Iteration 530: error is 0.044943\n",
      "Iteration 540: error is 0.044927\n",
      "Iteration 550: error is 0.044911\n",
      "Iteration 560: error is 0.044897\n",
      "Iteration 570: error is 0.044882\n",
      "Iteration 580: error is 0.044868\n",
      "Iteration 590: error is 0.044855\n",
      "Iteration 600: error is 0.044842\n",
      "Iteration 610: error is 0.044828\n",
      "Iteration 620: error is 0.044817\n",
      "Iteration 630: error is 0.044807\n",
      "Iteration 640: error is 0.044794\n",
      "Iteration 650: error is 0.044784\n",
      "Iteration 660: error is 0.044774\n",
      "Iteration 670: error is 0.044764\n",
      "Iteration 680: error is 0.044753\n",
      "Iteration 690: error is 0.044743\n",
      "Iteration 700: error is 0.044733\n",
      "Iteration 710: error is 0.044723\n",
      "Iteration 720: error is 0.044713\n",
      "Iteration 730: error is 0.044704\n",
      "Iteration 740: error is 0.044695\n",
      "Iteration 750: error is 0.044686\n",
      "Iteration 760: error is 0.044677\n",
      "Iteration 770: error is 0.044668\n",
      "Iteration 780: error is 0.044660\n",
      "Iteration 790: error is 0.044652\n",
      "Iteration 800: error is 0.044645\n",
      "Iteration 810: error is 0.044635\n",
      "Iteration 820: error is 0.044629\n",
      "Iteration 830: error is 0.044623\n",
      "Iteration 840: error is 0.044615\n",
      "Iteration 850: error is 0.044608\n",
      "Iteration 860: error is 0.044601\n",
      "Iteration 870: error is 0.044594\n",
      "Iteration 880: error is 0.044588\n",
      "Iteration 890: error is 0.044581\n",
      "Iteration 900: error is 0.044575\n",
      "Iteration 910: error is 0.044568\n",
      "Iteration 920: error is 0.044562\n",
      "Iteration 930: error is 0.044555\n",
      "Iteration 940: error is 0.044551\n",
      "Iteration 950: error is 0.044546\n",
      "Iteration 960: error is 0.044539\n",
      "Iteration 970: error is 0.044534\n",
      "Iteration 980: error is 0.044530\n",
      "Iteration 990: error is 0.044525\n",
      "Iteration 1000: error is 0.044519\n",
      "Preprocessing the data using PCA...\n",
      "Computing pairwise distances...\n",
      "Computing P-values for point 0 of 120...\n",
      "Mean value of sigma: 3.511167\n",
      "Iteration 10: error is 9.517996\n",
      "Iteration 20: error is 7.959102\n",
      "Iteration 30: error is 8.755174\n",
      "Iteration 40: error is 7.906629\n",
      "Iteration 50: error is 7.981089\n",
      "Iteration 60: error is 7.827004\n",
      "Iteration 70: error is 7.571396\n",
      "Iteration 80: error is 7.717257\n",
      "Iteration 90: error is 7.602173\n",
      "Iteration 100: error is 7.500086\n",
      "Iteration 110: error is 0.968485\n",
      "Iteration 120: error is 0.617365\n",
      "Iteration 130: error is 0.315087\n",
      "Iteration 140: error is 0.128557\n",
      "Iteration 150: error is 0.091478\n",
      "Iteration 160: error is 0.080048\n",
      "Iteration 170: error is 0.074326\n",
      "Iteration 180: error is 0.069056\n",
      "Iteration 190: error is 0.064867\n",
      "Iteration 200: error is 0.061401\n",
      "Iteration 210: error is 0.058298\n",
      "Iteration 220: error is 0.056602\n",
      "Iteration 230: error is 0.056225\n",
      "Iteration 240: error is 0.056159\n",
      "Iteration 250: error is 0.056102\n",
      "Iteration 260: error is 0.056045\n",
      "Iteration 270: error is 0.055990\n",
      "Iteration 280: error is 0.055935\n",
      "Iteration 290: error is 0.055871\n",
      "Iteration 300: error is 0.055809\n",
      "Iteration 310: error is 0.055752\n",
      "Iteration 320: error is 0.055693\n",
      "Iteration 330: error is 0.055639\n",
      "Iteration 340: error is 0.055580\n",
      "Iteration 350: error is 0.055527\n",
      "Iteration 360: error is 0.055473\n",
      "Iteration 370: error is 0.055415\n",
      "Iteration 380: error is 0.055358\n",
      "Iteration 390: error is 0.055308\n",
      "Iteration 400: error is 0.055255\n",
      "Iteration 410: error is 0.055201\n",
      "Iteration 420: error is 0.055145\n",
      "Iteration 430: error is 0.055090\n",
      "Iteration 440: error is 0.055039\n",
      "Iteration 450: error is 0.054991\n",
      "Iteration 460: error is 0.054947\n",
      "Iteration 470: error is 0.054906\n",
      "Iteration 480: error is 0.054868\n",
      "Iteration 490: error is 0.054832\n",
      "Iteration 500: error is 0.054796\n",
      "Iteration 510: error is 0.054766\n",
      "Iteration 520: error is 0.054738\n",
      "Iteration 530: error is 0.054712\n",
      "Iteration 540: error is 0.054688\n",
      "Iteration 550: error is 0.054665\n",
      "Iteration 560: error is 0.054646\n",
      "Iteration 570: error is 0.054628\n",
      "Iteration 580: error is 0.054610\n",
      "Iteration 590: error is 0.054593\n",
      "Iteration 600: error is 0.054578\n",
      "Iteration 610: error is 0.054563\n",
      "Iteration 620: error is 0.054548\n",
      "Iteration 630: error is 0.054535\n",
      "Iteration 640: error is 0.054523\n",
      "Iteration 650: error is 0.054510\n",
      "Iteration 660: error is 0.054500\n",
      "Iteration 670: error is 0.054489\n",
      "Iteration 680: error is 0.054479\n",
      "Iteration 690: error is 0.054469\n",
      "Iteration 700: error is 0.054460\n",
      "Iteration 710: error is 0.054451\n",
      "Iteration 720: error is 0.054443\n",
      "Iteration 730: error is 0.054434\n",
      "Iteration 740: error is 0.054427\n",
      "Iteration 750: error is 0.054420\n",
      "Iteration 760: error is 0.054412\n",
      "Iteration 770: error is 0.054405\n",
      "Iteration 780: error is 0.054399\n",
      "Iteration 790: error is 0.054392\n",
      "Iteration 800: error is 0.054386\n",
      "Iteration 810: error is 0.054380\n",
      "Iteration 820: error is 0.054374\n",
      "Iteration 830: error is 0.054369\n",
      "Iteration 840: error is 0.054363\n",
      "Iteration 850: error is 0.054358\n",
      "Iteration 860: error is 0.054353\n",
      "Iteration 870: error is 0.054348\n",
      "Iteration 880: error is 0.054344\n",
      "Iteration 890: error is 0.054340\n",
      "Iteration 900: error is 0.054335\n",
      "Iteration 910: error is 0.054332\n",
      "Iteration 920: error is 0.054328\n",
      "Iteration 930: error is 0.054324\n",
      "Iteration 940: error is 0.054320\n",
      "Iteration 950: error is 0.054317\n",
      "Iteration 960: error is 0.054313\n",
      "Iteration 970: error is 0.054310\n",
      "Iteration 980: error is 0.054306\n",
      "Iteration 990: error is 0.054303\n",
      "Iteration 1000: error is 0.054300\n",
      "Preprocessing the data using PCA...\n",
      "Computing pairwise distances...\n",
      "Computing P-values for point 0 of 120...\n",
      "Mean value of sigma: 16.359097\n",
      "Iteration 10: error is 9.225264\n",
      "Iteration 20: error is 7.998340\n",
      "Iteration 30: error is 9.342153\n",
      "Iteration 40: error is 7.756701\n",
      "Iteration 50: error is 7.741977\n",
      "Iteration 60: error is 7.790398\n",
      "Iteration 70: error is 8.376535\n",
      "Iteration 80: error is 7.926998\n",
      "Iteration 90: error is 7.969443\n",
      "Iteration 100: error is 7.852060\n",
      "Iteration 110: error is 0.874198\n",
      "Iteration 120: error is 0.400828\n",
      "Iteration 130: error is 0.131276\n",
      "Iteration 140: error is 0.087497\n",
      "Iteration 150: error is 0.071613\n",
      "Iteration 160: error is 0.067863\n",
      "Iteration 170: error is 0.065152\n",
      "Iteration 180: error is 0.062130\n",
      "Iteration 190: error is 0.058936\n",
      "Iteration 200: error is 0.057354\n",
      "Iteration 210: error is 0.057048\n",
      "Iteration 220: error is 0.056992\n",
      "Iteration 230: error is 0.056952\n",
      "Iteration 240: error is 0.056910\n",
      "Iteration 250: error is 0.056869\n",
      "Iteration 260: error is 0.056834\n",
      "Iteration 270: error is 0.056802\n",
      "Iteration 280: error is 0.056770\n",
      "Iteration 290: error is 0.056740\n",
      "Iteration 300: error is 0.056713\n",
      "Iteration 310: error is 0.056687\n",
      "Iteration 320: error is 0.056662\n",
      "Iteration 330: error is 0.056640\n",
      "Iteration 340: error is 0.056621\n",
      "Iteration 350: error is 0.056601\n",
      "Iteration 360: error is 0.056583\n",
      "Iteration 370: error is 0.056566\n",
      "Iteration 380: error is 0.056548\n",
      "Iteration 390: error is 0.056533\n",
      "Iteration 400: error is 0.056518\n",
      "Iteration 410: error is 0.056503\n",
      "Iteration 420: error is 0.056489\n",
      "Iteration 430: error is 0.056476\n",
      "Iteration 440: error is 0.056464\n",
      "Iteration 450: error is 0.056452\n",
      "Iteration 460: error is 0.056441\n",
      "Iteration 470: error is 0.056431\n",
      "Iteration 480: error is 0.056421\n",
      "Iteration 490: error is 0.056412\n",
      "Iteration 500: error is 0.056403\n",
      "Iteration 510: error is 0.056394\n",
      "Iteration 520: error is 0.056386\n",
      "Iteration 530: error is 0.056380\n",
      "Iteration 540: error is 0.056373\n",
      "Iteration 550: error is 0.056366\n",
      "Iteration 560: error is 0.056360\n",
      "Iteration 570: error is 0.056354\n",
      "Iteration 580: error is 0.056348\n",
      "Iteration 590: error is 0.056343\n",
      "Iteration 600: error is 0.056338\n",
      "Iteration 610: error is 0.056333\n",
      "Iteration 620: error is 0.056329\n",
      "Iteration 630: error is 0.056325\n",
      "Iteration 640: error is 0.056321\n",
      "Iteration 650: error is 0.056317\n",
      "Iteration 660: error is 0.056314\n",
      "Iteration 670: error is 0.056310\n",
      "Iteration 680: error is 0.056307\n",
      "Iteration 690: error is 0.056304\n",
      "Iteration 700: error is 0.056301\n",
      "Iteration 710: error is 0.056299\n",
      "Iteration 720: error is 0.056296\n",
      "Iteration 730: error is 0.056294\n",
      "Iteration 740: error is 0.056291\n",
      "Iteration 750: error is 0.056289\n",
      "Iteration 760: error is 0.056287\n",
      "Iteration 770: error is 0.056285\n",
      "Iteration 780: error is 0.056283\n",
      "Iteration 790: error is 0.056281\n",
      "Iteration 800: error is 0.056280\n",
      "Iteration 810: error is 0.056278\n",
      "Iteration 820: error is 0.056277\n",
      "Iteration 830: error is 0.056275\n",
      "Iteration 840: error is 0.056274\n",
      "Iteration 850: error is 0.056273\n",
      "Iteration 860: error is 0.056272\n",
      "Iteration 870: error is 0.056271\n",
      "Iteration 880: error is 0.056270\n",
      "Iteration 890: error is 0.056269\n",
      "Iteration 900: error is 0.056268\n",
      "Iteration 910: error is 0.056267\n",
      "Iteration 920: error is 0.056266\n",
      "Iteration 930: error is 0.056265\n",
      "Iteration 940: error is 0.056264\n",
      "Iteration 950: error is 0.056264\n",
      "Iteration 960: error is 0.056263\n",
      "Iteration 970: error is 0.056263\n",
      "Iteration 980: error is 0.056262\n",
      "Iteration 990: error is 0.056261\n",
      "Iteration 1000: error is 0.056261\n"
     ]
    }
   ],
   "source": [
    "import tsne\n",
    "vis1 = tsne.tsne(GCN1_act_vis, 2, 30)\n",
    "vis2 = tsne.tsne(GCN2_act_vis, 2, 30)\n",
    "vis3 = tsne.tsne(graph_emb_vis[:,0,:], 2, 30)\n",
    "vis4 = tsne.tsne(final_class_vis[:,0,:], 2, 30)"
   ]
  },
  {
   "cell_type": "code",
   "execution_count": 232,
   "metadata": {},
   "outputs": [
    {
     "data": {
      "image/png": "[encoded data removed]",
      "text/plain": [
       "<Figure size 1080x1080 with 4 Axes>"
      ]
     },
     "metadata": {
      "needs_background": "light"
     },
     "output_type": "display_data"
    }
   ],
   "source": [
    "fig, axs = plt.subplots(2,2,figsize=(15,15))\n",
    "\n",
    "# color = test_labels.cpu()*85/255\n",
    "\n",
    "#class 0: cla 'green'\n",
    "#class 1: rca 'red'\n",
    "#class 2: csla 'blue'\n",
    "#class 3: cska 'gold'\n",
    "\n",
    "color = []\n",
    "# marker = []\n",
    "\n",
    "for i in range(len(test_labels)):\n",
    "    if test_labels[i] == [0]:\n",
    "        color.append('green')\n",
    "#         marker.append('.')\n",
    "    if test_labels[i] == [1]:\n",
    "        color.append('red')\n",
    "#         marker.append('^')\n",
    "    if test_labels[i] == [2]:\n",
    "        color.append('blue')\n",
    "#         marker.append('v')\n",
    "    if test_labels[i] == [3]:\n",
    "        color.append('gold')\n",
    "#         marker.append('s')\n",
    "\n",
    "axs[0,0].set_title('GCN1')\n",
    "axs[0,1].set_title('GCN2')\n",
    "axs[1,0].set_title('Graph_emb')\n",
    "axs[1,1].set_title('Final_class')\n",
    "for i in range (len(test_labels)):\n",
    "#     axs[0,0].scatter(vis1[i,0],vis1[i,1],color=(0,color[i],0))\n",
    "#     axs[0,1].scatter(vis2[i,0],vis2[i,1],color=(0,color[i],0))\n",
    "#     axs[1,0].scatter(vis3[i,0],vis3[i,1],color=(0,color[i],0))\n",
    "#     axs[1,1].scatter(vis4[i,0],vis4[i,1],color=(0,color[i],0))\n",
    "    axs[0,0].scatter(vis1[i,0],vis1[i,1],color=color[i])\n",
    "    axs[0,1].scatter(vis2[i,0],vis2[i,1],color=color[i])\n",
    "    axs[1,0].scatter(vis3[i,0],vis3[i,1],color=color[i])\n",
    "    axs[1,1].scatter(vis4[i,0],vis4[i,1],color=color[i])\n",
    "#     axs[0,0].scatter(vis1[i,0],vis1[i,1],color=color[i],marker=marker[i])\n",
    "#     axs[0,1].scatter(vis2[i,0],vis2[i,1],color=color[i],marker=marker[i])\n",
    "#     axs[1,0].scatter(vis3[i,0],vis3[i,1],color=color[i],marker=marker[i])\n",
    "#     axs[1,1].scatter(vis4[i,0],vis4[i,1],color=color[i],marker=marker[i])\n",
    "\n",
    "plt.show()"
   ]
  },
  {
   "cell_type": "markdown",
   "metadata": {},
   "source": [
    "## End"
   ]
  }
 ],
 "metadata": {
  "kernelspec": {
   "display_name": "pytorch",
   "language": "python",
   "name": "pytorch"
  },
  "language_info": {
   "codemirror_mode": {
    "name": "ipython",
    "version": 3
   },
   "file_extension": ".py",
   "mimetype": "text/x-python",
   "name": "python",
   "nbconvert_exporter": "python",
   "pygments_lexer": "ipython3",
   "version": "3.8.2"
  },
  "toc": {
   "base_numbering": 1,
   "nav_menu": {},
   "number_sections": false,
   "sideBar": true,
   "skip_h1_title": false,
   "title_cell": "Table of Contents",
   "title_sidebar": "Contents",
   "toc_cell": false,
   "toc_position": {
    "height": "calc(100% - 180px)",
    "left": "10px",
    "top": "150px",
    "width": "266.818px"
   },
   "toc_section_display": true,
   "toc_window_display": true
  }
 },
 "nbformat": 4,
 "nbformat_minor": 4
}
