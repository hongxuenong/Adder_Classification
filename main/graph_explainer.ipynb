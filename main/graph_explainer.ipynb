{
 "cells": [
  {
   "cell_type": "code",
   "execution_count": 1,
   "metadata": {},
   "outputs": [],
   "source": [
    "%matplotlib inline"
   ]
  },
  {
   "cell_type": "markdown",
   "metadata": {},
   "source": [
    "## Setup GPU Device"
   ]
  },
  {
   "cell_type": "code",
   "execution_count": 2,
   "metadata": {},
   "outputs": [
    {
     "name": "stderr",
     "output_type": "stream",
     "text": [
      "Using backend: pytorch\n"
     ]
    }
   ],
   "source": [
    "import random\n",
    "import os\n",
    "import matplotlib.pyplot as plt\n",
    "import networkx as nx\n",
    "import csv\n",
    "import numpy as np\n",
    "\n",
    "import dgl\n",
    "import dgl.function as fn\n",
    "import torch\n",
    "import torch.nn as nn\n",
    "import torch.nn.functional as F\n",
    "import torch.optim as optim\n",
    "from torch.utils.data import DataLoader\n",
    "import torch\n",
    "from torch_geometric.data import InMemoryDataset\n",
    "from torch_geometric.nn import GCNConv,GATConv\n",
    "from gnnexplainer import GNNExplainer\n",
    "\n",
    "\n",
    "\n",
    "def collate(samples):\n",
    "    # The input `samples` is a list of pairs\n",
    "    #  (graph, label).\n",
    "    graphs, labels = map(list, zip(*samples))\n",
    "    batched_graph = dgl.batch(graphs)\n",
    "    return batched_graph, torch.tensor(labels)\n",
    "\n",
    "        \n",
    "def reduce(nodes):\n",
    "    \"\"\"Take an average over all neighbor node features hu and use it to\n",
    "    overwrite the original node feature.\"\"\"\n",
    "    accum = torch.mean(nodes.mailbox['m'], 1)\n",
    "    return {'h': accum}\n",
    "\n",
    "class NodeApplyModule(nn.Module):\n",
    "    \"\"\"Update the node feature hv with ReLU(Whv+b).\"\"\"\n",
    "    def __init__(self, in_feats, out_feats, activation):\n",
    "        super(NodeApplyModule, self).__init__()\n",
    "        self.linear = nn.Linear(in_feats, out_feats)\n",
    "        self.activation = activation\n",
    "\n",
    "    def forward(self, node):\n",
    "        h = self.linear(node.data['h'])\n",
    "        h = self.activation(h)\n",
    "        return {'h' : h}\n",
    "\n",
    "class GCN(nn.Module):\n",
    "    def __init__(self, in_feats, out_feats, activation):\n",
    "        super(GCN, self).__init__()\n",
    "        self.apply_mod = NodeApplyModule(in_feats, out_feats, activation)\n",
    "\n",
    "    def forward(self, g, feature):\n",
    "        # Initialize the node features with h.\n",
    "        g.ndata['h'] = feature\n",
    "        g.update_all(msg, reduce)\n",
    "        g.apply_nodes(func=self.apply_mod)\n",
    "        return g.ndata.pop('h')\n",
    "    \n",
    "class PYGNet(torch.nn.Module):\n",
    "    def __init__(self,in_dim, hidden_dim, n_classes):\n",
    "        super(PYGNet, self).__init__()\n",
    "#         self.lin = Sequential(Linear(10, 10))\n",
    "        self.conv1 = GCNConv(in_dim, hidden_dim)\n",
    "        self.conv2 = GCNConv(hidden_dim, hidden_dim)\n",
    "        self.classify = nn.Linear(hidden_dim, n_classes)\n",
    "\n",
    "    def forward(self, x, edge_index):\n",
    "        x = F.relu(self.conv1(x, edge_index))\n",
    "#         x = F.dropout(x, training=self.training)\n",
    "        x = F.relu(self.conv2(x, edge_index))\n",
    "        x = torch.mean(x, 0, True)\n",
    "        return self.classify(x)\n",
    "    \n",
    "class Classifier(nn.Module):\n",
    "    def __init__(self, in_dim, hidden_dim, n_classes):\n",
    "        super(Classifier, self).__init__()\n",
    "\n",
    "        self.layers = nn.ModuleList([\n",
    "            GCN(in_dim, hidden_dim, F.relu),\n",
    "            GCN(hidden_dim, hidden_dim, F.relu)])\n",
    "        self.classify = nn.Linear(hidden_dim, n_classes)\n",
    "\n",
    "    def forward(self, g):\n",
    "        # For undirected graphs, in_degree is the same as\n",
    "        # out_degree.\n",
    "        h = g.in_degrees().view(-1, 1).float()\n",
    "        for conv in self.layers:\n",
    "            h = conv(g, h)\n",
    "        g.ndata['h'] = h\n",
    "        hg = dgl.mean_nodes(g, 'h')\n",
    "        return self.classify(hg)\n",
    "#Remove redundant edges from edge list based on sampled node list\n",
    "def remove_edges(node_list,edge_list):\n",
    "    \n",
    "    edge_list_keep = []\n",
    "    for i in edge_list:\n",
    "        cnt=0\n",
    "        for j in i:\n",
    "            if [j] in node_list:\n",
    "                cnt=cnt+1\n",
    "            if cnt==2:\n",
    "                edge_list_keep.append(i)\n",
    "                \n",
    "    return edge_list_keep\n",
    "\n",
    "#Map edge_list_keep to new node labels\n",
    "def map_edge_list_keep(edge_list_keep,node_list_keep):\n",
    "    \n",
    "    edge_list_keep_mapped = []\n",
    "    for i in edge_list_keep:\n",
    "        edge_list_keep_mapped.append([node_list_keep.index([i[0]]),node_list_keep.index([i[1]])])\n",
    "\n",
    "    return edge_list_keep_mapped"
   ]
  },
  {
   "cell_type": "code",
   "execution_count": 3,
   "metadata": {},
   "outputs": [],
   "source": [
    "import os\n",
    "#Set GPU IDs for training:\n",
    "os.environ[\"CUDA_VISIBLE_DEVICES\"] = '1'"
   ]
  },
  {
   "cell_type": "code",
   "execution_count": 4,
   "metadata": {},
   "outputs": [],
   "source": [
    "\n",
    "def build_circuit_graph_undirected(node_list,edge_list):\n",
    "    g = dgl.DGLGraph()\n",
    "    g.add_nodes(len(node_list))\n",
    "    src, dst = tuple(zip(*edge_list))\n",
    "    g.add_edges(src, dst)\n",
    "    g.add_edges(dst, src)\n",
    "    return g\n",
    "\n",
    "def build_circuit_graph_directed_sd(node_list,edge_list):\n",
    "    g = dgl.DGLGraph()\n",
    "    g.add_nodes(len(node_list))\n",
    "    src, dst = tuple(zip(*edge_list))\n",
    "    g.add_edges(src, dst)\n",
    "    return g\n",
    "\n",
    "def build_circuit_graph_directed_ds(node_list,edge_list):\n",
    "    g = dgl.DGLGraph()\n",
    "    g.add_nodes(len(node_list))\n",
    "    src, dst = tuple(zip(*edge_list))\n",
    "    g.add_edges(dst, src)\n",
    "    return g\n"
   ]
  },
  {
   "cell_type": "markdown",
   "metadata": {},
   "source": [
    "### Choose Number of Training Samples"
   ]
  },
  {
   "cell_type": "markdown",
   "metadata": {},
   "source": [
    "### Train Test Split"
   ]
  },
  {
   "cell_type": "code",
   "execution_count": 5,
   "metadata": {},
   "outputs": [],
   "source": [
    "random.seed(1) #original=0\n",
    "training_size = 10\n",
    "training_idx = random.sample(list(range(5,65)), training_size) #exclude 4-bit adders\n",
    "test_idx = [item for item in list(range(5,65)) if item not in training_idx]"
   ]
  },
  {
   "cell_type": "code",
   "execution_count": 6,
   "metadata": {},
   "outputs": [
    {
     "data": {
      "text/plain": [
       "[13, 41, 59, 56, 53, 9, 21, 12, 36, 60]"
      ]
     },
     "execution_count": 6,
     "metadata": {},
     "output_type": "execute_result"
    }
   ],
   "source": [
    "training_idx"
   ]
  },
  {
   "cell_type": "code",
   "execution_count": 7,
   "metadata": {},
   "outputs": [
    {
     "data": {
      "text/plain": [
       "(10, 50)"
      ]
     },
     "execution_count": 7,
     "metadata": {},
     "output_type": "execute_result"
    }
   ],
   "source": [
    "len(training_idx),len(test_idx)"
   ]
  },
  {
   "cell_type": "markdown",
   "metadata": {},
   "source": [
    "## Pick Training Data"
   ]
  },
  {
   "cell_type": "code",
   "execution_count": 8,
   "metadata": {},
   "outputs": [
    {
     "name": "stdout",
     "output_type": "stream",
     "text": [
      "[59 36 53 60 41 21 12 56 13  9] [59 36 53 60 41 21 12 56 13  9] [59 36 53 60 41 21 12 56 13  9] [59 36 53 60 41 21 12 56 13  9]\n"
     ]
    }
   ],
   "source": [
    "\n",
    "dir = '/home/gpu-user-02/hdd/LT-user/Adder_Classification/main/preprocessing/processed_training_data'\n",
    "\n",
    "trainset=[]\n",
    "labels=[]\n",
    "#for filename in os.listdir(dir):\n",
    "np.random.seed(0) #original=1\n",
    "sample_size = 10\n",
    "# training_idx = np.random.randint(4,64,10)\n",
    "training_idx_1 = np.random.choice(training_idx, size=sample_size, replace=False)\n",
    "# training_idx_2 = np.random.choice(training_idx, size=sample_size, replace=False)\n",
    "# training_idx_3 = np.random.choice(training_idx, size=sample_size, replace=False)\n",
    "# training_idx_4 = np.random.choice(training_idx, size=sample_size, replace=False)\n",
    "\n",
    "training_idx_2 = training_idx_1\n",
    "training_idx_3 = training_idx_1\n",
    "training_idx_4 = training_idx_1\n",
    "# training_idx_1 = [6]\n",
    "# training_idx_2 = [6]\n",
    "# training_idx_3 = [6]\n",
    "# training_idx_4 = [6]\n",
    "print(training_idx_1,training_idx_2,training_idx_3,training_idx_4)"
   ]
  },
  {
   "cell_type": "markdown",
   "metadata": {},
   "source": [
    "### Prepare Training and Test Data"
   ]
  },
  {
   "cell_type": "code",
   "execution_count": 9,
   "metadata": {},
   "outputs": [
    {
     "name": "stdout",
     "output_type": "stream",
     "text": [
      "[[1], [0], [2], [3], [1], [0], [2], [3], [1], [0], [2], [3], [1], [0], [2], [3], [1], [0], [2], [3], [1], [0], [2], [3], [1], [0], [2], [3], [1], [0], [2], [3], [1], [0], [2], [3], [1], [0], [2], [3]]\n"
     ]
    }
   ],
   "source": [
    "for idx in range(len(training_idx_1)):\n",
    "    node_list=[]\n",
    "    edge_list=[]\n",
    "    label_list=[]\n",
    "    node_list2=[]\n",
    "    edge_list2=[]\n",
    "    label_list2=[]\n",
    "    node_list3=[]\n",
    "    edge_list3=[]\n",
    "    label_list3=[]\n",
    "    node_list4=[]\n",
    "    edge_list4=[]\n",
    "    label_list4=[]\n",
    "    for j in [\"node_list\",\"edge_list\",\"graph_label\"]:\n",
    "        filename = \"rca_\"+str(training_idx_1[idx])+\"bit\"+j+'.csv'\n",
    "        filename2 = \"cla_\"+str(training_idx_2[idx])+\"bit\"+j+'.csv'\n",
    "        filename3 = \"csa_\"+str(training_idx_3[idx])+\"bit\"+j+'.csv'\n",
    "        filename4 = \"CSkipA_\"+str(training_idx_4[idx])+\"bit\"+j+'.csv'\n",
    "        if(filename.find(\"node_list\")>=0):\n",
    "            with open(dir+'/'+filename, 'rt') as fh:\n",
    "                reader=csv.reader(fh)\n",
    "                node_list = list(reader)\n",
    "                \n",
    "        if(filename.find(\"edge_list\")>=0):\n",
    "            with open(dir+'/'+filename, 'rt') as fh:\n",
    "                reader=csv.reader(fh)\n",
    "                edge_list = list(reader)\n",
    "        if(filename.find(\"graph_label\")>=0):\n",
    "            with open(dir+'/'+filename, 'rt') as fh:\n",
    "                reader=csv.reader(fh)\n",
    "                label_list = list(reader)\n",
    "        if(filename.find(\"gate_type\")>=0):\n",
    "            with open(dir+'/'+filename, 'rt') as fh:\n",
    "                reader=csv.reader(fh)\n",
    "                gate_type = list(reader)\n",
    "        \n",
    "        if(filename2.find(\"node_list\")>=0):\n",
    "            with open(dir+'/'+filename2, 'rt') as fh:\n",
    "                reader=csv.reader(fh)\n",
    "                node_list2 = list(reader)\n",
    "                \n",
    "        if(filename2.find(\"edge_list\")>=0):\n",
    "            with open(dir+'/'+filename2, 'rt') as fh:\n",
    "                reader=csv.reader(fh)\n",
    "                edge_list2 = list(reader)\n",
    "        if(filename2.find(\"graph_label\")>=0):\n",
    "            with open(dir+'/'+filename2, 'rt') as fh:\n",
    "                reader=csv.reader(fh)\n",
    "                label_list2 = list(reader)\n",
    "        if(filename2.find(\"gate_type\")>=0):\n",
    "            with open(dir+'/'+filename2, 'rt') as fh:\n",
    "                reader=csv.reader(fh)\n",
    "                gate_type2 = list(reader)\n",
    "        \n",
    "        if(filename3.find(\"node_list\")>=0):\n",
    "            with open(dir+'/'+filename3, 'rt') as fh:\n",
    "                reader=csv.reader(fh)\n",
    "                node_list3 = list(reader)\n",
    "                \n",
    "        if(filename3.find(\"edge_list\")>=0):\n",
    "            with open(dir+'/'+filename3, 'rt') as fh:\n",
    "                reader=csv.reader(fh)\n",
    "                edge_list3 = list(reader)\n",
    "        if(filename3.find(\"graph_label\")>=0):\n",
    "            with open(dir+'/'+filename3, 'rt') as fh:\n",
    "                reader=csv.reader(fh)\n",
    "                label_list3 = list(reader)\n",
    "        if(filename3.find(\"gate_type\")>=0):\n",
    "            with open(dir+'/'+filename3, 'rt') as fh:\n",
    "                reader=csv.reader(fh)\n",
    "                gate_type3 = list(reader)\n",
    "        if(filename4.find(\"node_list\")>=0):\n",
    "            with open(dir+'/'+filename4, 'rt') as fh:\n",
    "                reader=csv.reader(fh)\n",
    "                node_list4 = list(reader)\n",
    "                \n",
    "        if(filename4.find(\"edge_list\")>=0):\n",
    "            with open(dir+'/'+filename4, 'rt') as fh:\n",
    "                reader=csv.reader(fh)\n",
    "                edge_list4 = list(reader)\n",
    "        if(filename4.find(\"graph_label\")>=0):\n",
    "            with open(dir+'/'+filename4, 'rt') as fh:\n",
    "                reader=csv.reader(fh)\n",
    "                label_list4 = list(reader)\n",
    "        if(filename4.find(\"gate_type\")>=0):\n",
    "            with open(dir+'/'+filename4, 'rt') as fh:\n",
    "                reader=csv.reader(fh)\n",
    "                gate_type4 = list(reader)\n",
    "    #create dgl graph\n",
    "    g=build_circuit_graph_undirected(node_list,edge_list)\n",
    "    trainset.append(g)\n",
    "    labels.append(label_list[0])\n",
    "    g2=build_circuit_graph_undirected(node_list2,edge_list2)\n",
    "    trainset.append(g2)\n",
    "    labels.append(label_list2[0])\n",
    "    g3=build_circuit_graph_undirected(node_list3,edge_list3)\n",
    "    trainset.append(g3)\n",
    "    labels.append(label_list3[0])\n",
    "    g4=build_circuit_graph_undirected(node_list4,edge_list4)\n",
    "    trainset.append(g4)\n",
    "    labels.append(label_list4[0])\n",
    "\n",
    "for i in labels:\n",
    "    i[0] = int(i[0])\n",
    "\n",
    "print(labels)"
   ]
  },
  {
   "cell_type": "markdown",
   "metadata": {},
   "source": [
    "### Visualize Training Data"
   ]
  },
  {
   "cell_type": "code",
   "execution_count": 10,
   "metadata": {},
   "outputs": [],
   "source": [
    "# graph = trainset[14]\n",
    "# label=labels[14][0]\n",
    "\n",
    "# fig, ax = plt.subplots()\n",
    "# G=graph.to_networkx()\n",
    "# pos=nx.spring_layout(G)\n",
    "# nx.draw(G,pos)\n",
    "# nx.draw_networkx_labels(G,pos, ax=ax)\n",
    "# ax.set_title('Class: {:f}'.format(label))\n",
    "# plt.show()"
   ]
  },
  {
   "cell_type": "markdown",
   "metadata": {},
   "source": [
    "### Apply random shuffle to training set"
   ]
  },
  {
   "cell_type": "code",
   "execution_count": 50,
   "metadata": {},
   "outputs": [],
   "source": [
    "##apply random shuffle on the trainset\n",
    "np.random.seed(0)\n",
    "randomize = np.arange(len(trainset))\n",
    "np.random.shuffle(randomize)\n",
    "labels_shuffled=[]\n",
    "trainset_shuffled=[]\n",
    "for i in range (len(randomize)):\n",
    "    labels_shuffled.append(labels[randomize[i]])\n",
    "    trainset_shuffled.append(trainset[randomize[i]])"
   ]
  },
  {
   "cell_type": "code",
   "execution_count": 51,
   "metadata": {},
   "outputs": [
    {
     "data": {
      "text/plain": [
       "40"
      ]
     },
     "execution_count": 51,
     "metadata": {},
     "output_type": "execute_result"
    }
   ],
   "source": [
    "len(trainset_shuffled)"
   ]
  },
  {
   "cell_type": "code",
   "execution_count": 52,
   "metadata": {},
   "outputs": [],
   "source": [
    "\n",
    "\n",
    "# Sends a message of node feature h.\n",
    "msg = fn.copy_src(src='h', out='m')"
   ]
  },
  {
   "cell_type": "markdown",
   "metadata": {},
   "source": [
    "### Setup and training"
   ]
  },
  {
   "cell_type": "markdown",
   "metadata": {},
   "source": [
    "### Make Training Results Deterministic"
   ]
  },
  {
   "cell_type": "markdown",
   "metadata": {},
   "source": [
    "## Set Training Epoch"
   ]
  },
  {
   "cell_type": "code",
   "execution_count": 53,
   "metadata": {},
   "outputs": [],
   "source": [
    "training_epoch = 200 #original = 1500 for 1 training sample 500 for 20 samples\n",
    "initial_lr = 0.001"
   ]
  },
  {
   "cell_type": "code",
   "execution_count": 54,
   "metadata": {},
   "outputs": [
    {
     "name": "stdout",
     "output_type": "stream",
     "text": [
      "Epoch 0, loss 1.4393\n",
      "Epoch 1, loss 1.4112\n",
      "Epoch 2, loss 1.4081\n",
      "Epoch 3, loss 1.4072\n",
      "Epoch 4, loss 1.4035\n",
      "Epoch 5, loss 1.4002\n",
      "Epoch 6, loss 1.3985\n",
      "Epoch 7, loss 1.3974\n",
      "Epoch 8, loss 1.3955\n",
      "Epoch 9, loss 1.3940\n",
      "Epoch 10, loss 1.3921\n",
      "Epoch 11, loss 1.3931\n",
      "Epoch 12, loss 1.3905\n",
      "Epoch 13, loss 1.3922\n",
      "Epoch 14, loss 1.3862\n",
      "Epoch 15, loss 1.3876\n",
      "Epoch 16, loss 1.3840\n",
      "Epoch 17, loss 1.3807\n",
      "Epoch 18, loss 1.3792\n",
      "Epoch 19, loss 1.3763\n",
      "Epoch 20, loss 1.3731\n",
      "Epoch 21, loss 1.3684\n",
      "Epoch 22, loss 1.3665\n",
      "Epoch 23, loss 1.3600\n",
      "Epoch 24, loss 1.3541\n",
      "Epoch 25, loss 1.3467\n",
      "Epoch 26, loss 1.3356\n",
      "Epoch 27, loss 1.3227\n",
      "Epoch 28, loss 1.3122\n",
      "Epoch 29, loss 1.2938\n",
      "Epoch 30, loss 1.2831\n",
      "Epoch 31, loss 1.2694\n",
      "Epoch 32, loss 1.2498\n",
      "Epoch 33, loss 1.2339\n",
      "Epoch 34, loss 1.2157\n",
      "Epoch 35, loss 1.1977\n",
      "Epoch 36, loss 1.1808\n",
      "Epoch 37, loss 1.1637\n",
      "Epoch 38, loss 1.1463\n",
      "Epoch 39, loss 1.1306\n",
      "Epoch 40, loss 1.1141\n",
      "Epoch 41, loss 1.0995\n",
      "Epoch 42, loss 1.0847\n",
      "Epoch 43, loss 1.0706\n",
      "Epoch 44, loss 1.0569\n",
      "Epoch 45, loss 1.0440\n",
      "Epoch 46, loss 1.0309\n",
      "Epoch 47, loss 1.0191\n",
      "Epoch 48, loss 1.0098\n",
      "Epoch 49, loss 1.0011\n",
      "Epoch 50, loss 0.9930\n",
      "Epoch 51, loss 0.9864\n",
      "Epoch 52, loss 0.9808\n",
      "Epoch 53, loss 0.9764\n",
      "Epoch 54, loss 0.9727\n",
      "Epoch 55, loss 0.9694\n",
      "Epoch 56, loss 0.9664\n",
      "Epoch 57, loss 0.9633\n",
      "Epoch 58, loss 0.9596\n",
      "Epoch 59, loss 0.9552\n",
      "Epoch 60, loss 0.9479\n",
      "Epoch 61, loss 0.9391\n",
      "Epoch 62, loss 0.9295\n",
      "Epoch 63, loss 0.9198\n",
      "Epoch 64, loss 0.9105\n",
      "Epoch 65, loss 0.9017\n",
      "Epoch 66, loss 0.8945\n",
      "Epoch 67, loss 0.8886\n",
      "Epoch 68, loss 0.8826\n",
      "Epoch 69, loss 0.8765\n",
      "Epoch 70, loss 0.8704\n",
      "Epoch 71, loss 0.8652\n",
      "Epoch 72, loss 0.8606\n",
      "Epoch 73, loss 0.8543\n",
      "Epoch 74, loss 0.8493\n",
      "Epoch 75, loss 0.8435\n",
      "Epoch 76, loss 0.8367\n",
      "Epoch 77, loss 0.8301\n",
      "Epoch 78, loss 0.8240\n",
      "Epoch 79, loss 0.8187\n",
      "Epoch 80, loss 0.8137\n",
      "Epoch 81, loss 0.8092\n",
      "Epoch 82, loss 0.8047\n",
      "Epoch 83, loss 0.8011\n",
      "Epoch 84, loss 0.7979\n",
      "Epoch 85, loss 0.7952\n",
      "Epoch 86, loss 0.7928\n",
      "Epoch 87, loss 0.7903\n",
      "Epoch 88, loss 0.7892\n",
      "Epoch 89, loss 0.7877\n",
      "Epoch 90, loss 0.7870\n",
      "Epoch 91, loss 0.7862\n",
      "Epoch 92, loss 0.7858\n",
      "Epoch 93, loss 0.7840\n",
      "Epoch 94, loss 0.7821\n",
      "Epoch 95, loss 0.7801\n",
      "Epoch 96, loss 0.7785\n",
      "Epoch 97, loss 0.7771\n",
      "Epoch 98, loss 0.7749\n",
      "Epoch 99, loss 0.7730\n",
      "Epoch 100, loss 0.7716\n",
      "Epoch 101, loss 0.7701\n",
      "Epoch 102, loss 0.7684\n",
      "Epoch 103, loss 0.7656\n",
      "Epoch 104, loss 0.7630\n",
      "Epoch 105, loss 0.7600\n",
      "Epoch 106, loss 0.7582\n",
      "Epoch 107, loss 0.7566\n",
      "Epoch 108, loss 0.7546\n",
      "Epoch 109, loss 0.7520\n",
      "Epoch 110, loss 0.7493\n",
      "Epoch 111, loss 0.7471\n",
      "Epoch 112, loss 0.7451\n",
      "Epoch 113, loss 0.7426\n",
      "Epoch 114, loss 0.7408\n",
      "Epoch 115, loss 0.7368\n",
      "Epoch 116, loss 0.7350\n",
      "Epoch 117, loss 0.7334\n",
      "Epoch 118, loss 0.7302\n",
      "Epoch 119, loss 0.7268\n",
      "Epoch 120, loss 0.7238\n",
      "Epoch 121, loss 0.7213\n",
      "Epoch 122, loss 0.7186\n",
      "Epoch 123, loss 0.7161\n",
      "Epoch 124, loss 0.7148\n",
      "Epoch 125, loss 0.7112\n",
      "Epoch 126, loss 0.7080\n",
      "Epoch 127, loss 0.7068\n",
      "Epoch 128, loss 0.7049\n",
      "Epoch 129, loss 0.7012\n",
      "Epoch 130, loss 0.6982\n",
      "Epoch 131, loss 0.6955\n",
      "Epoch 132, loss 0.6935\n",
      "Epoch 133, loss 0.6899\n",
      "Epoch 134, loss 0.6873\n",
      "Epoch 135, loss 0.6838\n",
      "Epoch 136, loss 0.6820\n",
      "Epoch 137, loss 0.6805\n",
      "Epoch 138, loss 0.6768\n",
      "Epoch 139, loss 0.6737\n",
      "Epoch 140, loss 0.6693\n",
      "Epoch 141, loss 0.6666\n",
      "Epoch 142, loss 0.6646\n",
      "Epoch 143, loss 0.6625\n",
      "Epoch 144, loss 0.6591\n",
      "Epoch 145, loss 0.6565\n",
      "Epoch 146, loss 0.6528\n",
      "Epoch 147, loss 0.6512\n",
      "Epoch 148, loss 0.6483\n",
      "Epoch 149, loss 0.6454\n",
      "Epoch 150, loss 0.6423\n",
      "Epoch 151, loss 0.6392\n",
      "Epoch 152, loss 0.6356\n",
      "Epoch 153, loss 0.6336\n",
      "Epoch 154, loss 0.6314\n",
      "Epoch 155, loss 0.6271\n",
      "Epoch 156, loss 0.6242\n",
      "Epoch 157, loss 0.6218\n",
      "Epoch 158, loss 0.6185\n",
      "Epoch 159, loss 0.6138\n",
      "Epoch 160, loss 0.6101\n",
      "Epoch 161, loss 0.6090\n",
      "Epoch 162, loss 0.6056\n",
      "Epoch 163, loss 0.6024\n",
      "Epoch 164, loss 0.5993\n",
      "Epoch 165, loss 0.5964\n",
      "Epoch 166, loss 0.5922\n",
      "Epoch 167, loss 0.5889\n",
      "Epoch 168, loss 0.5849\n",
      "Epoch 169, loss 0.5839\n",
      "Epoch 170, loss 0.5795\n",
      "Epoch 171, loss 0.5786\n",
      "Epoch 172, loss 0.5735\n",
      "Epoch 173, loss 0.5720\n",
      "Epoch 174, loss 0.5657\n",
      "Epoch 175, loss 0.5642\n",
      "Epoch 176, loss 0.5615\n",
      "Epoch 177, loss 0.5594\n",
      "Epoch 178, loss 0.5555\n",
      "Epoch 179, loss 0.5529\n",
      "Epoch 180, loss 0.5497\n",
      "Epoch 181, loss 0.5461\n",
      "Epoch 182, loss 0.5423\n",
      "Epoch 183, loss 0.5389\n",
      "Epoch 184, loss 0.5366\n",
      "Epoch 185, loss 0.5341\n",
      "Epoch 186, loss 0.5311\n",
      "Epoch 187, loss 0.5272\n",
      "Epoch 188, loss 0.5239\n",
      "Epoch 189, loss 0.5213\n",
      "Epoch 190, loss 0.5189\n",
      "Epoch 191, loss 0.5152\n",
      "Epoch 192, loss 0.5120\n",
      "Epoch 193, loss 0.5102\n",
      "Epoch 194, loss 0.5068\n",
      "Epoch 195, loss 0.5045\n",
      "Epoch 196, loss 0.5030\n",
      "Epoch 197, loss 0.4978\n",
      "Epoch 198, loss 0.4956\n",
      "Epoch 199, loss 0.4913\n",
      "Finished training. Training time = 43.1992 Seconds\n"
     ]
    }
   ],
   "source": [
    "# Create model\n",
    "#model = Classifier(1, 256, trainset.num_classes)\n",
    "import time\n",
    "\n",
    "device = torch.device('cuda' if torch.cuda.is_available() else 'cpu')\n",
    "model = PYGNet(1, 256, 4).to(device)\n",
    "loss_func = nn.CrossEntropyLoss()\n",
    "optimizer = optim.Adam(model.parameters(), lr = initial_lr)\n",
    "# optimizer = optim.SGD(model.parameters(), lr = initial_lr, momentum=0.9, weight_decay=5e-4)\n",
    "\n",
    "model.train()\n",
    "\n",
    "labels_shuffled = torch.LongTensor(labels_shuffled).to(device)\n",
    "\n",
    "epoch_losses = []\n",
    "\n",
    "#start timer:\n",
    "t0 = time.time()\n",
    "\n",
    "for epoch in range(training_epoch):\n",
    "    model.train()\n",
    "    epoch_loss = 0\n",
    "    for iter, bg in enumerate(trainset_shuffled):\n",
    "        x = bg.in_degrees().view(-1, 1).float().to(device)\n",
    "        a = bg.edges()[0].tolist()\n",
    "        b = bg.edges()[1].tolist()\n",
    "        edges = list(zip(a,b))\n",
    "        edges = np.array(edges)\n",
    "        edges = torch.LongTensor(edges.transpose()).to(device)\n",
    "        \n",
    "#         prediction=torch.zeros(1,4,dtype=torch.float64)\n",
    "        prediction = model(x,edges)\n",
    "\n",
    "        loss = loss_func(prediction, labels_shuffled[iter])\n",
    "        optimizer.zero_grad()\n",
    "        loss.backward()\n",
    "        optimizer.step()\n",
    "        epoch_loss += loss.detach().item()\n",
    "    epoch_loss /= (iter + 1)\n",
    "    print('Epoch {}, loss {:.4f}'.format(epoch, epoch_loss))\n",
    "    epoch_losses.append(epoch_loss)\n",
    "\n",
    "training_time = time.time() - t0\n",
    "\n",
    "print('Finished training. Training time = {:.4f} Seconds'.format(training_time))\n"
   ]
  },
  {
   "cell_type": "markdown",
   "metadata": {},
   "source": [
    "### Finish Training"
   ]
  },
  {
   "cell_type": "markdown",
   "metadata": {},
   "source": [
    "### Plot Loss"
   ]
  },
  {
   "cell_type": "code",
   "execution_count": 55,
   "metadata": {},
   "outputs": [
    {
     "data": {
      "image/png": "[encoded data removed]",
      "text/plain": [
       "<Figure size 432x288 with 1 Axes>"
      ]
     },
     "metadata": {
      "needs_background": "light"
     },
     "output_type": "display_data"
    }
   ],
   "source": [
    "plt.title('cross entropy averaged over minibatches')\n",
    "plt.plot(epoch_losses)\n",
    "plt.show()"
   ]
  },
  {
   "cell_type": "markdown",
   "metadata": {},
   "source": [
    "### Load Test data"
   ]
  },
  {
   "cell_type": "code",
   "execution_count": 56,
   "metadata": {},
   "outputs": [],
   "source": [
    "testset = []\n",
    "test_labels = []\n",
    "test_dir = dir\n",
    "pct_keep=1\n",
    "\n",
    "testing_idx_1=[]\n",
    "testing_idx_2=[]\n",
    "testing_idx_3=[]\n",
    "testing_idx_4=[]\n",
    "for i in test_idx:\n",
    "    testing_idx_1.append(i)\n",
    "    testing_idx_2.append(i)\n",
    "    testing_idx_3.append(i)\n",
    "    testing_idx_4.append(i)\n",
    "# random.seed(0)\n",
    "for idx in range(len(testing_idx_1)):\n",
    "    node_list=[]\n",
    "    edge_list=[]\n",
    "    label_list=[]\n",
    "    node_list2=[]\n",
    "    edge_list2=[]\n",
    "    label_list2=[]\n",
    "    node_list3=[]\n",
    "    edge_list3=[]\n",
    "    label_list3=[]\n",
    "    node_list4=[]\n",
    "    edge_list4=[]\n",
    "    label_list4=[]\n",
    "    for j in [\"node_list\",\"edge_list\",\"graph_label\"]:\n",
    "        filename = \"rca_\"+str(testing_idx_1[idx])+\"bit\"+j+'.csv'\n",
    "        filename2 = \"cla_\"+str(testing_idx_2[idx])+\"bit\"+j+'.csv'\n",
    "        filename3 = \"csa_\"+str(testing_idx_3[idx])+\"bit\"+j+'.csv'\n",
    "        filename4 = \"CSkipA_\"+str(testing_idx_4[idx])+\"bit\"+j+'.csv'\n",
    "        \n",
    "        if(filename.find(\"node_list\")>=0):\n",
    "            with open(test_dir+'/'+filename, 'rt') as fh:\n",
    "                reader=csv.reader(fh)\n",
    "                node_list = list(reader)\n",
    "                \n",
    "        if(filename.find(\"edge_list\")>=0):\n",
    "            with open(test_dir+'/'+filename, 'rt') as fh:\n",
    "                reader=csv.reader(fh)\n",
    "                edge_list = list(reader)\n",
    "        if(filename.find(\"graph_label\")>=0):\n",
    "            with open(test_dir+'/'+filename, 'rt') as fh:\n",
    "                reader=csv.reader(fh)\n",
    "                label_list = list(reader)\n",
    "        if(filename.find(\"gate_type\")>=0):\n",
    "            with open(test_dir+'/'+filename, 'rt') as fh:\n",
    "                reader=csv.reader(fh)\n",
    "                gate_type = list(reader)\n",
    "        \n",
    "        if(filename2.find(\"node_list\")>=0):\n",
    "            with open(test_dir+'/'+filename2, 'rt') as fh:\n",
    "                reader=csv.reader(fh)\n",
    "                node_list2 = list(reader)\n",
    "                \n",
    "        if(filename2.find(\"edge_list\")>=0):\n",
    "            with open(test_dir+'/'+filename2, 'rt') as fh:\n",
    "                reader=csv.reader(fh)\n",
    "                edge_list2 = list(reader)\n",
    "        if(filename2.find(\"graph_label\")>=0):\n",
    "            with open(test_dir+'/'+filename2, 'rt') as fh:\n",
    "                reader=csv.reader(fh)\n",
    "                label_list2 = list(reader)\n",
    "        if(filename2.find(\"gate_type\")>=0):\n",
    "            with open(test_dir+'/'+filename2, 'rt') as fh:\n",
    "                reader=csv.reader(fh)\n",
    "                gate_type2 = list(reader)\n",
    "        if(filename3.find(\"node_list\")>=0):\n",
    "            with open(test_dir+'/'+filename3, 'rt') as fh:\n",
    "                reader=csv.reader(fh)\n",
    "                node_list3 = list(reader)\n",
    "                \n",
    "        if(filename3.find(\"edge_list\")>=0):\n",
    "            with open(test_dir+'/'+filename3, 'rt') as fh:\n",
    "                reader=csv.reader(fh)\n",
    "                edge_list3 = list(reader)\n",
    "        if(filename3.find(\"graph_label\")>=0):\n",
    "            with open(test_dir+'/'+filename3, 'rt') as fh:\n",
    "                reader=csv.reader(fh)\n",
    "                label_list3 = list(reader)\n",
    "        if(filename3.find(\"gate_type\")>=0):\n",
    "            with open(test_dir+'/'+filename3, 'rt') as fh:\n",
    "                reader=csv.reader(fh)\n",
    "                gate_type3 = list(reader)\n",
    "        if(filename4.find(\"node_list\")>=0):\n",
    "            with open(dir+'/'+filename4, 'rt') as fh:\n",
    "                reader=csv.reader(fh)\n",
    "                node_list4 = list(reader)\n",
    "                \n",
    "        if(filename4.find(\"edge_list\")>=0):\n",
    "            with open(dir+'/'+filename4, 'rt') as fh:\n",
    "                reader=csv.reader(fh)\n",
    "                edge_list4 = list(reader)\n",
    "        if(filename4.find(\"graph_label\")>=0):\n",
    "            with open(dir+'/'+filename4, 'rt') as fh:\n",
    "                reader=csv.reader(fh)\n",
    "                label_list4 = list(reader)\n",
    "        if(filename4.find(\"gate_type\")>=0):\n",
    "            with open(dir+'/'+filename4, 'rt') as fh:\n",
    "                reader=csv.reader(fh)\n",
    "                gate_type4 = list(reader)\n",
    "    \n",
    "    #randomly sample nodes and edges from a list\n",
    "    \n",
    "    #Sample nodes, remove edges accordingly:\n",
    "    seed = 1\n",
    "    random.seed(seed)\n",
    "    node_list_keep = random.sample(node_list,int(len(node_list)*pct_keep))\n",
    "    edge_list_keep = remove_edges(node_list_keep,edge_list)\n",
    "    edge_list_keep = map_edge_list_keep(edge_list_keep,node_list_keep)\n",
    "#     node_list_keep = node_list\n",
    "#     edge_list_keep = random.sample(edge_list,int(len(edge_list)*pct_keep))\n",
    "    random.seed(seed)\n",
    "    node_list2_keep = random.sample(node_list2,int(len(node_list2)*pct_keep))\n",
    "    edge_list2_keep = remove_edges(node_list2_keep,edge_list2)\n",
    "    edge_list2_keep = map_edge_list_keep(edge_list2_keep,node_list2_keep)\n",
    "#     node_list2_keep = node_list2\n",
    "#     edge_list2_keep = random.sample(edge_list2,int(len(edge_list2)*pct_keep))\n",
    "    random.seed(seed)\n",
    "    node_list3_keep = random.sample(node_list3,int(len(node_list3)*pct_keep))\n",
    "    edge_list3_keep = remove_edges(node_list3_keep,edge_list3)\n",
    "    edge_list3_keep = map_edge_list_keep(edge_list3_keep,node_list3_keep)\n",
    "#     node_list3_keep = node_list3\n",
    "#     edge_list3_keep = random.sample(edge_list3,int(len(edge_list3)*pct_keep))\n",
    "    random.seed(seed)\n",
    "    node_list4_keep = random.sample(node_list4,int(len(node_list4)*pct_keep))\n",
    "    edge_list4_keep = remove_edges(node_list4_keep,edge_list4)\n",
    "    edge_list4_keep = map_edge_list_keep(edge_list4_keep,node_list4_keep)\n",
    "#     node_list4_keep = node_list4\n",
    "#     edge_list4_keep = random.sample(edge_list4,int(len(edge_list4)*pct_keep))\n",
    "    \n",
    "    #create dgl graph\n",
    "    g=build_circuit_graph_undirected(node_list_keep,edge_list_keep)\n",
    "    testset.append(g)\n",
    "    test_labels.append(label_list[0])\n",
    "    g2=build_circuit_graph_undirected(node_list2_keep,edge_list2_keep)\n",
    "    testset.append(g2)\n",
    "    test_labels.append(label_list2[0])\n",
    "    g3=build_circuit_graph_undirected(node_list3_keep,edge_list3_keep)\n",
    "    testset.append(g3)\n",
    "    test_labels.append(label_list3[0])\n",
    "    g4=build_circuit_graph_undirected(node_list4_keep,edge_list4_keep)\n",
    "    testset.append(g4)\n",
    "    test_labels.append(label_list4[0])\n",
    "\n",
    "for i in test_labels:\n",
    "    i[0] = int(i[0])\n",
    "\n",
    "test_labels = torch.tensor(test_labels).float().view(-1, 1).cuda()\n",
    "# print(test_labels)"
   ]
  },
  {
   "cell_type": "code",
   "execution_count": 57,
   "metadata": {},
   "outputs": [],
   "source": [
    "model.eval()\n",
    "\n",
    "prediction=torch.zeros(len(testset),4,dtype=torch.float64)\n",
    "for iter, bg in enumerate(testset):\n",
    "        x = bg.in_degrees().view(-1, 1).float().to(device)\n",
    "        a = bg.edges()[0].tolist()\n",
    "        b = bg.edges()[1].tolist()\n",
    "        edges = list(zip(a,b))\n",
    "        edges = np.array(edges)\n",
    "        edges = torch.LongTensor(edges.transpose()).to(device)\n",
    "        \n",
    "        \n",
    "        prediction[iter] = model(x,edges)\n",
    "    "
   ]
  },
  {
   "cell_type": "code",
   "execution_count": 58,
   "metadata": {},
   "outputs": [
    {
     "name": "stdout",
     "output_type": "stream",
     "text": [
      "Accuracy of sampled predictions on the test set: 63.0000%\n",
      "Accuracy of argmax predictions on the test set: 84.5000%\n"
     ]
    }
   ],
   "source": [
    "probs_Y = torch.softmax(prediction, 1)\n",
    "sampled_Y = torch.multinomial(probs_Y, 1)\n",
    "argmax_Y = torch.max(probs_Y, 1)[1].view(-1, 1)\n",
    "test_labels.cuda() == sampled_Y.cuda()\n",
    "print('Accuracy of sampled predictions on the test set: {:.4f}%'.format(\n",
    "    (test_labels.cuda() == sampled_Y.cuda().float()).sum().item() / len(test_labels.cuda()) * 100))\n",
    "print('Accuracy of argmax predictions on the test set: {:.4f}%'.format(\n",
    "    (test_labels.cuda() == argmax_Y.cuda().float()).sum().item() / len(test_labels.cuda()) * 100))"
   ]
  },
  {
   "cell_type": "code",
   "execution_count": 25,
   "metadata": {},
   "outputs": [
    {
     "ename": "TypeError",
     "evalue": "forward() missing 1 required positional argument: 'edge_index'",
     "output_type": "error",
     "traceback": [
      "\u001b[0;31m---------------------------------------------------------------------------\u001b[0m",
      "\u001b[0;31mTypeError\u001b[0m                                 Traceback (most recent call last)",
      "\u001b[0;32m<ipython-input-25-994d8fc145c7>\u001b[0m in \u001b[0;36m<module>\u001b[0;34m\u001b[0m\n\u001b[1;32m     11\u001b[0m \u001b[0mtest_bg\u001b[0m \u001b[0;34m=\u001b[0m \u001b[0mdgl\u001b[0m\u001b[0;34m.\u001b[0m\u001b[0mbatch\u001b[0m\u001b[0;34m(\u001b[0m\u001b[0mtestset_shuffled\u001b[0m\u001b[0;34m)\u001b[0m\u001b[0;34m\u001b[0m\u001b[0;34m\u001b[0m\u001b[0m\n\u001b[1;32m     12\u001b[0m \u001b[0mtest_labels_shuffled\u001b[0m \u001b[0;34m=\u001b[0m \u001b[0mtorch\u001b[0m\u001b[0;34m.\u001b[0m\u001b[0mtensor\u001b[0m\u001b[0;34m(\u001b[0m\u001b[0mtest_labels_shuffled\u001b[0m\u001b[0;34m)\u001b[0m\u001b[0;34m.\u001b[0m\u001b[0mfloat\u001b[0m\u001b[0;34m(\u001b[0m\u001b[0;34m)\u001b[0m\u001b[0;34m.\u001b[0m\u001b[0mview\u001b[0m\u001b[0;34m(\u001b[0m\u001b[0;34m-\u001b[0m\u001b[0;36m1\u001b[0m\u001b[0;34m,\u001b[0m \u001b[0;36m1\u001b[0m\u001b[0;34m)\u001b[0m\u001b[0;34m\u001b[0m\u001b[0;34m\u001b[0m\u001b[0m\n\u001b[0;32m---> 13\u001b[0;31m \u001b[0mprobs_Y\u001b[0m \u001b[0;34m=\u001b[0m \u001b[0mtorch\u001b[0m\u001b[0;34m.\u001b[0m\u001b[0msoftmax\u001b[0m\u001b[0;34m(\u001b[0m\u001b[0mmodel\u001b[0m\u001b[0;34m(\u001b[0m\u001b[0mtest_bg\u001b[0m\u001b[0;34m)\u001b[0m\u001b[0;34m,\u001b[0m \u001b[0;36m1\u001b[0m\u001b[0;34m)\u001b[0m\u001b[0;34m\u001b[0m\u001b[0;34m\u001b[0m\u001b[0m\n\u001b[0m\u001b[1;32m     14\u001b[0m \u001b[0;34m\u001b[0m\u001b[0m\n\u001b[1;32m     15\u001b[0m \u001b[0msampled_Y\u001b[0m \u001b[0;34m=\u001b[0m \u001b[0mtorch\u001b[0m\u001b[0;34m.\u001b[0m\u001b[0mmultinomial\u001b[0m\u001b[0;34m(\u001b[0m\u001b[0mprobs_Y\u001b[0m\u001b[0;34m,\u001b[0m \u001b[0;36m1\u001b[0m\u001b[0;34m)\u001b[0m\u001b[0;34m\u001b[0m\u001b[0;34m\u001b[0m\u001b[0m\n",
      "\u001b[0;32m~/anaconda3/envs/pytorch/lib/python3.8/site-packages/torch/nn/modules/module.py\u001b[0m in \u001b[0;36m__call__\u001b[0;34m(self, *input, **kwargs)\u001b[0m\n\u001b[1;32m    548\u001b[0m             \u001b[0mresult\u001b[0m \u001b[0;34m=\u001b[0m \u001b[0mself\u001b[0m\u001b[0;34m.\u001b[0m\u001b[0m_slow_forward\u001b[0m\u001b[0;34m(\u001b[0m\u001b[0;34m*\u001b[0m\u001b[0minput\u001b[0m\u001b[0;34m,\u001b[0m \u001b[0;34m**\u001b[0m\u001b[0mkwargs\u001b[0m\u001b[0;34m)\u001b[0m\u001b[0;34m\u001b[0m\u001b[0;34m\u001b[0m\u001b[0m\n\u001b[1;32m    549\u001b[0m         \u001b[0;32melse\u001b[0m\u001b[0;34m:\u001b[0m\u001b[0;34m\u001b[0m\u001b[0;34m\u001b[0m\u001b[0m\n\u001b[0;32m--> 550\u001b[0;31m             \u001b[0mresult\u001b[0m \u001b[0;34m=\u001b[0m \u001b[0mself\u001b[0m\u001b[0;34m.\u001b[0m\u001b[0mforward\u001b[0m\u001b[0;34m(\u001b[0m\u001b[0;34m*\u001b[0m\u001b[0minput\u001b[0m\u001b[0;34m,\u001b[0m \u001b[0;34m**\u001b[0m\u001b[0mkwargs\u001b[0m\u001b[0;34m)\u001b[0m\u001b[0;34m\u001b[0m\u001b[0;34m\u001b[0m\u001b[0m\n\u001b[0m\u001b[1;32m    551\u001b[0m         \u001b[0;32mfor\u001b[0m \u001b[0mhook\u001b[0m \u001b[0;32min\u001b[0m \u001b[0mself\u001b[0m\u001b[0;34m.\u001b[0m\u001b[0m_forward_hooks\u001b[0m\u001b[0;34m.\u001b[0m\u001b[0mvalues\u001b[0m\u001b[0;34m(\u001b[0m\u001b[0;34m)\u001b[0m\u001b[0;34m:\u001b[0m\u001b[0;34m\u001b[0m\u001b[0;34m\u001b[0m\u001b[0m\n\u001b[1;32m    552\u001b[0m             \u001b[0mhook_result\u001b[0m \u001b[0;34m=\u001b[0m \u001b[0mhook\u001b[0m\u001b[0;34m(\u001b[0m\u001b[0mself\u001b[0m\u001b[0;34m,\u001b[0m \u001b[0minput\u001b[0m\u001b[0;34m,\u001b[0m \u001b[0mresult\u001b[0m\u001b[0;34m)\u001b[0m\u001b[0;34m\u001b[0m\u001b[0;34m\u001b[0m\u001b[0m\n",
      "\u001b[0;31mTypeError\u001b[0m: forward() missing 1 required positional argument: 'edge_index'"
     ]
    }
   ],
   "source": []
  },
  {
   "cell_type": "code",
   "execution_count": null,
   "metadata": {},
   "outputs": [],
   "source": []
  },
  {
   "cell_type": "markdown",
   "metadata": {},
   "source": [
    "### GNNExplainer"
   ]
  },
  {
   "cell_type": "code",
   "execution_count": 59,
   "metadata": {},
   "outputs": [
    {
     "ename": "NameError",
     "evalue": "name 'test_g' is not defined",
     "output_type": "error",
     "traceback": [
      "\u001b[0;31m---------------------------------------------------------------------------\u001b[0m",
      "\u001b[0;31mNameError\u001b[0m                                 Traceback (most recent call last)",
      "\u001b[0;32m<ipython-input-59-64124380ed15>\u001b[0m in \u001b[0;36m<module>\u001b[0;34m\u001b[0m\n\u001b[1;32m      1\u001b[0m \u001b[0;31m## model.eval()\u001b[0m\u001b[0;34m\u001b[0m\u001b[0;34m\u001b[0m\u001b[0;34m\u001b[0m\u001b[0m\n\u001b[0;32m----> 2\u001b[0;31m \u001b[0mx\u001b[0m \u001b[0;34m=\u001b[0m \u001b[0mtest_g\u001b[0m\u001b[0;34m.\u001b[0m\u001b[0min_degrees\u001b[0m\u001b[0;34m(\u001b[0m\u001b[0;34m)\u001b[0m\u001b[0;34m.\u001b[0m\u001b[0mview\u001b[0m\u001b[0;34m(\u001b[0m\u001b[0;34m-\u001b[0m\u001b[0;36m1\u001b[0m\u001b[0;34m,\u001b[0m \u001b[0;36m1\u001b[0m\u001b[0;34m)\u001b[0m\u001b[0;34m.\u001b[0m\u001b[0mfloat\u001b[0m\u001b[0;34m(\u001b[0m\u001b[0;34m)\u001b[0m\u001b[0;34m\u001b[0m\u001b[0;34m\u001b[0m\u001b[0m\n\u001b[0m\u001b[1;32m      3\u001b[0m \u001b[0;31m# x = feature\u001b[0m\u001b[0;34m\u001b[0m\u001b[0;34m\u001b[0m\u001b[0;34m\u001b[0m\u001b[0m\n\u001b[1;32m      4\u001b[0m \u001b[0ma\u001b[0m \u001b[0;34m=\u001b[0m \u001b[0mtest_g\u001b[0m\u001b[0;34m.\u001b[0m\u001b[0medges\u001b[0m\u001b[0;34m(\u001b[0m\u001b[0;34m)\u001b[0m\u001b[0;34m[\u001b[0m\u001b[0;36m0\u001b[0m\u001b[0;34m]\u001b[0m\u001b[0;34m.\u001b[0m\u001b[0mtolist\u001b[0m\u001b[0;34m(\u001b[0m\u001b[0;34m)\u001b[0m\u001b[0;34m\u001b[0m\u001b[0;34m\u001b[0m\u001b[0m\n\u001b[1;32m      5\u001b[0m \u001b[0mb\u001b[0m \u001b[0;34m=\u001b[0m \u001b[0mtest_g\u001b[0m\u001b[0;34m.\u001b[0m\u001b[0medges\u001b[0m\u001b[0;34m(\u001b[0m\u001b[0;34m)\u001b[0m\u001b[0;34m[\u001b[0m\u001b[0;36m1\u001b[0m\u001b[0;34m]\u001b[0m\u001b[0;34m.\u001b[0m\u001b[0mtolist\u001b[0m\u001b[0;34m(\u001b[0m\u001b[0;34m)\u001b[0m\u001b[0;34m\u001b[0m\u001b[0;34m\u001b[0m\u001b[0m\n",
      "\u001b[0;31mNameError\u001b[0m: name 'test_g' is not defined"
     ]
    }
   ],
   "source": [
    "## model.eval()\n",
    "x = test_g.in_degrees().view(-1, 1).float()\n",
    "# x = feature\n",
    "a = test_g.edges()[0].tolist()\n",
    "b = test_g.edges()[1].tolist()\n",
    "edges= list(zip(a,b))\n",
    "edges=np.array(edges)\n",
    "edges=torch.LongTensor(edges.transpose())\n",
    "probs_Y = model(x, edges)\n",
    "\n",
    "explainer = GNNExplainer(model, epochs=200)\n",
    "node_idx = 366\n",
    "node_feat_mask, edge_mask = explainer.explain_node(node_idx, x, edges)\n",
    "\n",
    "\n",
    "plt = explainer.visualize_subgraph(node_idx, edge_index=edges, edge_mask=edge_mask, y=label_tensor,threshold=None)\n",
    "plt.show()"
   ]
  },
  {
   "cell_type": "code",
   "execution_count": 56,
   "metadata": {},
   "outputs": [
    {
     "data": {
      "text/plain": [
       "torch.Size([773, 1])"
      ]
     },
     "execution_count": 56,
     "metadata": {},
     "output_type": "execute_result"
    }
   ],
   "source": [
    "h.size()"
   ]
  },
  {
   "cell_type": "markdown",
   "metadata": {
    "toc-hr-collapsed": true,
    "toc-nb-collapsed": true
   },
   "source": [
    "## Visualize Activations"
   ]
  },
  {
   "cell_type": "code",
   "execution_count": 59,
   "metadata": {},
   "outputs": [
    {
     "ename": "NameError",
     "evalue": "name 'testset' is not defined",
     "output_type": "error",
     "traceback": [
      "\u001b[0;31m---------------------------------------------------------------------------\u001b[0m",
      "\u001b[0;31mNameError\u001b[0m                                 Traceback (most recent call last)",
      "\u001b[0;32m<ipython-input-59-46175d8e2e83>\u001b[0m in \u001b[0;36m<module>\u001b[0;34m\u001b[0m\n\u001b[1;32m      2\u001b[0m \u001b[0mprobs_Y2_error\u001b[0m \u001b[0;34m=\u001b[0m \u001b[0;34m[\u001b[0m\u001b[0;34m]\u001b[0m\u001b[0;34m\u001b[0m\u001b[0;34m\u001b[0m\u001b[0m\n\u001b[1;32m      3\u001b[0m \u001b[0;34m\u001b[0m\u001b[0m\n\u001b[0;32m----> 4\u001b[0;31m \u001b[0;32mfor\u001b[0m \u001b[0mi\u001b[0m \u001b[0;32min\u001b[0m \u001b[0mrange\u001b[0m\u001b[0;34m(\u001b[0m\u001b[0mlen\u001b[0m\u001b[0;34m(\u001b[0m\u001b[0mtestset\u001b[0m\u001b[0;34m)\u001b[0m\u001b[0;34m)\u001b[0m\u001b[0;34m:\u001b[0m\u001b[0;34m\u001b[0m\u001b[0;34m\u001b[0m\u001b[0m\n\u001b[0m\u001b[1;32m      5\u001b[0m     \u001b[0mout\u001b[0m \u001b[0;34m=\u001b[0m \u001b[0mmodel\u001b[0m\u001b[0;34m(\u001b[0m\u001b[0mtestset\u001b[0m\u001b[0;34m[\u001b[0m\u001b[0mi\u001b[0m\u001b[0;34m]\u001b[0m\u001b[0;34m)\u001b[0m\u001b[0;34m\u001b[0m\u001b[0;34m\u001b[0m\u001b[0m\n\u001b[1;32m      6\u001b[0m     \u001b[0mprobs_Y2\u001b[0m \u001b[0;34m=\u001b[0m \u001b[0mtorch\u001b[0m\u001b[0;34m.\u001b[0m\u001b[0msoftmax\u001b[0m\u001b[0;34m(\u001b[0m\u001b[0mout\u001b[0m\u001b[0;34m,\u001b[0m\u001b[0;36m0\u001b[0m\u001b[0;34m)\u001b[0m\u001b[0;34m\u001b[0m\u001b[0;34m\u001b[0m\u001b[0m\n",
      "\u001b[0;31mNameError\u001b[0m: name 'testset' is not defined"
     ]
    }
   ],
   "source": [
    "error = []\n",
    "probs_Y2_error = []\n",
    "\n",
    "for i in range(len(testset)):\n",
    "    out = model(testset[i])\n",
    "    probs_Y2 = torch.softmax(out,0)\n",
    "    argmax_Y2 = torch.max(probs_Y2, 0)[1].view(-1, 1)\n",
    "    if  test_labels[i]!=argmax_Y2.float():\n",
    "        error.append(i)\n",
    "        probs_Y2_error.append(probs_Y2)"
   ]
  },
  {
   "cell_type": "code",
   "execution_count": 60,
   "metadata": {},
   "outputs": [
    {
     "name": "stdout",
     "output_type": "stream",
     "text": [
      "Number of Errors: 0\n"
     ]
    }
   ],
   "source": [
    "print('Number of Errors: {}'.format(len(error)))"
   ]
  },
  {
   "cell_type": "code",
   "execution_count": 66,
   "metadata": {},
   "outputs": [],
   "source": [
    "# GCN1_act[0].size(),GCN2_act[0].size(),graph_emb[0].size(),final_class[0]"
   ]
  },
  {
   "cell_type": "markdown",
   "metadata": {},
   "source": [
    "## End"
   ]
  }
 ],
 "metadata": {
  "kernelspec": {
   "display_name": "pytorch",
   "language": "python",
   "name": "pytorch"
  },
  "language_info": {
   "codemirror_mode": {
    "name": "ipython",
    "version": 3
   },
   "file_extension": ".py",
   "mimetype": "text/x-python",
   "name": "python",
   "nbconvert_exporter": "python",
   "pygments_lexer": "ipython3",
   "version": "3.8.2"
  },
  "toc": {
   "base_numbering": 1,
   "nav_menu": {},
   "number_sections": false,
   "sideBar": true,
   "skip_h1_title": false,
   "title_cell": "Table of Contents",
   "title_sidebar": "Contents",
   "toc_cell": false,
   "toc_position": {
    "height": "calc(100% - 180px)",
    "left": "10px",
    "top": "150px",
    "width": "266.818px"
   },
   "toc_section_display": true,
   "toc_window_display": true
  }
 },
 "nbformat": 4,
 "nbformat_minor": 4
}
